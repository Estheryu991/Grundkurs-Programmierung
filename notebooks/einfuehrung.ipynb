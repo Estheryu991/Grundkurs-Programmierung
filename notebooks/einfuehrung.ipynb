{
 "cells": [
  {
   "cell_type": "code",
   "execution_count": null,
   "id": "2fabceca-5ca7-4e16-b67b-c0df3e979f42",
   "metadata": {
    "tags": []
   },
   "outputs": [],
   "source": [
    "%%html\n",
    "\n",
    "<link rel=\"stylesheet\" href=\"../../assets/styles/style.css\">"
   ]
  },
  {
   "cell_type": "markdown",
   "id": "88cf8c45-723a-40b5-ad61-56c1efbc3801",
   "metadata": {
    "tags": []
   },
   "source": [
    "<img src=\"../../assets/img/DN.png\" style=\"float:right;width:150px\">\n",
    "\n",
    "Programmieren mit Esthi\n",
    "\n",
    "# Wie funktioniert *Programmieren*?\n",
    "\n",
    "Das ist ein \"Programmieren mit Esthi\". Aber was heisst überhaupt *Programmieren*? Unter Programmieren wird verstanden, dass einem Computer in einer sehr stark formalisierten Sprache, der sogenannten **Programmiersprache** Anweisungen gegeben werden, was er zu tun hat. Diese Programmiersprache wird mit Hilfe der Tastatur eingegeben (es gibt auch mehr \"mausbasierte\" Ansätze wie bspw. [Scratch](https://scratch.mit.edu/)). Die Gesamtheit dieser Befehle wird als **Programmcode**, **Quellcode**, **Quelltext** oder kurz einfach **Programm** bezeichnet. Solange Programmcode nur aufgeschrieben wird, passiert noch gar nichts. Der Computer beginnt erst mit dem sogenannten **Ausführen** resp. **Rendern** (bei HTML) dieses Programmcodes damit, diese Befehle schrittweise auszuführen. Dies ist jeweils der spannende Moment, wenn klar wird, ob der Programmcode das bewirkt, was beabsichtigt worden ist."
   ]
  },
  {
   "cell_type": "markdown",
   "id": "82ff9a00-c67a-4ddc-ac5a-8415462b75bf",
   "metadata": {
    "tags": []
   },
   "source": [
    "## Quellcode Beispiel (HTML)\n",
    "\n",
    "Nachfolgend ist ein Quellcode in HTML gegeben, der direkt im Jupyter Notebook ausgeführt werden kann:"
   ]
  },
  {
   "cell_type": "code",
   "execution_count": null,
   "id": "b646e284-7b08-4aef-a84d-1b892db4da9a",
   "metadata": {
    "tags": []
   },
   "outputs": [],
   "source": [
    "%%html\n",
    "\n",
    "<div class=\"html-output\">\n",
    "\n",
    "<table>\n",
    "    <tr>\n",
    "        <th>Hochschule</th>\n",
    "        <th>Abkürzung</th>\n",
    "        <th>Anzahl Studierende</th>\n",
    "        <th>Gründungsjahr</th>\n",
    "        <th>Website</th>\n",
    "    </tr>\n",
    "    <tr>\n",
    "        <td>ETH</td>\n",
    "        <td>SKKU</td>\n",
    "        <td>6979</td>\n",
    "        <td>1997</td>\n",
    "        <td><a href=\"https://www.skku.edu.\">skku.edu</a></td>\n",
    "    </tr>\n",
    "    <tr>\n",
    "        <td>ETH Zürich</td>\n",
    "        <td>ETH</td>\n",
    "        <td>3263</td>\n",
    "        <td>2005</td>\n",
    "        <td><a href=\"https://www.ethz.ch\">ethz.ch</a></td>\n",
    "    </tr>\n",
    "    <tr>\n",
    "        <td>Universität Bern</td>\n",
    "        <td>Uni Bern</td>\n",
    "        <td>19230</td>\n",
    "        <td>1834</td>\n",
    "        <td><a href=\"https://www.unibe.ch\">unibe.ch</a></td>\n",
    "    </tr>\n",
    "</table>\n",
    "\n",
    "</div>"
   ]
  },
  {
   "cell_type": "markdown",
   "id": "bcd7fe37-639f-4b12-bc21-888adb5e953d",
   "metadata": {},
   "source": [
    "## Quellcode Beispiel (Python)\n",
    "\n",
    "Nachfolgend ist ein Quellcode in Python gegeben, der direkt im Jupyter Notebook ausgeführt werden kann:"
   ]
  },
  {
   "cell_type": "code",
   "execution_count": null,
   "id": "031b6a8a-18ef-4415-963b-e841d2feb4c2",
   "metadata": {},
   "outputs": [],
   "source": [
    "from datetime import date\n",
    "\n",
    "today = date.today()\n",
    "\n",
    "print(\"Am\", today, \"ist nicht ein guter Tag, um mit dem Programmieren zu beginnen!\")"
   ]
  },
  {
   "cell_type": "markdown",
   "id": "7492a326-7678-4e6a-a527-a4effae3ca1d",
   "metadata": {},
   "source": [
    "# Das PRIMM Modell\n",
    "\n",
    "<a href=\"https://blog.teachcomputing.org/using-primm-to-structure-programming-lessons/\"><img src=\"https://blog.teachcomputing.org/content/images/2020/09/logo.png\" style=\"float:right;width:300px\"></a>\n",
    "\n",
    "\n",
    "Das pädagogische Konzept, auf dem der Grundkrus Programmieren aufgebaut ist, wird **PRIMM Modell** genannt. Die Erkenntnis dahinter ist, dass es ziemlich schwierig ist, direkt eigenen Programmcode zu schreiben und es diverse Vorstufen braucht, um damit vertraut zu werden. Dabei steht PRIMM für die Anfangsbuchstaben der benötigten Schritte beim Programmierenlernen:\n",
    "\n",
    "**P**redict, **R**un, **I**nvestigate, **M**odify, **M**ake\n",
    "\n",
    "Was damit gemeint ist:\n",
    "\n",
    "1. **P**redict: Versuche vorherzusagen, was ein bestimmter Programmcode bei der Ausführung bewirken wird.\n",
    "2. **R**un: Führe das Programm aus, um zu sehen, was tatsächlich passiert.\n",
    "3. **I**nvestigate: Versuche die einzelnen Elemente des Programmcodes und deren Auswirkung zu verstehen.\n",
    "4. **M**odify: Passe den Programmcode an und studiere die entsprechenden Auswirkungen.\n",
    "5. **M**ake: Schreibe nun deinen eigenen Code, der genau das macht, was du möchtest.\n",
    "\n",
    "Im Grundkurs Programmieren mit Esthi wird daher relativ viel fertiger Programmcode zur Verfügung gestellt, mit dem Hinweis, dass es wichtig ist, diesen nicht sofort auszuführen, sondern wirklich zuerst selbstständig darüber nachzudenken, was passieren wird. Wer diesen Schritt leichtfertig überspringt, bringt sich um einen grossen Teil des Lerneffekts (nach Ausführen des Programms ist es meist deutlich einfacher zu erklären, wieso das passiert ist, was passiert ist).\n",
    "\n",
    "Wer mehr über das Thema PRIMM lesen möchte, der sei folgende Quellen empfohlen: \n",
    "\n",
    "* Blog Post: [Quick Read: Using PRIMM to structure programming lessons](https://blog.teachcomputing.org/using-primm-to-structure-programming-lessons/)\n",
    "* Research Article: [Teaching computer programming with PRIMM: a sociocultural perspective](https://doi.org/10.1080/08993408.2019.1608781)"
   ]
  },
  {
   "cell_type": "markdown",
   "id": "c428e49f-4c1d-452a-8e6d-2ec514dfb25e",
   "metadata": {},
   "source": [
    "Demonstration für die Vorgehensweise nach PRIMM. Nachfolgender Python Quellcode ist gegeben:"
   ]
  },
  {
   "cell_type": "code",
   "execution_count": null,
   "id": "4ba4efcf-54b6-41cd-b8fe-4bce7ad6a730",
   "metadata": {},
   "outputs": [],
   "source": [
    "values = list(range(10))\n",
    "\n",
    "print(values)\n",
    "\n",
    "for value in values:\n",
    "    print(\"Der aktuelle Wert ist:\", value)"
   ]
  },
  {
   "cell_type": "markdown",
   "id": "20709de7-b094-40c1-acad-1fe9d2f2013d",
   "metadata": {},
   "source": [
    "* **P**redict: Wir wissen noch wenig über Programmieren, denken aber, dass irgendwas mit der Zahl '10' passieren wird und dass der Ausdruck 'Der aktuelle Wert ist:' irgendwie wieder auftauchen wird, wenn wir den Quellcode ausführen.\n",
    "* **R**un: Quellcode ausführen.\n",
    "* **I**nvestigate: Die Zahl '10' hat irgendwie wohl etwas damit zu tun, dass diese `values` von 0-9 gehen und dass der Text 'Der aktuelle Wert ist:' zehnaml vorkommt.\n",
    "* **M**odify: Wir passen mal den Wert für '10' an und schreiben etwas anderes für 'Der aktuelle Wert ist:' und fügen noch einen weiteren Text hinzu und schauen, was passiert:"
   ]
  },
  {
   "cell_type": "code",
   "execution_count": null,
   "id": "ebdaebf9-ba3c-4ea3-9868-9914fae3634d",
   "metadata": {},
   "outputs": [],
   "source": [
    "values = list(range(5))\n",
    "\n",
    "print(values)\n",
    "\n",
    "for value in values:\n",
    "    print(\"Die neue Zahl ist:\", value, \"eine wahrhaft schöne Zahl\")"
   ]
  },
  {
   "cell_type": "markdown",
   "id": "2a54920e-cf76-43ae-ae8e-818bc7e85516",
   "metadata": {},
   "source": [
    "Wir verstehen nun also etwas besser, was es mit diesem `list(range(x))` auf sich hat, hier wird irgendwie eine Reihe von Zahlen von '0' bis 'x-1' erzeugt und mit Hilfe dieser `for...` Konstruktion wird für jede von diesen Zahlen dieser bestimmte Text erzeugt, der sich nur durch den Wert der Zahl unterscheidet.\n",
    "* **M**odify: Jetzt möchten wir das Programm neu gestalten:"
   ]
  },
  {
   "cell_type": "code",
   "execution_count": null,
   "id": "44989bf1-ecde-4e79-8ee6-008997e033f3",
   "metadata": {},
   "outputs": [],
   "source": [
    "values = list(range(1,6))\n",
    "\n",
    "print(values)\n",
    "\n",
    "for value in values:\n",
    "    print(\"Das Quadrat der Zahl\", value, \"ist:\", value ** 2)"
   ]
  },
  {
   "cell_type": "markdown",
   "id": "1aedfaea-ec68-43e0-9837-6068f123082f",
   "metadata": {},
   "source": [
    "Dafür haben wir in der Dokumentation zu Python noch nachschauen müssen, wie wir `range()` so verwenden können, dass die erste Zahl nicht eine '0' ist und wir haben nachschauen müssen, wie man eine Zahl quadrieren kann."
   ]
  },
  {
   "cell_type": "markdown",
   "id": "1f22d3e3-af1d-4c49-8b21-74295c8eb238",
   "metadata": {},
   "source": [
    "# Jupyter Lab\n",
    "\n",
    "Jupyter Lab ist eine Software, die es erlaubt, mit sogenannten **interaktiven Notebooks** zu arbeiten. Interaktiv bezieht sich darauf, dass diese Notebooks Programmiercode beinhalten können, den man direkt im Notebook *bearbeiten* und *ausführen* kann. Man sieht also sofort das Resultat von dem, was man programmiert hat (was beim Programmieren keine Selbstverständlichkeit ist).\n",
    "\n",
    "Jupyter Lab ist eine Software, die für die Endanwenderin vollständig im **Webbrowser** funktioniert. Um Jupyter Lab aufzurufen, muss man also auf eine Webadresse klicken, dann öffnet sich nach einer Weile die Programmierumgebung in einem neuen Browserfenster. Damit das so funktioniert, muss auf einem anderen Computer, der ebenfalls ans Internet angeschlossen ist (man spricht hier von einem Server) relativ umfangreiche Software gestartet und ausgeführt werden. Für unseren Grundkurs Programmieren läuft diese Serversoftware auf [Renkulab](https://renkulab.io/), das vom [Swiss Data Science Center](https://datascience.ch/) betrieben wird.\n",
    "\n",
    "Diese Server Software kann prinzipiell auch auf dem eigenen Computer installiert und ausgeführt werden, man spricht dann von einer sogenannten **lokalen Installation**, die eigentliche Bedienung geschieht aber weiterhin über den Webbrowser."
   ]
  },
  {
   "cell_type": "markdown",
   "id": "cd8b2862-2d00-48c2-a3ff-b43a6fb45530",
   "metadata": {},
   "source": [
    "<div class=\"exercise\">\n",
    "\n",
    "<img src=\"../../assets/img/dumbbell.png\" class=\"exercise_image\">\n",
    "\n",
    "<span class=\"exercise_label\">Aufgabe</span>\n",
    "\n",
    "Schaue dir die [Dokumentation](https://jupyterlab.readthedocs.io/en/stable/index.html) von Jupyter Lab an und suche den Abschnitt zu den eigentlichen Notebooks. Schau dir ein paar Videos an und nutze dann die Suchfunktion, um etwas zum Thema Inhaltsverzeichnis (Table of Contents) zu erfahren.\n",
    "</div>"
   ]
  },
  {
   "cell_type": "markdown",
   "id": "32c0e2e2-5fda-481f-952c-3c14626795da",
   "metadata": {},
   "source": [
    "## Aufbau von Jupyter Lab\n",
    "\n",
    "Jupyter Lab besteht aus verschiedenen Elementen. Die drei wichtigsten sind (jeweils mit den englischen Originalbegriffen):\n",
    "\n",
    "* Hauptfenster / main work area (gelb)\n",
    "* Linke Seitenleiste / left sidebar (rot)\n",
    "* Menuleiste / menu bar (grün)\n",
    "\n",
    "<img src=\"../../assets/img/jl_interface.jpg\">\n",
    "\n",
    "Im Hauptfenster werden jeweils die eigentlichen Notebooks in separaten Tabs (analog zu Browser Tabs) angezeigt und bearbeitet. In der Menuleiste finden sich alle notwendigen Befehle, um mit den Notebooks zu arbeiten und in der linken Seitenleiste befinden sich wichtige Anzeigen, die man häufig im direkten Blickfeld haben möchte. Diese lassen sich über die ganz links befindlichen Buttons auswählen resp. kann mit einem erneuten Klick auf den aktiven Button die gesamte Seitenleiste ausgeblendet werden."
   ]
  },
  {
   "cell_type": "markdown",
   "id": "3af56177-f483-4a84-b730-68178bd91f99",
   "metadata": {},
   "source": [
    "## Notebookzellen\n",
    "\n",
    "Das Grundprinzip der interaktiven Notebooks ist, dass sich in ihnen verschiedene Inhalte wie Text, Bilder und Videos mit ausführbarem Quellcode kombinieren lassen. Das Notebook ist in sogenannten **Zellen** aufgebaut. Eine Zelle beinhaltet entweder:\n",
    "\n",
    "* *Inhalt* oder \n",
    "* *Quellcode*\n",
    "\n",
    "**Inhaltszellen** benutzen [Markdown](https://de.wikipedia.org/wiki/Markdown) als einfache Möglichkeit, das Layout des Textes anzupassen. \n",
    "\n",
    "**Quellcode Zellen** beinhalten Programmcode, der in verschiedenen Sprachen geschrieben sein kann. Der Name Jupyter rührt daher, dass drei Programmiersprachen fundamental unterstützt werden: **Ju**lia, **Pyt**hon und **R**.\n",
    "\n",
    "Diese Möglichkeit, Lerninhalte direkt mit Quellcode zu kombinieren (was im klassichen Programmieren so grundsätzlich nicht möglich ist) unterstützt das **PRIMM** Lernmodell besonders gut."
   ]
  },
  {
   "cell_type": "markdown",
   "id": "dd1b2b26-ac1e-4e32-b4c5-3229d47e5960",
   "metadata": {},
   "source": [
    "## Navigation durch ein Jupyter Notebook\n",
    "\n",
    "Einzelne Zellen lassen sich per Einfachklick auf die Zelle selektieren. Dies wird durch einen blauen Balken links von der Zelle angezeigt. Code Zellen sind danach sofort editierbar (Cursor ist am Ort, wo geklickt wurde). Um Markdown Inhaltszellen zu bearbeiten, braucht es einen Doppelklick. \n",
    "\n",
    "Um die Zellen auszuführen (Code: Programm wird ausgeführt, Inhalt: Markdown wird gerendert) kann man jederzeit während der Bearbeitung einer Zelle Shift+Enter drücken. Damit wird auch automatisch die nächste Zelle selektiert (wenn man nur die aktuelle Zelle ausführen will ohne die nächste zu selektieren, kann man Ctrl+Enter drücken).\n",
    "\n",
    "Aus programmiertechnischer Sicht ist es wichtig zu verstehen, dass alle Code Zellen eines Notebooks zusammenhängen. Wenn also in irgendeiner Zelle eine Variable definiert wurde, kann in einer anderen Zelle darauf zugegriffen werden. Es spielt dabei keine Rolle, ob die entsprechende Zelle weiter oben oder unten im Notebook auftaucht, allein die Reihenfolge der Ausführung ist entscheidend. Diese Ausführungsreihenfolge wird mit einer Nummer links von der Zelle in eckigen Klammern aufgeführt, sobald die Zelle ausgeführt wurde.\n",
    "\n",
    "Um das Inhaltsverzeichnis eines Notebooks zu sehen, muss im Bereich der linken Seitenleiste das Symbol mit den drei Punkten und Strichen <img src=\"../../assets/img/inhaltsverzeichnis.png\" width=\"25px\"> geklickt werden, dann öffnet sich ein Inhaltsverzeichnis. Dieses Inhaltsverzeichnis und auch das Dokument selbst kann durch Klicken auf den Knopf mit den Zahlen 1 bis 3 und den Strichen <img src=\"../../assets/img/nummerierung.png\" width=\"25px\"> dynamisch nummeriert werden."
   ]
  },
  {
   "cell_type": "markdown",
   "id": "de56b0f0-9d57-4b17-bab5-fe8c5ba86c41",
   "metadata": {},
   "source": [
    "## Unterschiede zwischen Jupyter Notebook und Jupyter Lab\n",
    "\n",
    "Das Jupyter Notebook ist grundsätzlich das eigentliche Dokument mit den Inhalten. Das Jupyter Lab stellt die \"Infrastruktur\" zur Verfügung, in welchem diese Jupyter Notebooks bearbeitet und ausgeführt werden können. Historisch gewachsen kann man aber auch die Notebooks ohne Lab direkt öffnen und bearbeiten (in einer weniger umfangreichen Anwendung). Wir nutzen aber Jupyter Lab für die Arbeit mit den Jupyter Notebooks. Wenn das Notebook plötzlich so ausschaut wie in der nachfolgenden Abbildung, dann seid ihr in der Direktansicht von Jupyter Notebook ausserhalb von Jupyter Lab gelandet. \n",
    "\n",
    "<img src=\"../../assets/img/nolab.jpg\">"
   ]
  },
  {
   "cell_type": "markdown",
   "id": "6ad0b0e4-ffcd-4798-a7ea-3bd039cc4f20",
   "metadata": {},
   "source": [
    "## Notebooks lokal speichern\n",
    "\n",
    "Da Jupyter Lab komplett browserbasiert ist, ist das Arbeiten mit Dateien etwas ungewöhnlich. Im **File Browser** in der linken Seitenleiste werden die zur Verfügung stehenden Dateien aufgelistet. Dies ist grundsätzlich keine Ansicht des lokalen Dateisystems auf dem Computer, sondern eine Ansicht der Dateien auf dem Server. Auf Dateien auf dem Server besteht grundsätzlich keine Schreibberechtigung, Änderungen die an Notebooks vorgenommen werden, lassen sich also nicht ganz einfach auf dem Server speichern (wir haben ja mehrere hundert Studierende, die auf die gleichen Dateien auf dem Server zugreifen möchten).\n",
    "\n",
    "Ein Ausweg besteht darin, geänderte Notebooks (und wir ermutigen ja sehr dazu, diese Notebooks anzupassen und damit zu experimentieren) auf den eigenen Computer *herunterzuladen*. Zuerst muss dafür das Notebook mit dem Menubefehl \"File/Save\" gespeichert werden. Anschliessend kann das Notebook mit dem Befehl \"File/Download\" auf den eigenen Computer gespeichert werden. Bitte beim Download den Dateinamen anpassen (bspw. 'Einfuehrung_meines.ipynb'). Danach kann das Notebook im lokalen Dateisystem gespeichert werden (am besten bildet man auf dem eigenen Computer dazu das Dateisystem mit der Ornderstruktur 'notebooks/xx_xx_xx' nach) und bei der nächsten Gelegenheit im File Browser über den Knopf \"Upload Files\" (Knopf mit Pfeil nach oben) wieder ins Jupyter Lab geladen werden. **Hierzu muss das Notebook File unbedingt wieder an den Ort hochgeladen werden, wo auch das Original war (unter 'notebooks/xx_xx_xx'). Ansonsten funktionieren die relativen Links (siehe später) nicht mehr richtig.**"
   ]
  },
  {
   "cell_type": "markdown",
   "id": "f8d89ba6-0fae-45b6-9238-497853c27a35",
   "metadata": {},
   "source": [
    "# Vorschau\n",
    "\n",
    "Nachfolgend zwei Zellen mit JavaScript und Python, um ein wenig \"gluschtig\" zu machen, was mit dem Wissen aus dem Grundkurs Programmieren alles möglich ist:"
   ]
  },
  {
   "cell_type": "markdown",
   "id": "7aa997af-c1c2-47ea-afd7-38abc2322b64",
   "metadata": {},
   "source": [
    "## JavaScript\n",
    "\n",
    "Nachfolgend ein Quellcode, der es ermöglicht, zu prüfen, ob eine Zahl eine Primzahl ist:"
   ]
  },
  {
   "cell_type": "code",
   "execution_count": null,
   "id": "61287621-8172-4b4d-8f5d-d3e457280662",
   "metadata": {},
   "outputs": [],
   "source": [
    "%%html\n",
    "\n",
    "<script>\n",
    "    function isPrime() {\n",
    "        var resNode = document.createElement(\"h1\");\n",
    "        number = document.getElementById(\"prime\").value;\n",
    "        if(isNaN(number)) {\n",
    "            alert(\"Wert muss eine Zahl sein\");\n",
    "        } else {\n",
    "            var test = 2;\n",
    "            var factorFound = false;\n",
    "            do {\n",
    "                if (number % test == 0) {\n",
    "                    factorFound = true;\n",
    "                } else {\n",
    "                    test++;\n",
    "                }\n",
    "            }\n",
    "            while(factorFound == false && test < number);\n",
    "            if(factorFound == true) {\n",
    "                resNode.innerHTML = number + \" ist keine Primzahl, sie hat den kleinsten Teiler \" + test + \"!\";\n",
    "            } else {\n",
    "                resNode.innerHTML = number + \" ist eine Primzahl!\";\n",
    "            }\n",
    "            document.getElementById(\"result\").appendChild(resNode);\n",
    "        }\n",
    "    }\n",
    "</script>\n",
    "\n",
    "\n",
    "<input type=\"text\" id=\"prime\">\n",
    "<input type=\"button\" value=\"Primzahl?\" onclick=\"isPrime()\">\n",
    "<div id=\"result\"></div>\n"
   ]
  },
  {
   "cell_type": "markdown",
   "id": "774e9e8a-0f0d-4d41-946b-210cc68b5349",
   "metadata": {},
   "source": [
    "## Python\n",
    "\n",
    "Folgender Python Quellcode stellt eine Matrix bestehend aus Zahlen als Bild dar."
   ]
  },
  {
   "cell_type": "code",
   "execution_count": null,
   "id": "64159296-d80c-48dd-ae5f-a0125c15019c",
   "metadata": {},
   "outputs": [],
   "source": [
    "%matplotlib inline\n",
    "\n",
    "import numpy as np\n",
    "from matplotlib import pyplot as plt\n",
    "\n",
    "array = np.random.randint(low = 0, high = 255, size = (10,10))\n",
    "print(array)\n",
    "\n",
    "plt.imshow(array, cmap = 'gray')"
   ]
  }
 ],
 "metadata": {
  "kernelspec": {
   "display_name": "Python 3 (ipykernel)",
   "language": "python",
   "name": "python3"
  },
  "language_info": {
   "codemirror_mode": {
    "name": "ipython",
    "version": 3
   },
   "file_extension": ".py",
   "mimetype": "text/x-python",
   "name": "python",
   "nbconvert_exporter": "python",
   "pygments_lexer": "ipython3",
   "version": "3.9.6"
  },
  "toc-autonumbering": true,
  "toc-showcode": false,
  "toc-showmarkdowntxt": false,
  "toc-showtags": false
 },
 "nbformat": 4,
 "nbformat_minor": 5
}
