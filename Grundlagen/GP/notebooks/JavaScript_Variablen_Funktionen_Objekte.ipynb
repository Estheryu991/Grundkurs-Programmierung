{
 "cells": [
  {
   "cell_type": "code",
   "execution_count": null,
   "id": "aff358b0-9480-459d-b149-6d577a98c014",
   "metadata": {},
   "outputs": [],
   "source": [
    "%%html\n",
    "\n",
    "<link rel=\"stylesheet\" href=\"../../assets/styles/style.css\">"
   ]
  },
  {
   "cell_type": "markdown",
   "id": "989fd871-948d-4e30-8ebb-a9d967273ea7",
   "metadata": {},
   "source": [
    "<img src=\"../../assets/img/DN.png\" style=\"float:right;width:150px\">\n",
    "\n",
    "JavaScript - Variablen, Funktionen und Objekte\n",
    "\n",
    "# JavaScript Einführung\n",
    "\n",
    "Während es mit Hilfe von HTML und CSS möglich ist, die Funktion und das Aussehen von Elementen zu gestalten, erlaubt **JavaScript**, diese Elemente interaktiv zu beeinflussen. Im Grundkurs Programmieren wird JavaScript ausschliesslich in Zusammenhang mit HTML Elementen und CSS verwendet und im Browser ausgeführt. JavaScript kann aber grundsätzlich auch eigenständig von HTML ausserhalb eines Browsers verwendet werden. Man spricht dann häufig von serverbasiertem JavaScript. Etwas zur Geschichte von JavaScript gibt es [hier](http://webkrauts.de/artikel/2015/eine-kurze-geschichte-von-javascript)."
   ]
  },
  {
   "cell_type": "markdown",
   "id": "25208c6c-186d-4d7f-ab44-0732f9df1b5c",
   "metadata": {},
   "source": [
    "## HTML und CSS mit Hilfe von JavaScript verändern\n",
    "\n",
    "Uns interessiert primär das Zusammenspiel von JavaScript, HTML und CSS. Nachfolgendes Beispiel zeigt, wie das Drücken eines HTML Buttons mit Hilfe von JavaScript ein Style verändert:"
   ]
  },
  {
   "cell_type": "code",
   "execution_count": null,
   "id": "7fb75811-885a-4bfb-997d-9e83f11e4ba5",
   "metadata": {},
   "outputs": [],
   "source": [
    "%%html\n",
    "\n",
    "<div class=\"html-output\">\n",
    "\n",
    "<p id=\"verfassung\"><a href=\"https://www.fedlex.admin.ch/eli/cc/1999/404/de\">Präambel aus der Bundesverfassung:</a> \n",
    "Im Namen Gottes des Allmächtigen!\n",
    "Das Schweizervolk und die Kantone,\n",
    "in der Verantwortung gegenüber der Schöpfung,\n",
    "im Bestreben, den Bund zu erneuern, um Freiheit und Demokratie, Unabhängigkeit und Frieden in Solidarität und Offenheit gegenüber der Welt zu stärken,\n",
    "im Willen, in gegenseitiger Rücksichtnahme und Achtung ihre Vielfalt in der Einheit zu leben,\n",
    "im Bewusstsein der gemeinsamen Errungenschaften und der Verantwortung gegenüber den künftigen Generationen,\n",
    "gewiss, dass frei nur ist, wer seine Freiheit gebraucht, und dass die Stärke des Volkes sich misst am Wohl der Schwachen,\n",
    "geben sich folgende Verfassung:</p>\n",
    "\n",
    "<button onclick=\"document.getElementById('verfassung').style.color = 'red'\">Bitte einfärben!</button>\n",
    "\n",
    "</div>"
   ]
  },
  {
   "cell_type": "markdown",
   "id": "6fd12af9-a772-4785-aa26-8ca336da446f",
   "metadata": {},
   "source": [
    "Im obigen Beispiel gibt es einen ganz normalen Paragraphen `<p>` dem ein ID Attribut `verfassung` zugewiesen ist. Im Arbeiten mit JavaScript sind IDs entscheidende Elemente, weil sie ermöglichen, ganz spezifisch auf bestimmte HTML Elemente zuzugreifen. Mit Hilfe des HTML Tags `<button>` wird ein Button erzeugt. Der entscheidende Teil passiert nun im Attribut `onclick`. Wie es dieser Name andeutet, wird dieser Teil ausgeführt, wenn der Button geklickt wird. Der Teil der danach folgt:\n",
    "\n",
    "`document.getElementById('verfassung').style.color = 'red'`\n",
    "\n",
    "ist nun zum ersten mal JavaScript Code. Es werden hier schon verschiedene Konzepte benutzt, die nun nach und nach weiter ausgeführt werden. Kurz zusammengefasst bewirkt dieser Code Folgendes: Mit Hilfe der **Funktion** `getElementById()` des **Objektes** `document`, wird ein HTML Element mit einer bestimmten ID ausgewählt, und zwar mit derjenigen ID, die wir in der Klammer der Funktion als **Parameter** angeben, hier also `'verfassung'`. Damit ist der Paragraph ausgewählt. Er wird als Objekt zurückgegeben. Mit Hilfe der Notation `.style.color` wird auf die **Eigenschaft** `color` des Objekts `style` (das wiederum ein Objekt unseres Paragraphen ist) zugegriffen und mit dem Gleichheitszeichen `=` wird dieser Eigenschaft eine **Zuweisung**, nämlich `'red'` gemacht, was den Paragraphen in roter Farbe erscheinen lässt."
   ]
  },
  {
   "cell_type": "markdown",
   "id": "07fd0b86-c0bd-4273-af86-aa43750f405e",
   "metadata": {},
   "source": [
    "<div class=\"exercise\">\n",
    "\n",
    "<img src=\"../../assets/img/dumbbell.png\" class=\"exercise_image\">\n",
    "\n",
    "<span class=\"exercise_label\">Aufgabe</span>\n",
    "    \n",
    "Erzeuge im nachfolgenden HTML Quelltext einen Button und dazu einen JavaScript Code, der beim Klick auf den Button die Schriftart des Paragraphen verändert.\n",
    "    \n",
    "Versuch mit Hilfe von Google die richtige Eigenschaft für das style-Objekt herauszufinden und wenn das nicht klappt, schau in der [Referenz](https://www.w3schools.com/jsref/dom_obj_style.asp) unter dem Stichwort 'font' nach.\n",
    "\n",
    "</div>"
   ]
  },
  {
   "cell_type": "code",
   "execution_count": null,
   "id": "1d48c884-2300-4429-96be-c424fc2ffaee",
   "metadata": {},
   "outputs": [],
   "source": [
    "%%html\n",
    "\n",
    "<div class=\"html-output\">\n",
    "\n",
    "<p id=\"js\">\n",
    "Aus der <a href=\"https://de.wikipedia.org/wiki/JavaScript\">Wikipedia:</a> 'JavaScript (kurz JS) ist eine Skriptsprache, die ursprünglich 1995 von Netscape für dynamisches HTML in Webbrowsern entwickelt wurde, \n",
    "um Benutzerinteraktionen auszuwerten, Inhalte zu verändern, nachzuladen oder zu generieren und so die Möglichkeiten von HTML \n",
    "zu erweitern. Heute wird JavaScript auch außerhalb von Browsern angewendet, etwa auf Servern und in Microcontrollern.'\n",
    "</p>\n",
    "\n",
    "<!-- Beginn eigener Code -->\n",
    "\n",
    "\n",
    "\n",
    "<!-- Ende eigener Code -->\n",
    "\n",
    "</div>"
   ]
  },
  {
   "cell_type": "markdown",
   "id": "765164e8-71e2-4757-8e23-4d31d59a7121",
   "metadata": {},
   "source": [
    "Nachfolgend ein Beispiel, wie auch der Inhalt eines HTML Elements mit Hilfe von JavaScript angepasst werden kann:"
   ]
  },
  {
   "cell_type": "code",
   "execution_count": null,
   "id": "1894a8fc-a600-4aae-b581-ce8437a78f9f",
   "metadata": {},
   "outputs": [],
   "source": [
    "%%html\n",
    "\n",
    "<div class=\"html-output\">\n",
    "\n",
    "<ul>\n",
    "    <li>Simonetta</li>\n",
    "    <li>Viola</li>\n",
    "    <li id=\"myItem\"></li>\n",
    "</ul>\n",
    "\n",
    "<button onclick=\"document.getElementById('myItem').innerHTML = 'Eveline'\">Bundesrätin hinzufügen!</button>\n",
    "\n",
    "</div>"
   ]
  },
  {
   "cell_type": "markdown",
   "id": "647a8c9d-cd20-484a-8f0a-b87fabf0bc45",
   "metadata": {},
   "source": [
    "Die Eigenschaft `innerHTML` bestimmt dabei mit Hilfe von JavaScript den Text innerhalb der entsprechenden umschliessenden HTML Tags, hier also innerhalb von `<li id=\"myItem\"></li>`."
   ]
  },
  {
   "cell_type": "markdown",
   "id": "42d13830-0ad8-4757-84e0-0280ef85df73",
   "metadata": {},
   "source": [
    "## Aufbau von JavaScript Code innerhalb von HTML Elementen\n",
    "\n",
    "Die obigen Beispiele sind etwas speziell dadurch, dass der eigentliche JavaScript Code im Attribut `onclick` des HTML Elements `<button>` hinterlegt ist. Im Normalfall wird jedoch JavaScript innerhalb des extra dafür vorgesehenen Tag `<script></script>` notiert. Eine Spezialität von Jupyter Lab ist es, dass es sinnvoll ist, den gesamten JavaScript Code innerhalb der `<script>` Tags noch in geschweifte Klammern `{}` zu notieren. Mehr dazu unten:"
   ]
  },
  {
   "cell_type": "code",
   "execution_count": null,
   "id": "c9867ee0-0288-4f77-8fcb-5cfdb14b4c83",
   "metadata": {},
   "outputs": [],
   "source": [
    "%%html\n",
    "\n",
    "<script>\n",
    "{\n",
    "    alert(\"Jetzt geht es los mit JavaScript\");\n",
    "}\n",
    "</script>"
   ]
  },
  {
   "cell_type": "markdown",
   "id": "2702e74d-a229-4cdb-813f-58fda9c3e758",
   "metadata": {},
   "source": [
    "Wo dieser `<script>` Tag innerhalb der anderen HTML Elemente eingeordnet wird, ist im Prinzip egal. Aus Übersichtsgründen lautet die Empfehlung: Tendentiell oben in der Zelle.\n",
    "\n",
    "Einzelne Anweisungszeilen werden in JavaScript mit dem Semikolon `;` abgeschlossen. Im Falle, dass das Semikolon vergessen geht, kann JavaScript häufig trotzdem erraten, wo eine Anweisung aufhöhrt und setzt im Hintergrund selbst ein Semikolon. Nichts desto trotz ist es gut, alle Anweisungsenden mit einem Semikolon abzuschliessen."
   ]
  },
  {
   "cell_type": "markdown",
   "id": "460a455a-b449-4940-a79f-0fac3edc676b",
   "metadata": {},
   "source": [
    "# Variablen\n",
    "\n",
    "Gegeben sei nachfolgendes Beispiel:"
   ]
  },
  {
   "cell_type": "code",
   "execution_count": null,
   "id": "5b575920-3ee6-4d92-b550-7d012b5b534a",
   "metadata": {},
   "outputs": [],
   "source": [
    "%%html\n",
    "\n",
    "<div class=\"html-output\">\n",
    "\n",
    "<script>\n",
    "{\n",
    "    document.getElementById('person1').innerHTML = \"Heute lernen wir Gabriela kennen\";\n",
    "    document.getElementById('lieblingsessen1').innerHTML = \"Pizza beglückt Gabriela\";\n",
    "    document.getElementById('hobby1').innerHTML = \"Gabriela spielt gerne Eishockey\";\n",
    "}\n",
    "</script>\n",
    "\n",
    "<h1 id=\"person1\"></h1>\n",
    "<h1 id=\"lieblingsessen1\"</h1>\n",
    "<h1 id=\"hobby1\"></h1>\n",
    "                \n",
    "</div>"
   ]
  },
  {
   "cell_type": "markdown",
   "id": "86ea2a19-6a19-42bb-b252-005958a27228",
   "metadata": {},
   "source": [
    "Das Beispiel oben funktioniert und gibt die entsprechenden Sätze als Überschrift aus. Mühsam wird es allerdings, wenn der Name der Person geändert werden soll (vielleicht haben wir Gabriela mit Fatima verwechselt). Dann müsste an allen Orten, 'Gabriela' durch 'Fatima' ersetzt werden. Solche Ersetzungen sind fehleranfällig. Geht das auch einfacher? Der Name der Person soll an einer einzigen Stelle festgehalten werden und dort, wo der Namen benötigt wird, soll nur noch auf diese zentrale Stelle verwiesen werden, wo der Namen definiert wurde. Das ist das Konzept von **Variablen**:"
   ]
  },
  {
   "cell_type": "code",
   "execution_count": null,
   "id": "985f8792-9e8a-4d49-beb5-bcd6252441cf",
   "metadata": {},
   "outputs": [],
   "source": [
    "%%html\n",
    "\n",
    "<div class=\"html-output\">\n",
    "\n",
    "<script>\n",
    "{\n",
    "    let name = \"Fatima\"\n",
    "    document.getElementById('person2').innerHTML = \"Heute lernen wir \" + name + \" kennen\";\n",
    "    document.getElementById('lieblingsessen2').innerHTML = \"Pizza beglückt \" + name;\n",
    "    document.getElementById('hobby2').innerHTML = name + \" spielt gerne Eishockey\";\n",
    "}\n",
    "</script>\n",
    "\n",
    "<h1 id=\"person2\"></h1>\n",
    "<h1 id=\"lieblingsessen2\"</h1>\n",
    "<h1 id=\"hobby2\"></h1>\n",
    "                \n",
    "</div>"
   ]
  },
  {
   "cell_type": "markdown",
   "id": "aa6cfb6a-2f70-46c0-a058-9cb85e903ca0",
   "metadata": {},
   "source": [
    "Im obigen Beispiel wurde eine Variable `name` mit Hilfe des Schlüsselwortes `let` **deklariert** und ihr mit Hilfe von `=` den Wert 'Fatima' zugewiesen. Anschliessend wurden die Sätze, die ausgegeben werden sollen, mit Hilfe dieser Variable neu definiert. Überall wo `name` steht, wird dann also bei der Ausgabe der entsprechende Wert eingesetzt. Eine allfällige Änderung dieses Wertes muss nun also nur noch an einem Ort vorgenommen werden."
   ]
  },
  {
   "cell_type": "markdown",
   "id": "c3646dc8-b04b-485f-a96f-1d9a3b468a14",
   "metadata": {},
   "source": [
    "## Zuweisung\n",
    "\n",
    "Der **Zuweisungsoperator** `=` entspricht nicht der Funktion des mathematischen Gleichheitszeichen, sondern bedeutet, dass der Variable links von `=` der Wert rechts von `=` zugewiesen wird. Wenn nun beispielsweise einer bestehenden Variable `temperatur` der bisherige Wert um die Zahl `1` erhöht zugewiesen werden soll, kann das zu - auf den ersten Blick - irritierenden Anweisungen führen:"
   ]
  },
  {
   "cell_type": "code",
   "execution_count": null,
   "id": "386a409c-65eb-4ec1-8299-19bdcd0871dc",
   "metadata": {},
   "outputs": [],
   "source": [
    "%%html\n",
    "\n",
    "<div class=\"html-output\">\n",
    "\n",
    "<script>\n",
    "{\n",
    "    let temperatur = 22;\n",
    "    temperatur = temperatur + 1;\n",
    "    document.getElementById('temp1').innerHTML = temperatur;\n",
    "}\n",
    "</script>\n",
    "\n",
    "<h1>Morgen wird es <span id=\"temp1\"></span> Grad warm</h1>\n",
    "                \n",
    "</div>"
   ]
  },
  {
   "cell_type": "markdown",
   "id": "ead81cb3-5af0-4737-8f5f-e6bb940947b2",
   "metadata": {},
   "source": [
    "Die Zeile `temperatur = temperatur + 1` macht nur Sinn, wenn das `=` eben nicht als Gleichheitszeichen sondern als Zuweisungsoperator verstanden wird: Der Variable `temperatur` wird neu der bisherige Wert der Variable `temperatur` um 1 erhöht zugewiesen. Also egal, was vorher `temperatur` als Wert zugewiesen war, der neue Wert ist der bisherige Wert erhöht um 1.\n",
    "\n",
    "Hinweis: Es ist wichtig, dass die verwendeten IDs über das gesamte Jupyter Notebook einzigartig sind (also nicht nur innerhalb einer Zelle), ansonsten kann es zu Problemen kommen, wenn mehrere HTML Elemente über die gleiche ID verfügen."
   ]
  },
  {
   "cell_type": "markdown",
   "id": "1183961d-2ee1-4e17-a5d9-68d3c2b868ad",
   "metadata": {},
   "source": [
    "## Verschiedene Möglichkeiten, eine Variable zu deklarieren\n",
    "\n",
    "Im Prinzip gibt es vier verschiedene Möglichkeiten, eine Variable zu deklarieren:\n",
    "\n",
    "* ohne Schlüsselwort\n",
    "* mit dem Schlüsselwort `let`\n",
    "* mit dem Schlüsselwort `var`\n",
    "* mit dem Schlüsselwort `const`\n",
    "\n",
    "Das Schlüsselwort `const` deklariert (wie der Name erahnen lässt), eine Konstante, also eine Variable, die nach ihrer Zuweisung nicht mehr verändert werden kann. Die drei anderen Möglichkeiten (kein Schlüsselwort, `let` und `var`) deklarieren alle Variablen. Der Unterschied je nach Deklaration ist der Gültigkeitsbereich dieser Variablen. Das entsprechende Konzept des **Scopes** einer Variable wird erst in Python vertieft eingeführt. Für den Moment soll die Empfehlung genügen, im Normalfall Variablen mit `let` zu deklarieren und den gesamten JavaScript Code in geschweifte Klammern `{}` zu verpacken. Die Kombination aus `let` innerhalb geschweifter Klammern bewirkt, dass die entsprechende Variable nur innerhalb dieser Klammern (Fachbegriff: innerhalb des **Blockes**) definiert ist. Somit lassen sich unerwünschte Rückwirkungen vermeiden - zur Erinnerung: Jupyter Lab ist eine Web-Applikation und als solche selbst stark aus JavaScript Elementen aufgebaut.\n",
    "\n",
    "Als Merkhilfe: `let a = 10` kann im Prinzip philosophisch so verstanden werden: \"Lass 'a' 10 sein\"."
   ]
  },
  {
   "cell_type": "markdown",
   "id": "d9d0e771-66e3-4645-80f0-06dd60057dad",
   "metadata": {},
   "source": [
    "## Variablentypen\n",
    "\n",
    "Beim Programmieren ist es entscheidend, von welchem **Typ** eine bestimmte Variable ist. Einerseits ist das für den Computer wichtig zu wissen, weil er für verschiedene Variablen unterschiedlich grossen Speicherplatz bereithalten muss und andererseits ist es für die Programmiererin wichtig, weil bestimmte Operationen nur mit bestimmten Typen von Variablen möglich sind. Im nachfolgenden Beispiel wird eine Variable vom Typ **number** definiert und eine vom Typ **string**. Grundsätzlich werden in Variablen vom Typ `number` Zahlen gespeichert und in Variablen vom Typ `string` sogenannte **Zeichenketten**, also eine Folge von Buchstaben, resp. ein Text. JavaScript muss bei der Deklaration einer Variable nicht gesagt werden, welcher Datentyp die Variable beinhalten soll, dies geschieht dynamisch durch die Zuweisung des entsprechenden Wertes:"
   ]
  },
  {
   "cell_type": "code",
   "execution_count": null,
   "id": "aac89f63-7470-4eb0-9d3a-f3277c5f42aa",
   "metadata": {},
   "outputs": [],
   "source": [
    "%%html\n",
    "\n",
    "<div class=\"html-output\">\n",
    "\n",
    "<script>\n",
    "{\n",
    "    let temperaturZahl = 22;\n",
    "    let temperaturWort = \"angenehm\";\n",
    "    document.getElementById('tempZahl').innerHTML = temperaturZahl + 2;\n",
    "    document.getElementById('tempWort').innerHTML = temperaturWort + 2;\n",
    "}\n",
    "</script>\n",
    "\n",
    "<h1>Morgen wird es <span id=\"tempZahl\"></span> Grad warm</h1>\n",
    "<h1>Morgen wird es <span id=\"tempWort\"></span> Grad warm</h1>\n",
    "                \n",
    "</div>"
   ]
  },
  {
   "cell_type": "markdown",
   "id": "4f6c0d5e-64cd-4bf2-ae26-4ca09958fecb",
   "metadata": {},
   "source": [
    "Im obigen Beispiel ist es nun interessant zu sehen, dass die Operation `+` je nach Variablentyp etwas anderes bewirkt. Werden zwei Werte vom Typ `number` addiert, entspricht dies der mathematischen 'Addition'. Werden aber ein Wert vom Typ `number` und einer vom Typ `string` addiert, entspricht dies der sogenannten **String Konkatenation** (die uns oben schon begegnet ist). Das heisst, der Wert vom Typ `number` wird als `string` interpretiert und die beiden Strings werden einfach \"aneinandergeklebt\". `\"angenehm\" + 2`ergibt also einfach einen neuen `string` `\"angenehm2\"`."
   ]
  },
  {
   "cell_type": "markdown",
   "id": "3c9c3208-cdae-429c-ab11-9e29bf7af480",
   "metadata": {},
   "source": [
    "## Die Benutzung von Anführungszeichen in JavaScript\n",
    "\n",
    "In den obigen Beispielen sind für gewisse Worte einfache Anführungszeichen `'`, für andere doppelte Anführungszeichen `\"` und für andere gar keine verwendet worden. Was hat es damit auf sich?\n",
    "\n",
    "Grundsätzlich werden Anführungszeichen verwendet, um einen `string` zu kennzeichnen. Damit kann JavaScript unterscheiden, dass mit `temperatur` eine Variable gemeint ist und mit `\"temperatur\"` ein `string`. Bei Werten vom Typ `number` ist diese Unterscheidung nicht nötig, weil Variablen nicht mit einer Zahl (ohne Buchstaben) benannt werden können.\n",
    "\n",
    "Ob für diese Unterscheidung doppelte oder einfach Anführungszeichen verwendet werden, ist egal. Diese Frage wird erst entscheidend, wenn innerhalb eines `string` Anführungszeichen verwendet werden sollen:"
   ]
  },
  {
   "cell_type": "code",
   "execution_count": null,
   "id": "d1f22cd9-ba7e-4d9f-aa8f-005be6d66a9a",
   "metadata": {},
   "outputs": [],
   "source": [
    "%%html\n",
    "\n",
    "<div class=\"html-output\">\n",
    "\n",
    "<script>\n",
    "{\n",
    "    let zitat = \"Angela hat gesagt: 'Wir schaffen das!'\";\n",
    "    document.getElementById('zitat').innerHTML = zitat;\n",
    "}\n",
    "</script>\n",
    "\n",
    "<h1>Berühmte Zitate: <span id=\"zitat\"></span></h1>\n",
    "                \n",
    "</div>"
   ]
  },
  {
   "cell_type": "markdown",
   "id": "9533f89e-e135-44b8-a0c0-9b5f199399b9",
   "metadata": {},
   "source": [
    "Im obigen Beispiel muss für das Zitat einfache Anführungszeichen verwendet werden, weil dieses innerhalb eines `string` steht. Der `string` hätte aber auch in einfachen Anführungszeichen stehen können und das Zitat in doppelten. Was aber nicht geht:"
   ]
  },
  {
   "cell_type": "code",
   "execution_count": null,
   "id": "93a16e04-0a1e-4e5c-8cff-1d5395c846ab",
   "metadata": {},
   "outputs": [],
   "source": [
    "%%html\n",
    "\n",
    "<div class=\"html-output\">\n",
    "\n",
    "<script>\n",
    "{\n",
    "    let zitat = \"Angela hat gesagt: \"Wir schaffen das!\"\";\n",
    "    document.getElementById('zitat2').innerHTML = zitat;\n",
    "}\n",
    "</script>\n",
    "\n",
    "<h1>Berühmte Zitate: <span id=\"zitat2\"></span></h1>\n",
    "                \n",
    "</div>"
   ]
  },
  {
   "cell_type": "markdown",
   "id": "317f6091-388d-42a9-8ba4-be7f00864626",
   "metadata": {},
   "source": [
    "Im obigen Beispiel wird klar, dass JavaScript in Zusammenhang mit HTML einfach versucht, möglichst das umzusetzen, was der Programmierer eingetippt hat, klappt das nicht (weil das Programm wie hier bspw. syntaktische Fehler enthält), \"stürzt\" der Browser nicht einfach ab, aber der Output entspricht nicht dem Erwarteten.\n",
    "\n",
    "Um Fehler besser finden zu können, kann es sinnvoll sein, etwas genauer in den Ablauf der JavaScript Codeausführung zu blicken. Dies kann mit Hilfe der **Werkzeuge für Web-Entwickler** (Firefox) resp. **Entwicklertools** (Chrome) stattfinden. Diese Werten über das Browser Menu oben Rechts (Firefox: 3 horizontale Striche; Chrome: 3 übereinanderstehende Punkte) aufgerufen. Unter dem Tab 'Console' werden JavaScript Fehlermeldungen ausgegeben. Für das obige Beispiel schaut die Fehlermeldung in Firefox folgendermassen aus:\n",
    "\n",
    "<img src=\"img/error.jpg\">\n",
    "\n",
    "Diese Fehlermeldungen sind nicht immer sofort und einfach zu interpretieren, im Falle von `unexpected token` ist aber typischerweise ein Anführungszeichen oder eine Klammer vergessen gegangen."
   ]
  },
  {
   "cell_type": "markdown",
   "id": "f0109056-71c6-4b25-87ca-2ee955ddafc1",
   "metadata": {},
   "source": [
    "## Weitere Infos zu Variablen\n",
    "\n",
    "* [W3Schools](https://www.w3schools.com/js/js_variables.asp)"
   ]
  },
  {
   "cell_type": "markdown",
   "id": "8954cb20-33b0-41c9-9ffd-ddb4aed2fcb7",
   "metadata": {},
   "source": [
    "# Funktionen\n",
    "\n",
    "Neben Variablen sind **Funktionen** ein weiteres fundamentales Konzept, welches anhand des nachfolgenden Gedankenexperiments eingeführt werden soll:\n",
    "\n",
    "Eine Möbelschreinerin habe einen Tisch entwickelt, den sie nun für verschiedene Käuferinnen herstellen möchte. Die Kundin bestellt also bei der Schreinerin einen Tisch und sagt: Ich will einen Tisch. Nach ein paar Wochen Arbeit erhält die Kundin ihren Tisch geliefert.\n",
    "\n",
    "In diesem gedanklichen Beispiel stecken schon viele Ideen von Funktionen mit drin:\n",
    "\n",
    "* eine Funktion besteht aus einer **Funktionsdefinition**, die eine Reihe von Anweisungen beinhaltet (wie baue ich den Tisch)\n",
    "* eine Funktion muss **aufgerufen** werden (die Bestellung muss ausgelöst werden), damit etwas passiert\n",
    "* nach Abarbeitung aller Anweisungen wird ein **Rückgabewert** (ein Tisch) an die Funktionsaufruferin zurückgegeben (der Tisch wird abgeliefert)\n",
    "\n",
    "Um das Beispiel in JavaScript nachzuvollziehen, erstellen wir keinen Tisch, sondern programmieren eine Funktion, die Zahlen quadriert:"
   ]
  },
  {
   "cell_type": "code",
   "execution_count": null,
   "id": "2a4aaa1a-7e2c-434c-95ea-e3312ef6579e",
   "metadata": {},
   "outputs": [],
   "source": [
    "%%html\n",
    "\n",
    "<div class=\"html-output\">\n",
    "\n",
    "<script>\n",
    "{\n",
    "    function quadriereZahl() {\n",
    "        let zahl = 25;\n",
    "        let quadrat = zahl * zahl;\n",
    "        return quadrat;\n",
    "    }\n",
    "    \n",
    "    let result = quadriereZahl();\n",
    "    document.getElementById('quadrat1').innerHTML = result;\n",
    "}\n",
    "</script>\n",
    "\n",
    "<p>Das Resultat ist: <span id=\"quadrat1\"></span></p>\n",
    "        \n",
    "</div>"
   ]
  },
  {
   "cell_type": "markdown",
   "id": "1011098d-8c48-44d6-8fe8-979325fb4a06",
   "metadata": {},
   "source": [
    "Obiges Beispiel Schritt für Schritt erklärt:\n",
    "\n",
    "* zuerst folgt die Funktionsdefinition, die mit dem Schlüsselwort **function** eröffnet wird\n",
    "* danach folgt der Name der Funktion `quadriereZahl`, der beliebig gewählt werden kann\n",
    "* nach dem Funktionsname folgt eine runde Klammer `()` (Zweck siehe weiter unten)\n",
    "* danach folgt wiederum innerhalb von geschweiften Klammern `{}` die eigentliche Funktionsdefinition\n",
    "* als Abschluss der Funktionsdefinition wird mit dem Schlüsselwort `return` festgelegt, welcher Wert die Funktion zurückgeben soll\n",
    "* nach der Funktionsdefinition folgt die Deklaration einer Variable `result`, der durch Aufruf der Funktion der Rückgabewert der Funktion zugewiesen wird\n",
    "* abschliessend wird der Wert der Variable `result` dem `<span>` Tag zugewiesen"
   ]
  },
  {
   "cell_type": "markdown",
   "id": "bdf89a66-a4d2-4f52-b79d-092cba2fde42",
   "metadata": {},
   "source": [
    "## Funktionen mit Parametern"
   ]
  },
  {
   "cell_type": "markdown",
   "id": "b9461ab1-a233-4127-aaed-7c64fc5dd158",
   "metadata": {},
   "source": [
    "Jetzt ist die Idee, immer die Zahl '25' zu quadrieren nicht sehr nutzenstiftend. Oder um es in der Welt der Möbelschreinerei auszudrücken: Nicht jede Kundin will den genau gleichen Tisch. Die Schreinerin könnte sich dazu entscheiden, den Kundinnen offen zu lassen, wie lange der Tisch sein soll. Somit müsste ihre Arbeitsanweisungen eine gewisse Flexibilität aufweisen (die Länge des Tisches muss individuell sein) und bei der Bestellung muss die Kundin eine zusätzliche Information übergeben, nämlich die Länge des Tisches. Umgesetzt auf unser mathematisches Beispiel bedeutet das, wir wollen die zu quadrierende Zahl nicht mehr fix bei '25' festlegen, sondern wir möchten beim Aufruf der Funktion diese mitliefern können. Dafür können Funktionen **Parameter** aufweisen:"
   ]
  },
  {
   "cell_type": "code",
   "execution_count": null,
   "id": "8a01fc1c-e1ba-4c2e-8fc4-1f3714a7b8ff",
   "metadata": {},
   "outputs": [],
   "source": [
    "%%html\n",
    "\n",
    "<div class=\"html-output\">\n",
    "\n",
    "<script>\n",
    "{\n",
    "    function quadriereZahl(zahl) {\n",
    "        let quadrat = zahl * zahl;\n",
    "        return quadrat;\n",
    "    }\n",
    "    \n",
    "    let result = quadriereZahl(45);\n",
    "    document.getElementById('quadrat2').innerHTML = result;\n",
    "    document.getElementById('quadrat3').innerHTML = quadriereZahl(123);\n",
    "}\n",
    "</script>\n",
    "\n",
    "<p>Das erste Resultat ist: <span id=\"quadrat2\"></span></p>\n",
    "<p>Das zweite Resultat ist: <span id=\"quadrat3\"></span></p>\n",
    "        \n",
    "</div>"
   ]
  },
  {
   "cell_type": "markdown",
   "id": "da737cf7-80b3-4205-8d09-d57d199ee550",
   "metadata": {},
   "source": [
    "Im Vergleich zur ersten Funktion `quadriereZahl` beinhaltet diese nun einen Parameter, nämlich `zahl`. Für diesen Parameter können wir beim Funktionsauruf einen Wert festlegen `quadriereZahl(45)` heisst also, dass die Funktion so aufgerufen werden soll, dass innerhalb der Funktion überall für `zahl` der Wert '45' eingesetzt werden soll. Damit ist die Funktion sehr viel flexibler einsetzbar und für `zahl` ist keine Deklaration und Wertzuweisung innerhalb der Funktion mehr nötig. \n",
    "\n",
    "Beim zweiten Aufruf der Funktion sehen wir, dass wir den Rückgabewert nicht unbedingt zuerst in einer Variable zwischengespeichert werden muss, sondern dass er direkt dem `<span>` zugewiesen werden kann."
   ]
  },
  {
   "cell_type": "markdown",
   "id": "d53c5efc-3a4b-4553-a0d8-7c05a0fc6d59",
   "metadata": {
    "tags": []
   },
   "source": [
    "## Vordefinierte Funktionen verwenden\n",
    "\n",
    "JavaScript stellt eine Reihe von vordefinierte Funktionen zur Verfügung, die aufgerufen werden können, ohne dass sie zuerst definiert werden müssen. Ein paar Beispiele:\n",
    "\n",
    "* `alert()` erzeugt eine Warnmeldung mit einem beliebigen Text, der als Parameter übergeben werden kann\n",
    "* `Math.random()` gibt eine Zufallszahl zwischen 0 und 1 zurück (die Funktion `random()` ist ein Teil des `Math` Objektes und muss deshalb mit `Math.` aufgerufen werden (siehe unten)\n",
    "* `getElementById()` gibt ein HTML Element mit der als Parameter übergebenen ID zurück"
   ]
  },
  {
   "cell_type": "markdown",
   "id": "04576f6d-76f5-413b-9d6e-c485e521ac8e",
   "metadata": {},
   "source": [
    "<div class=\"exercise\">\n",
    "\n",
    "<img src=\"../../assets/img/dumbbell.png\" class=\"exercise_image\">\n",
    "\n",
    "<span class=\"exercise_label\">Aufgabe</span>\n",
    "    \n",
    "Nutze die vordefinierte Funktion `Math.random()`, um innerhalb des `<span>` Tags eine Zufallszahl zwischen 0 und 1 auszugeben. Ist dafür ein Parameter nötig?\n",
    "\n",
    "</div>"
   ]
  },
  {
   "cell_type": "code",
   "execution_count": null,
   "id": "63925c1a-a495-4907-b7f4-98f3e22f6f44",
   "metadata": {},
   "outputs": [],
   "source": [
    "%%html\n",
    "\n",
    "<div class=\"html-output\">\n",
    "\n",
    "<!-- Beginn eigener Code -->\n",
    "\n",
    "\n",
    "\n",
    "<!-- Ende eigener Code -->\n",
    "\n",
    "<p>Meine Zufallszahl: <span id=\"zufall1\"></span></p>\n",
    "        \n",
    "</div>"
   ]
  },
  {
   "cell_type": "markdown",
   "id": "3f1f2507-cc97-4497-b192-f66b09946c38",
   "metadata": {
    "tags": []
   },
   "source": [
    "## Weitere Infos zu Funktionen\n",
    "\n",
    "* [W3Schools](https://www.w3schools.com/js/js_functions.asp)"
   ]
  },
  {
   "cell_type": "markdown",
   "id": "fd3bacb0-c517-4ff5-8fd2-ceb810731bda",
   "metadata": {},
   "source": [
    "# Objekte\n",
    "\n",
    "**Objekte** sind ein weiteres grundlegendes Konzept beim Programmieren. Letztlich ist fast alles in JavaScript ein Objekt. Insbesondere sind Variablen und Funktionen Objekte. Für den Moment ist vor allem von Bedeutung, dass JavaScript Objekte über **Eigenschaften** (Englisch: 'Properties') und **Methoden** (Englisch: 'Methods') verfügen.\n",
    "\n",
    "Bei einem Vergleich mit der physischen Welt könnte man als Objekt bspw. ein Schraubenzieher untersuchen. Ein Schraubenzieher hat bestimmte Eigenschaften, nämlich die Form (Schlitz/Kreuz/Torx...), die Grösse (1/2/3...) und die Farbe und er verfügt über bestimmte Methoden, die man in der realen Welt vielleicht besser mit Fähigkeiten übersetzen würde: Ein Schraubenzieher kann Schrauben rein- und rausdrehen und er kann zum Kratzen, Stemmen und Hämmern verwendet werden."
   ]
  },
  {
   "cell_type": "markdown",
   "id": "e034fd30-2b9d-4611-bebe-9ab17764f788",
   "metadata": {},
   "source": [
    "## Eigenschaften\n",
    "\n",
    "Um auf die **Eigenschaften** von JavaScript Objekten zugreifen zu können, müssen sie folgendermassen aufgerufen werden: `objektname.eigenschaftsname`. Wie oben erwähnt, sind auch Variablen Objekte und wenn eine Zeichenkette als Variable gespeichert werden soll, stellt dies ein `string` Objekt dar. Dieses Objekt hat beispielsweise die Eigenschaft `length`, die die Länge der Zeichenkette repräsentiert:"
   ]
  },
  {
   "cell_type": "code",
   "execution_count": null,
   "id": "ff9de210-64bd-4a17-b157-d42db7221929",
   "metadata": {},
   "outputs": [],
   "source": [
    "%%html\n",
    "\n",
    "<div class=\"html-output\">\n",
    "\n",
    "<script>\n",
    "{\n",
    "    let city = \"Kerenzerberg\";\n",
    "    document.getElementById(\"cityLength\").innerHTML = city.length;\n",
    "    \n",
    "}\n",
    "</script>\n",
    "\n",
    "<h1>Anzahl Zeichen: <span id=\"cityLength\"></span></h1>\n",
    "        \n",
    "</div>"
   ]
  },
  {
   "cell_type": "markdown",
   "id": "65f4fde7-610c-4cb9-bd10-6131c6315d2a",
   "metadata": {},
   "source": [
    "Im obigen Beispiel wird also auf die Eigenschaft `length` des Objekts `city` zugegriffen. Durch die Zuweisung der Zeichenkette `\"Kerenzerberg\"` zur Variable `city` wurde ein `string` Objekt erzeugt."
   ]
  },
  {
   "cell_type": "markdown",
   "id": "fbf09df8-3e8f-4700-9aa1-91e90eefedd5",
   "metadata": {},
   "source": [
    "## Methoden\n",
    "\n",
    "**Methoden** sind ein Spezialfall von Funktionen. Sie gehören zu einem bestimmten Objekt und sind nur im Zusammenhang mit diesem Objekt anwendbar. Sie werden folgendermassen aufgerufen: `objektname.methodenname()`. Eine wichtige Gruppe von Methoden sind diejenigen, die von `string` Objekten aufgerufen werden können:"
   ]
  },
  {
   "cell_type": "code",
   "execution_count": null,
   "id": "44988cd1-0b85-4415-8f88-b723fe7d4d48",
   "metadata": {},
   "outputs": [],
   "source": [
    "%%html\n",
    "\n",
    "<div class=\"html-output\">\n",
    "\n",
    "<script>\n",
    "{\n",
    "    let name = \"Kateryna\";\n",
    "    document.getElementById(\"nameToUpper\").innerHTML = name.toUpperCase();\n",
    "    \n",
    "}\n",
    "</script>\n",
    "\n",
    "<h1 id=\"nameToUpper\"></h1>\n",
    "        \n",
    "</div>"
   ]
  },
  {
   "cell_type": "markdown",
   "id": "5f383a57-9a66-4fc0-b31c-eeb9468fa291",
   "metadata": {},
   "source": [
    "Im obigen Beispiel wird der Variable `name` eine Zeichenkette zugewiesen (also ein `string`). Damit können auf diesen `string` alle 'string-Methoden' angewandt werden. Dazu gehört bspw. `toUpperCase()`, welche den dazugehörigen String in Grossbuchstaben umwandelt. Weil die Methode an das `string` Objekt `name` \"gekoppelt\" ist, braucht der entsprechende `string` der Funktion auch nich als Parameter übergeben zu werden.\n",
    "\n",
    "Weitere Beispiele für `string` Methoden:\n",
    "\n",
    "* `slice()` gibt einen Teilstring zurück (Anfang und Ende als Parameter übergeben)\n",
    "* `replace()` ersetzt einen Teil des Strings durch einen anderen String\n",
    "* `toLowerCase()` gibt den String in Kleinbuchstaben zurück\n",
    "* `trim()` löscht Leerzeichen am Anfang und Ende des Strings"
   ]
  },
  {
   "cell_type": "markdown",
   "id": "b4ae6294-09be-4ac8-ace5-2dc8a001e874",
   "metadata": {},
   "source": [
    "## Punkt Notation"
   ]
  },
  {
   "cell_type": "markdown",
   "id": "002205e8-4a3a-4b28-8f2f-8f461dc8e900",
   "metadata": {},
   "source": [
    "Die JavaScript **Punkt-Notation** (Englisch: 'Dot Notation') wurde oben implizit schon verwendet. Mit Hilfe dieser Notation kann nicht nur auf Eigenschaften und Methoden von Objekten zugegriffen werden, es können auch die Rückgabewerte von Methoden (typischerweise wieder ein Objekt) weiter angesprochen werden: Mit dem JavaScript Code `document.getElementById('id').innerHTML = 'xyz'` wird die Funktion `getElementById()` des Objekts `document` ausgeführt, der Rückgabewert ist das Objekt, welches die ID `'id'` aufweist und dieses Objekt hat eine Eigenschaft `innerHTML` die durch eine Zuweisung verändert werden kann.\n",
    "\n",
    "Solche Punkt-Notationen können letztlich beliebig lange werden, weil Objekte beliebig ineinander verschachtelt werden können. Jede Eigenschaft kann wieder ein Objekt sein und jede Methode kann ein Objekt zurückgeben."
   ]
  },
  {
   "cell_type": "markdown",
   "id": "5e1b424e-a26b-4df1-86ad-5c2cace245e4",
   "metadata": {
    "tags": []
   },
   "source": [
    "## Input\n",
    "\n",
    "Um interessantere JavaScript Programme zu erzeugen, ist es wichtig, Möglichkeiten kennen zu lernen, Eingaben einer Benutzerin abzufragen und dementsprechend darauf zu reagieren. Dies kann bspw. durch das Auslesen von HTML Formularfeldern geschehen. Dabei geht es darum, die Eigenschaft `value` des Formularfeldobjektes auszulesen:"
   ]
  },
  {
   "cell_type": "code",
   "execution_count": null,
   "id": "f3772459-1e4b-467f-9cad-0c17b2519a6e",
   "metadata": {},
   "outputs": [],
   "source": [
    "%%html\n",
    "\n",
    "<div class=\"html-output\">\n",
    "\n",
    "<script>\n",
    "{\n",
    "    function checkName() {\n",
    "        let name = document.getElementById('nameID').value;\n",
    "        document.getElementById('nameResult').innerHTML = name + \" ist ein sehr schöner Name!\";\n",
    "    }\n",
    "}\n",
    "</script>\n",
    "\n",
    "<p><input type=\"text\" id=\"nameID\"></p>\n",
    "<p><button id=\"nameButton\" onclick=\"checkName()\">Name untersuchen!</button></p>\n",
    "<h1 id=\"nameResult\"></h1>\n",
    "        \n",
    "</div>"
   ]
  },
  {
   "cell_type": "markdown",
   "id": "af7ef360-c97a-41a8-9c56-26f2fcde6d12",
   "metadata": {},
   "source": [
    "Im obigen Beispiel wird ein HTML Formularfeld erstellt, welches Text aufnehmen kann und dieses erhält die ID `nameID`. Um den Inhalt dieses Textfeldes in JavaScript auszulesen wird die bereits bekannte `getElementById()` Funktion verwendet. Um auf den eigentlichen Text zuzugreifen, muss die `value` Eigenschaft dieses Objektes ausgelesen werden (das Objekt beinhaltet auch noch weitere Eigenschaften, die hier aber nicht relevant sind).\n",
    "\n",
    "Weiter zeigt obiges Beispiel die Möglichkeit, eine JavaScript Funktion mit Hilfe des `onclick` Attributes des HTML Buttons aufzurufen, indem für dieses Attribut der Funktionsname eingesetzt wird."
   ]
  },
  {
   "cell_type": "markdown",
   "id": "5baa6000-f1b5-4261-ae95-29e112abe53b",
   "metadata": {},
   "source": [
    "## Wertübergabe\n",
    "\n",
    "Das Verständnis zu entwickeln, wie Parameter übergeben werden und wie Werte über verschiedene Variablen \"weitergereicht\" werden, ist anspruchsvoll. Darum nochmals nachstehend ein absichtlich kompliziertes Beispiel, anhand dessen die \"Wertübergabe\" nochmals nachvollzogen werden soll:"
   ]
  },
  {
   "cell_type": "code",
   "execution_count": null,
   "id": "9862fba7-efa0-4a82-ac40-b41a42fc178f",
   "metadata": {},
   "outputs": [],
   "source": [
    "%%html\n",
    "\n",
    "<div class=\"html-output\">\n",
    "\n",
    "<!-- Beginn eigener Code -->\n",
    "\n",
    "<script>\n",
    "{\n",
    "    function concatString(string1, string2) {\n",
    "        document.getElementById('stringResult').innerHTML = string1 + \" \" + string2;\n",
    "    }\n",
    "}\n",
    "</script>\n",
    "\n",
    "<!-- Ende eigener Code -->\n",
    "\n",
    "<p>String 1: <input type=\"text\" id=\"string1ID\"></p>\n",
    "<p>String 2: <input type=\"text\" id=\"string2ID\"></p>\n",
    "<p><button id=\"nameButton\" onclick=\"concatString(document.getElementById('string1ID').value, document.getElementById('string2ID').value)\">Strings Konkatenieren</button></p>\n",
    "<h1 id=\"stringResult\"></h1>"
   ]
  },
  {
   "cell_type": "markdown",
   "id": "151440d4-561c-4400-bfa2-de7f55f67e14",
   "metadata": {},
   "source": [
    "Im obigen Beispiel wird also die Funktion `concatString(string1, string2)` definiert (Funktionen können über beliebig viele Parameter verfügen, die durch `,` getrennt werden). Das heisst nun also, wann immer die Funktion aufgerufen wird, wird derjenige Wert, der als erstes in der Klammer angegeben wird, innerhalb der Funktion unter dem Variablenname `string1` verfügbar sein und entsprechend der zweite Wert als `string2`. Bei einem Aufruf mit `concatString(\"Welt\", \"Friede\")` wird also überall in der Funktion `string1` mit `\"Welt\"` und `string2` mit `\"Friede\"` ersetzt werden. \n",
    "\n",
    "Wenn die Funktion nicht mit Zeichenketten, sondern mit Variablen aufgerufen wird, also beispielsweise `concatString(myString1, myString2)` wird der Wert von `myString1` innerhalb der Funktion unter `string1` verfügbar sein, entsprechend auch der zweite Parameter.\n",
    "\n",
    "Noch etwas komplizierter wird es, wenn die Funktion weder mit einer Zeichenkette, noch mit einer Variable aufgerufen wird. Dieser Fall tritt im obigen Beispiel ein. Das `onclick` Attribut des HTML Buttons beinhaltet den folgenden Funktionsaufruf: `concatString(document.getElementById('string1ID').value, ...` Dies bedeutet nichts anderes, als dass der Wert für den Parameter zuerst mit Hilfe von `document.getElementById('string1ID').value` ausgelesen wird (und zwar mit Hilfe der Methode `getElementById()` des `document` Objektes und aus dem zurückgegebenen Objekt dieser Methode wird die `value` Eigenschaft rausgelesen), bevor er an die Funktion als Parameter übergeben wird. Im Endeffekt wird also der Wert aus dem HTML Input Feld ausgelesen und in der Funktion `concatString()` als erster Parameter übergeben und damit innerhalb der Funktion als `string1` verfügbar, entsprechend auch der zweite Parameter.  "
   ]
  },
  {
   "cell_type": "markdown",
   "id": "54f7a514-adfd-4d2b-ac4c-d20d61958c89",
   "metadata": {},
   "source": [
    "# Abschlussaufgabe"
   ]
  },
  {
   "cell_type": "markdown",
   "id": "a0664153-f072-4d9e-b792-474b2bc93bcb",
   "metadata": {},
   "source": [
    "<div class=\"exercise\">\n",
    "\n",
    "<img src=\"../../assets/img/dumbbell.png\" class=\"exercise_image\">\n",
    "\n",
    "<span class=\"exercise_label\">Aufgabe</span>\n",
    "    \n",
    "Definiere eine Funktion `playWithName(name)`, die den als Parameter `name` übergebenen String so verarbeitet, dass die Ausgabe in den entsprechenden HTML Elementen so aussieht (bsp für `name` = `'Bohdan'`):\n",
    "    \n",
    "Bohdan beginnt mit: B<br>\n",
    "Dieser Name hat 6 Zeichen<br>\n",
    "Name in Grossbuchstaben: BOHDAN\n",
    "\n",
    "</div>"
   ]
  },
  {
   "cell_type": "code",
   "execution_count": null,
   "id": "b0bc4f2a-fa78-4818-a807-8e6bfbba25d3",
   "metadata": {},
   "outputs": [],
   "source": [
    "%%html\n",
    "\n",
    "<div class=\"html-output\">\n",
    "\n",
    "<!-- Beginn eigener Code -->\n",
    "\n",
    "\n",
    "\n",
    "<!-- Ende eigener Code -->\n",
    "\n",
    "<p><input type=\"text\" id=\"name1\"></p>\n",
    "<p><button id=\"nameButton\" onclick=\"playWithName(document.getElementById('name1').value)\">Los!</button></p>\n",
    "<h1><span id=\"nameAgain\"></span> beginnt mit: <span id=\"firstLetter\"></span></h1>\n",
    "<h1>Dieser Name hat <span id=\"nameLength\"></span> Zeichen</h1>\n",
    "<h1>Name in Grossbuchstaben: <span id=\"nameUpper\"></span></h1>\n",
    "        "
   ]
  }
 ],
 "metadata": {
  "kernelspec": {
   "display_name": "Python 3 (ipykernel)",
   "language": "python",
   "name": "python3"
  },
  "language_info": {
   "codemirror_mode": {
    "name": "ipython",
    "version": 3
   },
   "file_extension": ".py",
   "mimetype": "text/x-python",
   "name": "python",
   "nbconvert_exporter": "python",
   "pygments_lexer": "ipython3",
   "version": "3.9.6"
  },
  "toc-autonumbering": true,
  "toc-showcode": false,
  "toc-showmarkdowntxt": false,
  "toc-showtags": false
 },
 "nbformat": 4,
 "nbformat_minor": 5
}
