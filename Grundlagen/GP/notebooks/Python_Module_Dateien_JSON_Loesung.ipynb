{
 "cells": [
  {
   "cell_type": "code",
   "execution_count": null,
   "id": "caaa469a-a389-4b9b-9d27-2881a2368f9d",
   "metadata": {},
   "outputs": [],
   "source": [
    "%%html\n",
    "\n",
    "<link rel=\"stylesheet\" href=\"../../assets/styles/style.css\">"
   ]
  },
  {
   "cell_type": "markdown",
   "id": "254f30ce",
   "metadata": {},
   "source": [
    "<img src=\"../../assets/img/DN.png\" style=\"float:right;width:150px\">\n",
    "\n",
    "Python - Module, Dateien und JSON\n",
    "\n",
    "# Module\n",
    "\n",
    "Python ist modular aufgebaut. Das heisst, neben einem bestimmten Satz an schon vorhandenen Grundfunktionalitäten können **zusätzliche Funktionalitäten** mit der Hilfe von sogenannten **Modulen** hinzugefügt werden. Diese Module können selbst erstellt oder von anderen Entwicklern übernommen werden. Module sind nichts anderes als Dateien mit Python Code.\n",
    "\n",
    "Der modulare Aufbau hilft, Code übersichtlich zu organisieren. Die Idee von Modulen ist die **Wiederverwertbarkeit von Code**. Genau so wie eine Funktion dazu dient, einen bestimmten Code innerhalb eines Programms mehrfach auszuführen, dienen Module dazu, Programmcode über mehrere Projekte hinweg wiederverwenden zu können.\n",
    "\n",
    "## Ein bestehendens Modul verwenden\n",
    "\n",
    "Es existieren sogenannte [*Built-in Modules*](https://docs.python.org/3/py-modindex.html), welche sofort genutzt werden können, sobald man sie importiert hat:"
   ]
  },
  {
   "cell_type": "code",
   "execution_count": null,
   "id": "50402d5e-416e-4711-aa50-641a3f322586",
   "metadata": {},
   "outputs": [],
   "source": [
    "import random\n",
    "\n",
    "x = random.randint(1,100)\n",
    "\n",
    "print(x)"
   ]
  },
  {
   "cell_type": "markdown",
   "id": "d47287bd-a026-4cb9-b8cd-72c4898e97d1",
   "metadata": {},
   "source": [
    "Das Modul **random** stellt Funktionen zur Erzeugung von Zufallszahlen bereit. Sobald das Modul mit dem `import` Befehl nutzbar gemacht wurde, kann auf die Funktionen des Moduls zugegriffen werden, indem mit `random.funktion()` die entsprechenden Funktionen aufgerufen wird. Es muss also jeweils vor den eigentlichen Funktionsnamen, hier `randint()`, der Modulnahmen, hier also `random` eingefügt werden.\n",
    "\n",
    "Mit Hilfe der Funktion `dir()` können alle Funktionen (und Variablen) eines Moduls angezeigt werden:"
   ]
  },
  {
   "cell_type": "code",
   "execution_count": null,
   "id": "047c2689-1470-4093-bbc0-6443d5299389",
   "metadata": {},
   "outputs": [],
   "source": [
    "import random\n",
    "\n",
    "x = dir(random)\n",
    "\n",
    "print(x)"
   ]
  },
  {
   "cell_type": "markdown",
   "id": "3a45ad1b-3663-4f6e-ac1a-67b1821fe12d",
   "metadata": {},
   "source": [
    "Um ein Modul vernünftig anwenden zu können, muss aber typischerweise die Dokumentation zum Modul konsultiert werden. Die offizielle Dokumentation zu den Built-in Modules von Python befindet sich unter [docs.python.org](https://docs.python.org) und entsprechend für das Modul *random* [hier](https://docs.python.org/3/library/random.html). Sich in diesen Dokumentationen zurechtzufinden ist eine wichtige Kompetenz für das Programmieren.\n",
    "\n",
    "Wenn beispielsweise aufgrund einer Internet Recherche eine bestimme Funktion angewandt werden soll, muss immer klar sein, ob diese Funktion aus einem Modul stammt, das zuerst importiert werden muss. Ohne einen solchen Import resultiert eine Fehlermeldung:"
   ]
  },
  {
   "cell_type": "code",
   "execution_count": null,
   "id": "51f24f4e-11c1-48a5-ac59-1159c8cae533",
   "metadata": {
    "tags": [
     "raises-exception"
    ]
   },
   "outputs": [],
   "source": [
    "x = system()\n",
    "\n",
    "print(x)"
   ]
  },
  {
   "cell_type": "markdown",
   "id": "41629eb7-cf56-46ec-a393-7244ea28c124",
   "metadata": {},
   "source": [
    "Erst nach dem Import des Modules `platform` kann die Funktion `system()` verwendet werden (die als Resultat ausgibt, dass Renkulab auf einem Linux Server ausgeführt wird):"
   ]
  },
  {
   "cell_type": "code",
   "execution_count": null,
   "id": "9e6c6c0b-f8be-4e36-b1d0-1399eb86402e",
   "metadata": {},
   "outputs": [],
   "source": [
    "import platform\n",
    "\n",
    "x = platform.system()\n",
    "\n",
    "print(x)"
   ]
  },
  {
   "cell_type": "markdown",
   "id": "5fbfc356-eb0d-46a7-91d8-ef5254f4169a",
   "metadata": {},
   "source": [
    "Beim Import von Modulen können diese auch umbenannt werden (das kann häufig gesehen werden in Tutorials, dass bestimmte Module unter einer gängigen Abkürzung importiert werden):"
   ]
  },
  {
   "cell_type": "code",
   "execution_count": null,
   "id": "fe023e53-d743-4604-96ae-5f550da63131",
   "metadata": {},
   "outputs": [],
   "source": [
    "import random as r\n",
    "\n",
    "x = r.randint(1, 100)\n",
    "\n",
    "print(x)"
   ]
  },
  {
   "cell_type": "markdown",
   "id": "364276c6-1cb9-43b5-a703-9f3a12f4e37d",
   "metadata": {},
   "source": [
    "Es gibt auch die Möglichkeit, von einem Modul nur eine bestimmte Funktion zu importieren und diese Funktion dann ohne den davorgestellten Modulnahmen zu verwenden:"
   ]
  },
  {
   "cell_type": "code",
   "execution_count": null,
   "id": "7660e1f6-c993-4e06-b1b5-f05be75ffdf2",
   "metadata": {},
   "outputs": [],
   "source": [
    "from random import randint\n",
    "\n",
    "x = randint(1, 100)\n",
    "\n",
    "print(x)"
   ]
  },
  {
   "cell_type": "markdown",
   "id": "7d210da6",
   "metadata": {},
   "source": [
    "<div class=\"exercise\">\n",
    "\n",
    "<img src=\"../../assets/img/dumbbell.png\" class=\"exercise_image\">\n",
    "\n",
    "<span class=\"exercise_label\">Aufgabe</span> \n",
    "\n",
    "Suche mit Hilfe des Internets ein Modul, welches eine Funktion zur Verfügung stellt, um das aktuelle Datum und die Uhrzeit auszugeben. Importiere dieses Modul und nutze die entsprechende Funktion.\n",
    "\n",
    "<details>\n",
    "<summary>Tipp</summary>\n",
    "    <p>Das zu verwendende Modul ist etwas irritierend, weil der Name des Moduls gleich lautet wie das zu verwendende Objekt im Modul mit den entsprechenden Funktionen, man muss also beim Aufruf der Funktion zweimal das gleiche \"Wort\" davor anhängen.</p>\n",
    "</details>\n",
    "</div>"
   ]
  },
  {
   "cell_type": "code",
   "execution_count": null,
   "id": "99a586a6-89f2-4382-a178-3762a067bcbc",
   "metadata": {},
   "outputs": [],
   "source": [
    "# Beginn eigener Code\n",
    "\n",
    "import datetime\n",
    "\n",
    "x = datetime.datetime.now()\n",
    "\n",
    "print(x)\n",
    "\n",
    "# Ende eigener Code"
   ]
  },
  {
   "cell_type": "markdown",
   "id": "2aff7573",
   "metadata": {},
   "source": [
    "***"
   ]
  },
  {
   "cell_type": "markdown",
   "id": "cdf3638a-d7d2-4c81-99b3-88627a8663ba",
   "metadata": {},
   "source": [
    "## Ein eigenes Modul erstellen\n",
    "\n",
    "Ein eigenes Modul kann ganz einfach erstellt werden, indem Python Code in einem File mit der Endung `.py` gespeichert wird. Der Inhalt dieses Files kann dann als Modul eingebunden werden. Solche lokalen Module werden üblicherweise in einem separaten Ordner gespeichert. Um auf Module aus einem Ordner zugreifen zu können, muss der Ordnername beim Import (und bei der Nutzung des Moduls) mit einem Punkt `.` abgetrennt vorangestellt werden. Somit werden solche Module beim Import am besten gleich umbenannt, damit einfacher damit gearbeitet werden kann."
   ]
  },
  {
   "cell_type": "markdown",
   "id": "9e945e61-1cdf-4631-84b3-c31b9181a636",
   "metadata": {},
   "source": [
    "<div class=\"exercise\">\n",
    "\n",
    "<img src=\"../../assets/img/dumbbell.png\" class=\"exercise_image\">\n",
    "\n",
    "<span class=\"exercise_label\">Aufgabe</span> \n",
    "\n",
    "Importiere das lokal erstellte Modul 'happy_greetings' aus dem Ordner 'lib' unter dem Namen `hg`. Lass Dir die verfügbaren Möglichkeiten anzeigen und nutze die Funktion `nice_greeting()` aus dem Modul.\n",
    "</div>"
   ]
  },
  {
   "cell_type": "code",
   "execution_count": null,
   "id": "479755cf-46ca-4011-b8e3-fc6ec683d5eb",
   "metadata": {},
   "outputs": [],
   "source": [
    "# Beginn eigener Code\n",
    "\n",
    "import lib.happy_greetings as hg\n",
    "\n",
    "print(dir(hg))\n",
    "\n",
    "hg.nice_greeting()\n",
    "\n",
    "# Ende eigener Code"
   ]
  },
  {
   "cell_type": "markdown",
   "id": "ba1764e2-0938-4499-b845-df5b36e14776",
   "metadata": {},
   "source": [
    "***"
   ]
  },
  {
   "cell_type": "markdown",
   "id": "ab4825e4-87b4-4ce3-ac20-63b6503f6a76",
   "metadata": {},
   "source": [
    "# Arbeiten mit Dateien\n",
    "\n",
    "Eine wichtige Aufgabe beim Programmieren besteht darin, Daten aus Dateien einzulesen, um mit diesen dann weiterzuarbeiten. Anschliessend an die Datenberarbeitung soll dann typischerweise auch wieder die Möglichkeit bestehen, Daten in eine Datei zu schreiben (bspw. als Resultatdatei).\n",
    "\n",
    "## Dateien in Jupyter Lab öffnen und ansehen\n",
    "\n",
    "Jupyter Lab bietet die Möglichkeit, Dateien in verschiedenen Formaten direkt in Jupyter Lab anzuzeigen und zu bearbeiten. Dazu nützt der **File Browser**, der sich in der linken Seitenleiste befindet und der auch benutzt wird, um die Notebooks zu öffnen. In dieser Lektion wird mit verschienen Dateien gearbeitet, die sich vom aktuellen Notebook aus in den Ordnern \"data\" und \"lib\" befinden. Alle diese Dateien lassen sich in Jupyter Lab als eigener Tab öffnen. Dies kann auch über einen Klick auf einen Link wie [dieser hier](data/numbers.txt) geschehen.\n",
    "\n",
    "## Dateien einlesen\n",
    "\n",
    "Beim Arbeiten mit Dateien kann einiges schief gehen, deshalb ist es wichtig, darauf vorbereitet zu sein, dass etwas nicht klappt. Beispielsweise möchte man aus einer Datei lesen, die gar nicht existiert. Python hilft dabei:"
   ]
  },
  {
   "cell_type": "code",
   "execution_count": null,
   "id": "38758766-74e5-47cf-b413-49939aec3e44",
   "metadata": {},
   "outputs": [],
   "source": [
    "with open('data/my_text.txt', \"rt\") as file:\n",
    "    data = file.read()\n",
    "    print(data)"
   ]
  },
  {
   "cell_type": "markdown",
   "id": "d2d38aa2-1caf-4e9c-94f9-b59fcd027c31",
   "metadata": {},
   "source": [
    "Das Schlüsselwort `with` hilft beim Handling von Dateien. Es ist grundsätzlich nicht nötig, vereinfacht den Umgang mit Dateien aber (bspw. müssen Dateien nicht \"geschlossen\" werden oder bei einem Fehler werden keine \"korrupten\" Dateien erzeugt). Wer mehr zu `with` erfahren möchte, kann das in der [offiziellen Python Dokumentation](https://docs.python.org/3/reference/compound_stmts.html#the-with-statement) finden.\n",
    "\n",
    "Der erste Parameter von `open()` gibt dabei den Dateinamen (und den Pfad relativ vom Jupyter Notebook aus) der Datei an, der zweite Parameter bestimmt, wie mit der Datei gearbeitet werden soll, die wichtigsten Möglichkeiten sind:\n",
    "\n",
    "* 'r' steht für 'read', also aus der Datei lesen\n",
    "* 'w' steht für 'write', also eine Datei schreiben (Datei wird erstellt, falls sie noch nicht existiert und ansonsten überschrieben)\n",
    "\n",
    "Zusätzlich können die Files mit 't' im Text Modus bearbeitet werden oder mit 'b' im Binär Modus (vor allem für Bilddaten interessant). Falls kein Parameter angegeben wird, wählt `open()` den Modus 'rt', also als Textdatei lesen.\n",
    "\n",
    "Soll eine Datei zeilenweise eingelesen werden, kann mit Hilfe einer For Schleife durch das File iteriert werden:"
   ]
  },
  {
   "cell_type": "code",
   "execution_count": null,
   "id": "73ee6eb3-cd72-4b5d-bf9a-5ba9b3e11b4d",
   "metadata": {},
   "outputs": [],
   "source": [
    "with open('data/my_text.txt') as file:\n",
    "    for line in file:\n",
    "        print(\"Quatsch:\", line)"
   ]
  },
  {
   "cell_type": "markdown",
   "id": "59a08997-a545-4f85-b1f9-da1046dbe54f",
   "metadata": {},
   "source": [
    "<div class=\"exercise\">\n",
    "\n",
    "<img src=\"../../assets/img/dumbbell.png\" class=\"exercise_image\">\n",
    "\n",
    "<span class=\"exercise_label\">Aufgabe</span>\n",
    "\n",
    "Summiere die Zahlen im File 'data/numbers.txt' auf und gib das Resultat aus.\n",
    "\n",
    "<details>\n",
    "<summary>Tipp</summary>\n",
    "    <p>Die Zahlen werden aus dem Textfile als Text eingelesen. Denk daran, dass diese noch in ein Integer umgewandelt werden müssen.</p>\n",
    "</details>\n",
    "</div>"
   ]
  },
  {
   "cell_type": "code",
   "execution_count": null,
   "id": "6a68c1db-0504-45bf-8d45-148959e2df47",
   "metadata": {},
   "outputs": [],
   "source": [
    "# Beginn eigener Code\n",
    "\n",
    "with open(\"data/numbers.txt\") as file:\n",
    "    total = 0\n",
    "    for number in file:\n",
    "        total += int(number)\n",
    "    print(total)\n",
    "    \n",
    "# Ende eigener Code"
   ]
  },
  {
   "cell_type": "markdown",
   "id": "a71dbf11-60dc-48ed-b7ae-ffbbe4b569cd",
   "metadata": {},
   "source": [
    "***"
   ]
  },
  {
   "cell_type": "markdown",
   "id": "916821de-618f-4606-912f-a2e98067dd6d",
   "metadata": {},
   "source": [
    "## Arbeiten mit CSV Dateien\n",
    "\n",
    "CSV (comma separated values) sind eine Möglichkeit, tabellarische Daten in einer Textdatei zu speichern. Beim Öffnen von CSV Dateien in Jupyter Lab über den File Browser (Ordner Sybmol in der linken Tableiste)  wie bspw. `data/population.csv` wird automatisch eine \"tabellarische\" Darstellung erzeugt. Wenn die \"Rohdaten\" angezeigt werden sollen, muss im File Browser auf die Datei rechtsgeklickt und die Option 'Open With/Editor' ausgewählt werden.\n",
    "\n",
    "## CSV als Liste einlesen und in ein Dictionary verwandeln"
   ]
  },
  {
   "cell_type": "code",
   "execution_count": null,
   "id": "a3136aae-d779-4503-adc8-bc4ffa8d8551",
   "metadata": {},
   "outputs": [],
   "source": [
    "import csv\n",
    "\n",
    "with open('data/population.csv') as file:\n",
    "    csv_lists = list(csv.reader(file, delimiter=','))\n",
    "    print(csv_lists)"
   ]
  },
  {
   "cell_type": "markdown",
   "id": "2cbb7b54-c655-44b1-a8a5-0d9ddbfc3b6d",
   "metadata": {},
   "source": [
    "Um die Funktion `reader()` zu verwenden, muss zuerst das Modul 'csv' importiert werden. Die Funktion `reader()` braucht ein File (welches mit `open()` geöffnet wurde) und die Bezeichnung, welches Zeichen als Elementtrenner verwendet wurde (hier ein Komma ','). Wenn das Resultat von `reader()` noch mit Hilfe der Funktion `list()` in eine Liste umgewandelt wird wurde damit eine Liste von Listen erzeugt (jede Zeile ist eine Liste geworden und alle Zeilen landen ebenfalls in einer Liste). Die Arbeit damit ist etwas umständlich. Etwas besser geht es mit einem Dictionary:"
   ]
  },
  {
   "cell_type": "code",
   "execution_count": null,
   "id": "df6a23ad-0726-41ce-b439-f0b2ac86631c",
   "metadata": {},
   "outputs": [],
   "source": [
    "country_pop = dict()\n",
    "\n",
    "for row in csv_lists[1:]:\n",
    "    country_pop[row[0]] = int(row[1])\n",
    "\n",
    "print(country_pop[\"China\"])    "
   ]
  },
  {
   "cell_type": "markdown",
   "id": "e2c27894-9892-48a7-85ab-cbffb69edee0",
   "metadata": {},
   "source": [
    "Hier wird die Liste `csv_lists` erst vom zweiten Eintrag an mit `[1:]` (der erste ist ja die Liste mit 'country' und 'population', das wird nicht mehr benötigt) durchiteriert. Dann wird zum Dictionary jeweils ein Eintrag mit dem Schlüssel, der an erster Stelle der Subliste steht, hinzugefügt."
   ]
  },
  {
   "cell_type": "markdown",
   "id": "c3c56fd8-d00e-4acd-9938-668b2173d134",
   "metadata": {},
   "source": [
    "## Übersichtlichere Ausgaben mit `display()`\n",
    "\n",
    "Mit Hilfe der Funktion `display()` lassen sich Listen und Dictionaries übersichtlicher ausgeben in Jupyter Lab:"
   ]
  },
  {
   "cell_type": "code",
   "execution_count": null,
   "id": "4f3aeeb9-71cc-455a-80a1-14b497425b0f",
   "metadata": {},
   "outputs": [],
   "source": [
    "display(csv_lists)"
   ]
  },
  {
   "cell_type": "code",
   "execution_count": null,
   "id": "998ae3d4-570f-4811-94f2-85e9995241ae",
   "metadata": {},
   "outputs": [],
   "source": [
    "display(country_pop)"
   ]
  },
  {
   "cell_type": "markdown",
   "id": "65f04fbc-7613-448d-aa06-0d68de716fa3",
   "metadata": {},
   "source": [
    "# JSON\n",
    "\n",
    "JSON (JavaScript Object Notation) ist ein Datenformat, das sich für \"verschachtelte\"  Daten eignet. Im Englischen wird dabei von sogenannten \"nested\" Daten gesprochen. Obwohl der Namen JSON auf JavaScript hinweist, hat sich JSON als Datenformat weit über JavaScript hinaus verbreitet und so bietet auch Python gute Möglichkeiten, um mit JSON zu arbeiten.\n",
    "\n",
    "## Unterschiede CSV zu JSON\n",
    "\n",
    "Bei CSV Daten müssen alle Datensätze ins gleiche tabellarische Schema passen (sogenannte flat data), also beispielsweise für jedes Land muss ein Eintrag zur Bevölkerungszahl existieren. Wenn aber für verschiedene Länder verschiedene Daten gespeichert werden sollen, dann eignet sich JSON viel besser als CSV, weil es erlaubt, für verschiedene \"Datenpunkte\" verschiedene Angaben zu hinterlegen."
   ]
  },
  {
   "cell_type": "markdown",
   "id": "434269da-21d6-4156-bc3f-122837a9bf7b",
   "metadata": {},
   "source": [
    "<div class=\"exercise\">\n",
    "\n",
    "<img src=\"../../assets/img/dumbbell.png\" class=\"exercise_image\">\n",
    "\n",
    "<span class=\"exercise_label\">Aufgabe</span>\n",
    "\n",
    "Öffne das File [data/substances.json](data/substances.json) in Jupyter Lab (klick auf den Link). Schau Dir das Dokument an und öffne es nochmals mit einem Rechtsklick auf das Dokument im 'File Browser' (Ordner Symbol ganz links) und der Option 'Open Width/Editor'. In der Standard-Ansicht zeigt Jupyter Lab das JSON schon formatiert an (die kleinen Dreiecke erlauben, die unterliegenden Daten anzusehen). In der Editor Ansicht sehen wir den \"Quelltext\".\n",
    "    \n",
    "Frage 1: Wieso würden sich die im JSON dargestellten Daten nicht gut für ein CSV eignen?\n",
    "    \n",
    "Frage 2: Welche Datenstruktur in Python ist am ehesten mit einem JSON vergleichbar?    \n",
    "</div>"
   ]
  },
  {
   "cell_type": "markdown",
   "id": "c44953bb-fe65-42b1-a3ca-db1c85d98ad4",
   "metadata": {},
   "source": [
    "Antwort 1: Weil nicht für alle Substanzen die gleiche Art und Anzahl von Angaben gemacht werden.\n",
    "\n",
    "Antwort 2: Dictionary"
   ]
  },
  {
   "cell_type": "markdown",
   "id": "7afb365b-1819-4c25-b837-21e9d813d86f",
   "metadata": {},
   "source": [
    "***"
   ]
  },
  {
   "cell_type": "markdown",
   "id": "9d84110a-2180-4f3a-9ae9-78f71f0f2e83",
   "metadata": {},
   "source": [
    "## JSON Files in Python öffnen\n",
    "\n",
    "JSON Files können in Python einfach als Liste resp. Dictionary (oder Kombination von Liste und Dictionary) geöffnet werden. Dafür muss zuerst das File in Python eingelesen und dann diese eingelesenen Daten mit Hilfe der Funktion `load()` aus dem Modul `json` umgewandelt werden."
   ]
  },
  {
   "cell_type": "markdown",
   "id": "fc44070a-0c04-4dc9-b6a2-75aec7057cf3",
   "metadata": {},
   "source": [
    "<div class=\"exercise\">\n",
    "\n",
    "<img src=\"../../assets/img/dumbbell.png\" class=\"exercise_image\">\n",
    "\n",
    "<span class=\"exercise_label\">Aufgabe</span>\n",
    "\n",
    "Lies das File 'data/substances.json' als Liste resp. Dictionary in Python ein und gib es mit dem `display()` Befehl wieder aus.\n",
    "  \n",
    "</div>"
   ]
  },
  {
   "cell_type": "code",
   "execution_count": null,
   "id": "b655e084-dbd3-4c37-8a61-3b6818a02f26",
   "metadata": {},
   "outputs": [],
   "source": [
    "import json\n",
    "\n",
    "# Beginn eigener Code\n",
    "\n",
    "with open(\"data/substances.json\") as file:\n",
    "    substances = json.load(file)\n",
    "        \n",
    "    display(substances)\n",
    "    \n",
    "# Ende eigener Code"
   ]
  },
  {
   "cell_type": "markdown",
   "id": "86865845-c90f-4d2a-b90a-9488cbbdecad",
   "metadata": {},
   "source": [
    "***"
   ]
  },
  {
   "cell_type": "markdown",
   "id": "5fe94b19-ebb7-4594-9138-44a1dcc20bcb",
   "metadata": {
    "tags": []
   },
   "source": [
    "## Kombination von Listen und Dictionaries\n",
    "\n",
    "Die Kombination von Listen und Dictionaries (bspw. eingelesen aus dem obigen JSON File) ist sehr mächtig. Auf den ersten Blick sind solche Konstrukte aber etwas schwer zu durchschauen. Es muss jeweils klar sein, innerhalb welcher Hierarchiestruktur man sich gerade befindet, siehe nochmals obiges Beispiel:\n",
    "\n",
    "```JSON\n",
    "[\n",
    "    {\n",
    "        \"name\": \"REGN-COV2\",\n",
    "        \"manufacturer\": \"Roche\",\n",
    "        \"type\": \"antibody drug\",\n",
    "        \"authorisation\": false,\n",
    "        \"approval_process\": \"phase_II/III\",\n",
    "        \"dosage\": \"not yet known\"\n",
    "    },\n",
    "    {\n",
    "        \"name\": \"Spikevax\",\n",
    "        \"manufacturer\": \"Moderna\",\n",
    "        \"type\": \"vaccination\",\n",
    "        \"subtype\": \"mRNA vaccination\",\n",
    "        \"authorisation\": true,\n",
    "        \"dosage\": {\n",
    "            \"no_of_doses_required\": 2,\n",
    "            \"time_between\": 30,\n",
    "            \"booster_possible\": true\n",
    "        }\n",
    "    },\n",
    "    {\n",
    "        \"name\": \"Driponin\",\n",
    "        \"active_substances\": [\"Ivermectin\", \"Butylhydroxyanisole\"],\n",
    "        \"manufacturer\": \"Infectopharm\",\n",
    "        \"type\": \"medication\",\n",
    "        \"authorisation\": {\n",
    "            \"parasite infestation\": true,\n",
    "            \"COVID-19\": false\n",
    "        }\n",
    "    }\n",
    "]\n",
    "```\n",
    "\n",
    "Bei diesem JSON ist die oberste Ebene eine Liste (erkennbar an den eckigen Klammern `[]`. Wenn also dieses JSON in Python eingelesen und unter einer Variable gespeichert wird, kann über `variablenname[index]` auf die einzelnen \"Substanzen\" zugegriffen oder in einer For Schleife iteriert werden. Die einzelnen Listenelemente sind dann ein Dictionary (erkennbar an den geschweiften Klammern `{}`) mit Schlüssel Wert Paaren. Teilweise sind dann diese Werte wiederum ein Dictionary oder eine Liste. Die Konstruktion \"Liste aus Dictionaries\" ist häufig, wenn bestimmte gleichartige Objekte, welche gut durch ein Dictionary beschrieben werden können, zusammengefasst werden sollen. In diesem Fall handelt es sich um eine Sammlung von medizinischen Substanzen."
   ]
  },
  {
   "cell_type": "markdown",
   "id": "ea6051d4-6bfd-461f-ac8e-c6d7ec9e57e6",
   "metadata": {},
   "source": [
    "<div class=\"exercise\">\n",
    "\n",
    "<img src=\"../../assets/img/dumbbell.png\" class=\"exercise_image\">\n",
    "\n",
    "<span class=\"exercise_label\">Aufgabe</span>\n",
    "\n",
    "Häufig möchte man die Werte eines Schlüssels aus allen Listenelementen herauslesen: Lies das File 'data/substances.json' wie in der obigen Aufgabe als Dictionary in Python ein. Erzeuge dann mit Hilfe einer List Comprehension eine Liste mit allen Namen der Hersteller der Substanzen.\n",
    "  \n",
    "</div>"
   ]
  },
  {
   "cell_type": "code",
   "execution_count": null,
   "id": "badc8768-9992-4589-9226-1c4ac8fb1471",
   "metadata": {},
   "outputs": [],
   "source": [
    "import json\n",
    "\n",
    "# Beginn eigener Code\n",
    "\n",
    "with open(\"data/substances.json\") as file:\n",
    "    substances = json.load(file)\n",
    "        \n",
    "    manufacturers = [substance[\"manufacturer\"] for substance in substances]\n",
    "    \n",
    "    print(manufacturers)\n",
    "    \n",
    "# Ende eigener Code"
   ]
  },
  {
   "cell_type": "markdown",
   "id": "2ac89e40-b22a-45bc-b5be-aad7f1aa97bc",
   "metadata": {},
   "source": [
    "***"
   ]
  },
  {
   "cell_type": "markdown",
   "id": "ad79d68b-1054-4b08-9249-df19619eee50",
   "metadata": {},
   "source": [
    "## JSON Daten von einer API einlesen\n",
    "\n",
    "Verschiedene Web APIs (Application Programming Interface) stellen Daten in einem JSON Format zur Verfügung. Die meisten dieser APIs benötigen eine Authentifizierung, um Daten zu beziehen, es gibt aber auch solche, die frei verfügbar sind. Um Daten von einer API zu lesen, dient die Funktion `get()` aus dem Modul `requests`, welche auch über eine integrierte Funktion verfügt, um die JSON Daten in ein Dicitonary umzuwandeln:"
   ]
  },
  {
   "cell_type": "code",
   "execution_count": null,
   "id": "4735dae4-6f58-442a-a74e-a5e0f47f67b2",
   "metadata": {},
   "outputs": [],
   "source": [
    "import requests\n",
    "\n",
    "response = requests.get(\"http://api.open-notify.org/astros.json\").json()\n",
    "\n",
    "display(response)"
   ]
  },
  {
   "cell_type": "markdown",
   "id": "0ac6955f-3fb3-4b0d-a89a-6e6231057931",
   "metadata": {},
   "source": [
    "Die oben kontaktierte API sendet ein JSON mit Informationen (Name und Raumfahrzeug) zu allen sich momentan im All befindenden Astronautinnen und Astronauten. Obiger Quelltext ist ein Beispiel, dass Methoden (also Funktionen eines Objekts) sich auch aneinanderreihen lassen. Die Funktion links (hier `get()`) wird dabei zuerst ausgeführt und auf das Resultat wird gleich die nächste Funktion rechts (hier `json()`) angewandt."
   ]
  },
  {
   "cell_type": "markdown",
   "id": "9a7ece25-5df0-4713-bc51-4b8e5c526b68",
   "metadata": {
    "tags": []
   },
   "source": [
    "# Schlussaufgabe\n",
    "\n",
    "<div class=\"exercise\">\n",
    "\n",
    "<img src=\"../../assets/img/dumbbell.png\" class=\"exercise_image\">\n",
    "\n",
    "<span class=\"exercise_label\">Aufgabe</span>\n",
    "\n",
    "Erstelle mit Hilfe der API unter https://api.spacexdata.com/v5/launches ein Dictionary `launches`, welches die Anzahl Starts von SpaceX Raketen pro Jahr darstellen soll. Als Schlüssel soll also das Jahr (in Form von '20xx') der Starts dienen und als Wert die Anzahl Starts in diesem Jahr. Mehr Infos zu dieser interessanten API gibt es unter https://github.com/r-spacex/SpaceX-API\n",
    "\n",
    "<details>\n",
    "<summary>Tipp</summary>\n",
    "    <p>Das JSON, welches die API zurückliefert ist eine Liste von Dictionaries, welches unter dem Schlüssel 'date_utc' einen genauen Zeitpunkt jedes Startes liefert. Am besten lässt du dir das erste Listenelement mit Hilfe von <code>display()</code> anzeigen, um die Struktur des JSON zu verstehen. Iteriere die Liste der Starts durch und prüfe für jeden Start, ob schon ein Eintrag im Dictionary <code>launches</code> für das entsprechende Jahr vorhanden ist. Falls nein, erstelle einen Eintrag und teile 1 zu, falls ja, erhöhe die entsprechende Startanzahl um 1. Der Wert für 'date_utc' beinhaltet auf den ersten vier Stellen das Jahr. Denke daran, nur mit diesen ersten vier Zahlen zu arbeiten.</p>\n",
    "</details>\n",
    "</div>"
   ]
  },
  {
   "cell_type": "code",
   "execution_count": null,
   "id": "9e562096-8905-4f78-a263-0b41190db242",
   "metadata": {},
   "outputs": [],
   "source": [
    "# Beginn eigener Code\n",
    "\n",
    "import requests\n",
    "\n",
    "response = requests.get(\"https://api.spacexdata.com/v5/launches\").json()\n",
    "\n",
    "launches = {}\n",
    "\n",
    "display(response[0])\n",
    "\n",
    "for launch in response:\n",
    "    if launch['date_utc'][0:4] not in launches:\n",
    "        launches[launch['date_utc'][0:4]] = 1\n",
    "    else:\n",
    "        launches[launch['date_utc'][0:4]] += 1\n",
    "\n",
    "# Ende eigener Code\n",
    "\n",
    "display(launches)"
   ]
  },
  {
   "cell_type": "markdown",
   "id": "0c0cdaca-1ec1-4ff9-aff5-fa4fecccf1d4",
   "metadata": {},
   "source": [
    "***"
   ]
  },
  {
   "cell_type": "markdown",
   "id": "e098d713-815a-45b8-8c72-1de9bad10ec6",
   "metadata": {},
   "source": [
    "# Zusatzaufgabe für Interessierte\n",
    "\n",
    "Hinweis: Diese Aufgabe ist etwas aufwändiger, aber schon ziemlich nahe an einer konkreten sinnvollen Anwendung. Aufgaben dieser Komplexität sind nicht prüfungsrelevant - aber trotzdem interessant.\n",
    "\n",
    "<div class=\"exercise\">\n",
    "\n",
    "<img src=\"../../assets/img/dumbbell.png\" class=\"exercise_image\">\n",
    "\n",
    "<span class=\"exercise_label\">Aufgabe</span>\n",
    "\n",
    "Lies die Schweizer Verfassung [data/verfassung.txt](data/verfassung.txt) als File ein und zähle die Vorkommnisse aller Wörter darin. Sortiere die Vorkommnisse aller Wörter gemäss deren Anzahl.\n",
    "    \n",
    "<details>\n",
    "<summary>Tipp</summary>\n",
    "    <p>Erstelle ähnlich der Schlussaufgabe ein Dictionary mit den individuellen Worten als Schlüssel und der Anzahl der Vorkommnisse als Wert. Bevor du die Worte zählst, entferne möglichst alle Satzzeichen aus dem Text. Für die Möglichkeit der Sortierung eines Dictionaries (anhand der Werte und nicht der Schlüssel) erkundigst du dich am besten im Internet.</p>\n",
    "</details>\n",
    "</div>"
   ]
  },
  {
   "cell_type": "code",
   "execution_count": null,
   "id": "2ae0d1c2-ba3d-4768-a83d-eda8a5233fd1",
   "metadata": {},
   "outputs": [],
   "source": [
    "# Beginn eigener Code\n",
    "\n",
    "with open('data/verfassung.txt', encoding=\"utf-8\") as file:\n",
    "    data = file.read()\n",
    "    data = data.lower()\n",
    "    data = data.replace(\",\", \"\").replace(\".\", \"\").replace(\":\", \"\")\n",
    "    words = data.split()\n",
    "    \n",
    "    occurences = {}\n",
    "    \n",
    "    for word in words:\n",
    "        if word not in occurences:\n",
    "            occurences[word] = 1\n",
    "        else:\n",
    "            occurences[word] += 1\n",
    "    \n",
    "    sorted_keys = sorted(occurences, key=occurences.get, reverse=True)\n",
    "    ordered_occurences = {}\n",
    "    \n",
    "    for key in sorted_keys:\n",
    "        ordered_occurences[key] = occurences[key]\n",
    "        print(key + \":\", ordered_occurences[key])\n",
    "\n",
    "# Ende eigener Code"
   ]
  },
  {
   "cell_type": "markdown",
   "id": "bbc06b85-7a30-42ed-bcbc-fc9ccddab34e",
   "metadata": {},
   "source": [
    "***"
   ]
  }
 ],
 "metadata": {
  "interpreter": {
   "hash": "1f249ec925ce4e150f1f00585c0a724a833d5f2a7ba7da4c93b858ce16dfa983"
  },
  "kernelspec": {
   "display_name": "Python 3 (ipykernel)",
   "language": "python",
   "name": "python3"
  },
  "language_info": {
   "codemirror_mode": {
    "name": "ipython",
    "version": 3
   },
   "file_extension": ".py",
   "mimetype": "text/x-python",
   "name": "python",
   "nbconvert_exporter": "python",
   "pygments_lexer": "ipython3",
   "version": "3.9.6"
  },
  "toc-autonumbering": true,
  "toc-showcode": false,
  "toc-showmarkdowntxt": false,
  "toc-showtags": false
 },
 "nbformat": 4,
 "nbformat_minor": 5
}
