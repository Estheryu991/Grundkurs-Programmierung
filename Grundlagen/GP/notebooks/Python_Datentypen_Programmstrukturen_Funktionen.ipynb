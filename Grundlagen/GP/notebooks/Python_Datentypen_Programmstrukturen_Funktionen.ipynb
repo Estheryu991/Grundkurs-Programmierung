{
 "cells": [
  {
   "cell_type": "code",
   "execution_count": null,
   "id": "130fb4fe-9823-40bc-95a6-895eb3dece77",
   "metadata": {},
   "outputs": [],
   "source": [
    "%%html\n",
    "\n",
    "<link rel=\"stylesheet\" href=\"../../assets/styles/style.css\">"
   ]
  },
  {
   "cell_type": "markdown",
   "id": "1718ef7d-b6a5-4327-adb1-5929c287e970",
   "metadata": {},
   "source": [
    "<img src=\"../../assets/img/DN.png\" style=\"float:right;width:150px\">\n",
    "\n",
    "Python - Datentypen, Programmstrukturen und Funktionen\n",
    "\n",
    "# Unterschiede zwischen JavaScript und Python\n",
    "\n",
    "## Zeileneinrückungen statt Klammern `{}`\n",
    "\n",
    "Der Hauptunterschied zwischen JavaScript und Python aus der Perspektive des Grundkurses Programmieren ist, dass statt mit Klammern `{}` mit **Zeileneinrückungen** gearbeitet wird. In Python spielt es eine zentrale Rolle, wie weit die einzelnen Code-Zeilen eingerückt sind. Das was in JavaScript typischerweise mit `{}` Klammern umfasst wird, wird in Python mit einem Doppelpunkt `:` eingeleitet und auf den nächsten Zeilen eingerückt geschrieben:"
   ]
  },
  {
   "cell_type": "code",
   "execution_count": null,
   "id": "8ea18e1d-948d-4aff-b194-a3fc59329e7f",
   "metadata": {},
   "outputs": [],
   "source": [
    "number = 42\n",
    "if (number > 10):\n",
    "    print(\"Eine grosse Zahl\")\n",
    "else:\n",
    "    print(\"Eine kleine Zahl\")"
   ]
  },
  {
   "cell_type": "markdown",
   "id": "477ec208-3fea-4849-9d7a-9e3712fc6c11",
   "metadata": {},
   "source": [
    "Die Funktion `print()` ist in Python sehr praktisch, um den Inhalt einer Variable oder das Resultat einer Funktion in eine Outputzelle zu schreiben. Dazu muss kein HTML Element mit einer ID erstellt werden und diesem Element dann mit Hilfe der ID einen Wert zugewiesen werden."
   ]
  },
  {
   "cell_type": "markdown",
   "id": "b75dac05-9cc5-4424-877d-721d66344cc6",
   "metadata": {},
   "source": [
    "## Keine Strichpunkte `;`\n",
    "\n",
    "Strichpunkte `;` am Schluss der Zeile resp. Anweisung sind in Python nicht nötig. \n",
    "\n",
    "## Variablendeklaration und Gültgkeit über die aktuelle Zelle\n",
    "\n",
    "In Python müssen Variablen nicht mit einem Schlüsselwort `var` oder `let` deklariert werden. Variablen können direkt einen Wert zugewiesen werden. Ausserdem sind die Variablen, so wie hier gebraucht, über die aktuelle Zelle hinaus gültig. Das heisst, sie können in einer Zelle mit einem Wert versehen werden und in einer anderen Zelle kann dann darauf zugegriffen werden:"
   ]
  },
  {
   "cell_type": "code",
   "execution_count": null,
   "id": "aab3786b-5449-4b61-849e-6499fa870d8e",
   "metadata": {},
   "outputs": [],
   "source": [
    "myVariable = 10"
   ]
  },
  {
   "cell_type": "code",
   "execution_count": null,
   "id": "3cbf9da0-b43a-42dd-b2b1-0d05ac1764c8",
   "metadata": {},
   "outputs": [],
   "source": [
    "print(myVariable)\n",
    "myVariable = 20\n",
    "print(myVariable)"
   ]
  },
  {
   "cell_type": "markdown",
   "id": "40070b9c-52d9-4424-bb8a-7df66516c974",
   "metadata": {},
   "source": [
    "## Kommentare im Quelltext\n",
    "\n",
    "Kommentare im Quelltext, die in Python nicht ausgeführt werden sollen, müssen mit einem Rautezeichen `#` eingeleitet werden, anschliessend wird die gesamte Zeile nicht ausgeführt:"
   ]
  },
  {
   "cell_type": "code",
   "execution_count": null,
   "id": "20cd7f66-4b84-49de-924a-e198c99c16ea",
   "metadata": {},
   "outputs": [],
   "source": [
    "# Nachfolgender Quellcode zeigt, dass Python auch als Rechner verwendet werden kann\n",
    "print((17 * 17 + 57 - 23) / 31.5)"
   ]
  },
  {
   "cell_type": "markdown",
   "id": "71fd124f-6a42-499d-9130-fc2cffe00785",
   "metadata": {},
   "source": [
    "## Fehlermeldungen\n",
    "\n",
    "Python in JupyterLab erzeugt Fehlermeldungen in der Outputzelle, wenn etwas falsch gelaufen ist. Somit ist es häufig einfacher, den entsprechenden Fehler zu korrigieren. Die Interpretation der Fehlermeldungen braucht etwas Übung. Die Fehlermeldung beinhaltet immer den Ort, wo der Fehler passiert ist und die eigentliche Fehlermeldung:"
   ]
  },
  {
   "cell_type": "code",
   "execution_count": null,
   "id": "9dead599-9039-4174-a5cd-3e7d5d095889",
   "metadata": {
    "tags": [
     "raises-exception"
    ]
   },
   "outputs": [],
   "source": [
    "someNumber = 10\n",
    "if (someNumber == 10):\n",
    "print(\"Die Zahl ist 10\")"
   ]
  },
  {
   "cell_type": "markdown",
   "id": "eace38b2-308b-410a-a270-ebcc19bfd351",
   "metadata": {},
   "source": [
    "Im obigen Beispiel ist der Fehler also bei `print(\"Die Zahl ist 10\")` passiert und der Fehler lautet *IndentationError: expected an indented block*, was bedeutet, dass nach der Zeile mit `if (someNumber == 10):` eingerückte Zeilen erwartet werden.\n",
    "\n",
    "Bei einem Fehler werden auch korrekte Programmschritte vor und nach dem Fehler je nach Situation nicht unbedingt ausgeführt:"
   ]
  },
  {
   "cell_type": "code",
   "execution_count": null,
   "id": "4294eb73-2954-4ac7-bf74-8617d62958f4",
   "metadata": {
    "tags": [
     "raises-exception"
    ]
   },
   "outputs": [],
   "source": [
    "someNumber = 10\n",
    "print(someNumber)\n",
    "if (someNumber == 10):\n",
    "print(\"Die Zahl ist 10\")\n",
    "\n",
    "print(\"Das wird nicht mehr ausgegeben, weil oben schon ein Fehler passiert ist.\")"
   ]
  },
  {
   "cell_type": "markdown",
   "id": "11c74dc7-6630-4450-965d-b478616a761f",
   "metadata": {},
   "source": [
    "# Datentypen\n",
    "\n",
    "Python kennt ebenfalls verschiedene Typen von Variablen, sog. **Datentypen**. Verschiedene Datentypen bieten verschiedene Möglichkeiten. Der wichtigste Unterschied ist zwischen Variablen, die *Text* speichern und Variablen, die *Zahlen* speichern können. Mit Zahlen kann man rechnen, mit Zeichen grundsätzlich nicht.\n",
    "\n",
    "## Strings und Numbers\n",
    "\n",
    "Variablen vom Typ *Text* werden als **Strings** bezeichnet. Bei Variablen vom Typ *Zahl* sind insbesondere **Integers** (ganze Zahlen) und **Floats** (Zahlen mit Nachkommastellen) wichtig.\n",
    "\n",
    "Der Typ der Variable wird in Python automatisch zugewiesen, sobald einer Variable ein Wert zugewiesen wird. Der Typ einer Variable kann mit Hilfe der Funktion `type()` ermittelt werden"
   ]
  },
  {
   "cell_type": "code",
   "execution_count": null,
   "id": "cee1647d",
   "metadata": {},
   "outputs": [],
   "source": [
    "number = 42\n",
    "print(type(number))"
   ]
  },
  {
   "cell_type": "markdown",
   "id": "7f77182b-5ec3-4c38-a519-6b9d212e6856",
   "metadata": {},
   "source": [
    "Bei Variablen vom Typ String wird der Wert der Variablen in Anführungszeichen `\"\"` gesetzt:"
   ]
  },
  {
   "cell_type": "code",
   "execution_count": null,
   "id": "6bf3ceed",
   "metadata": {},
   "outputs": [],
   "source": [
    "words = \"Python ist grossartig\"\n",
    "print(type(words))"
   ]
  },
  {
   "cell_type": "markdown",
   "id": "ef3718a6",
   "metadata": {
    "tags": []
   },
   "source": [
    "<div class=\"exercise\">\n",
    "\n",
    "<img src=\"../../assets/img/dumbbell.png\" class=\"exercise_image\">\n",
    "\n",
    "<span class=\"exercise_label\">Aufgabe</span> \n",
    "\n",
    "Was ist der Unterschied zwischen den folgenden Variablen `x` und `y`? Prüfe Deine Vermutung mit Hilfe der `type()` Funktion.\n",
    "</div>"
   ]
  },
  {
   "cell_type": "code",
   "execution_count": null,
   "id": "4e87dda3",
   "metadata": {
    "tags": []
   },
   "outputs": [],
   "source": [
    "x = 42\n",
    "y = \"42\"\n",
    "\n",
    "# Beginn eigener Code\n",
    "\n",
    "\n",
    "\n",
    "# Ende eigener Code"
   ]
  },
  {
   "cell_type": "markdown",
   "id": "0b008293",
   "metadata": {},
   "source": [
    "***"
   ]
  },
  {
   "cell_type": "markdown",
   "id": "b05fde73",
   "metadata": {},
   "source": [
    "Der Grund dafür, dass es verschiedene Datentypen braucht, ist unter anderem das obige Beispiel: 42 ist nicht das gleiche wie \"42\"! Mit 42 kann man rechnen."
   ]
  },
  {
   "cell_type": "code",
   "execution_count": null,
   "id": "e26cee9c",
   "metadata": {},
   "outputs": [],
   "source": [
    "x = 42\n",
    "print(10 + x )"
   ]
  },
  {
   "cell_type": "markdown",
   "id": "efba6172",
   "metadata": {},
   "source": [
    "Mit \"42\" kann man String Operationen durchführen, wie bspw. verschiedene Strings zu einem einzigen zusammenhängen. Diese Operation nennt man **Stringkonkatenation**. Sie wird ebenfalls mit dem `+` Zeichen ausgelöst."
   ]
  },
  {
   "cell_type": "code",
   "execution_count": null,
   "id": "1135161c",
   "metadata": {},
   "outputs": [],
   "source": [
    "y = \"42\"\n",
    "print(\"Hallo_\" + y)"
   ]
  },
  {
   "cell_type": "markdown",
   "id": "0e87412d",
   "metadata": {},
   "source": [
    "Was wird wohl passieren, wenn man eine Zahl mit einem String addieren möchte? Versuche die entstehende Fehlermeldung zu interpretieren:"
   ]
  },
  {
   "cell_type": "code",
   "execution_count": null,
   "id": "7cbbc9b5",
   "metadata": {
    "tags": [
     "raises-exception"
    ]
   },
   "outputs": [],
   "source": [
    "y = \"42\"\n",
    "print(10 + y)"
   ]
  },
  {
   "cell_type": "markdown",
   "id": "1680869f",
   "metadata": {},
   "source": [
    "Im Falle von `print(10 + y)` versucht Python, zu einer Zahl einen String zu addieren, was sinnvollerweise natürlich nicht möglich ist. Im Gegensatz zu JavaScript wird `10` auch nicht automatisch in einen String umgewandelt. Deshalb muss Python eine Fehlermeldung ausgeben."
   ]
  },
  {
   "cell_type": "markdown",
   "id": "7d210da6",
   "metadata": {
    "tags": []
   },
   "source": [
    "<div class=\"exercise\">\n",
    "\n",
    "<img src=\"../../assets/img/dumbbell.png\" class=\"exercise_image\">\n",
    "\n",
    "<span class=\"exercise_label\">Aufgabe</span> \n",
    "\n",
    "Eine typische Aufgabe ist es, aus einem String, der eine Zahl repräsentiert, wie bspw. `\"20.5\"` eine tatsächliche Zahl zu erzeugen, also hier ein Float. Wie kannst du aus dem String x ein Float y erzeugen? \n",
    "\n",
    "<details>\n",
    "  <summary>Tipp</summary>\n",
    "  <p>Suche mit Hilfe deiner Lieblingssuchmaschine unter den Stichworten *python convert string to float*.</p>\n",
    "</details>\n",
    "\n",
    "</div>"
   ]
  },
  {
   "cell_type": "code",
   "execution_count": null,
   "id": "6ccf4c83",
   "metadata": {
    "tags": []
   },
   "outputs": [],
   "source": [
    "x = \"20.5\"\n",
    "print(type(x))\n",
    "\n",
    "# Beginn eigener Code\n",
    "\n",
    "\n",
    "\n",
    "# Ende eigener Code"
   ]
  },
  {
   "cell_type": "markdown",
   "id": "059eb814",
   "metadata": {},
   "source": [
    "***"
   ]
  },
  {
   "cell_type": "markdown",
   "id": "f8e7bc8f",
   "metadata": {
    "jp-MarkdownHeadingCollapsed": true,
    "tags": []
   },
   "source": [
    "## Weitere Datentypen\n",
    "\n",
    "Weitere wichtige Datentypen sind **Boolean** für wahr/falsch resp. ja/nein Variablen und **List** und **Dictionary**, welche in der nächsten Lektion behandelt werden.\n",
    "\n",
    "Zusätzliche Infos zu **Datentypen** sind bei [W3Schools](https://www.w3schools.com/python/python_datatypes.asp) zu finden."
   ]
  },
  {
   "cell_type": "markdown",
   "id": "5d6a506c",
   "metadata": {},
   "source": [
    "# Programmstrukturen\n",
    "\n",
    "**Programmstrukturen** erlauben, den Ablauf eines Programms zu steuern. Ohne Einsatz von Programmstrukturen (und Funktionen) würde dein Programm strikt von oben nach unten abgearbeitet werden. Die wichtigsten Programmstrukturen sind **Verzweigungen** und **Schleifen** resp. **Wiederholungen**. Die nachfolgende Abbildung zeigt solche Programmstrukturen in einer Flussdiagramm-Abbildung. Solche Programmabläufe können mit Hilfe der [Unified Modeling Language (UML)](https://de.wikipedia.org/wiki/Unified_Modeling_Language) dargestellt werden, das geht aber für unsere Zwecke zu weit und wir verwenden höchstens einfache Flussdiagramme.\n"
   ]
  },
  {
   "cell_type": "markdown",
   "id": "6e1123ac",
   "metadata": {},
   "source": [
    "<img src=\"img/Datentypen_Programmstrukturen.svg\">"
   ]
  },
  {
   "cell_type": "markdown",
   "id": "ad33f015",
   "metadata": {},
   "source": [
    "## If Else Verzweigung\n",
    "\n",
    "Die fundamentalste Programmstruktur ist die Verzweigung resp. bedingte Anweisung mit Hilfe einer **If Else Verzweigung**.\n"
   ]
  },
  {
   "cell_type": "code",
   "execution_count": null,
   "id": "93829003",
   "metadata": {},
   "outputs": [],
   "source": [
    "x = 42\n",
    "\n",
    "if x > 20:\n",
    "    print(\"riesige Zahl\") # wird nur ausgeführt, wenn die Bedingung wahr ist\n",
    "else:\n",
    "    print(\"kleine Zahl\") # wird nur ausgeführt, wenn die Bedingung falsch ist\n",
    "\n",
    "print(\"alle Zahlen sind schön\") # wird immer ausgeführt, da ausserhalb der If Verzweigung"
   ]
  },
  {
   "cell_type": "markdown",
   "id": "adb453fc",
   "metadata": {},
   "source": [
    "Die möglichen Bedingungen, wie bspw. \"gleich\" oder \"ungleich\" resp. \"kleiner-gleich\" sind mit den üblichen Operatoren `a == b`, `a != b`, `a <= b` verfügbar. Das Ausrufezeichen bedeutet dabei immer \"nicht\" und für Gleichheitsprüfungen ist es wichtig, das doppelte Gleichheitszeichen zu nehmen, weil das einfache Gleichheitszeichen ist der **Zuweisungsoperator**, der einer Variable einen Wert zuweist. \n",
    "\n",
    "Weitere Infos zur **If Else Verzweigung** sind bei <a href=\"https://www.w3schools.com/python/python_conditions.asp\">W3Schools</a> zu finden.\n",
    "    "
   ]
  },
  {
   "cell_type": "markdown",
   "id": "9c2e9e0c",
   "metadata": {
    "tags": []
   },
   "source": [
    "<div class=\"exercise\">\n",
    "\n",
    "<img src=\"../../assets/img/dumbbell.png\" class=\"exercise_image\">\n",
    "\n",
    "<span class=\"exercise_label\">Aufgabe</span> \n",
    "\n",
    "Erstelle mit Hilfe einer If Verzweigung ein Programm, welches zwei Zahlen vergleicht und je nach Resultat dieses Vergleiches ausgibt: \n",
    "    \n",
    "* \"a ist grösser als b\"\n",
    "* \"a ist gleich b\"\n",
    "* \"a ist kleiner als b\"\n",
    "\n",
    "<details>\n",
    "  <summary>Tipp</summary>\n",
    "  <p>Dieses Problem kannst du entweder mit mehreren oder verschachtelten If Else Verzweigungen lösen oder mit einer If Elif Else Verzweigung. Nutze dafür deine favorisierte Suchmaschine, um mehr darüber zu erfahren.</p>\n",
    "</details>\n",
    "\n",
    "</div>"
   ]
  },
  {
   "cell_type": "code",
   "execution_count": null,
   "id": "4586620f",
   "metadata": {
    "tags": []
   },
   "outputs": [],
   "source": [
    "a = 42\n",
    "b = 3.141592653589793\n",
    "\n",
    "# Beginn eigener Code\n",
    "\n",
    "\n",
    "\n",
    "# Ende eigener Code"
   ]
  },
  {
   "cell_type": "markdown",
   "id": "ef12c058",
   "metadata": {},
   "source": [
    "***"
   ]
  },
  {
   "cell_type": "markdown",
   "id": "1adf5d18",
   "metadata": {},
   "source": [
    "## While Schleife\n",
    "\n",
    "Die While Schleife führt die Schleife solange aus, als eine bestimmte Bedingung wahr ist. Man weiss also nicht zwingend im Voraus, wie häufig die Schleife durchlaufen wird. Die Prüfung der Bedingung wird dabei jeweils vor dem Durchlauf der Schleife ausgeführt:"
   ]
  },
  {
   "cell_type": "code",
   "execution_count": null,
   "id": "5ff39f90",
   "metadata": {},
   "outputs": [],
   "source": [
    "from random import randrange\n",
    "\n",
    "x = 1\n",
    "\n",
    "while x < 100:\n",
    "    print(x)\n",
    "    x = x + randrange(10)"
   ]
  },
  {
   "cell_type": "markdown",
   "id": "92ee79f6",
   "metadata": {},
   "source": [
    "Die Funktion `randrange(10)` erzeugt dabei bei jedem Aufruf eine Ganzzahl zwischen 0 (inklusive) und 10 (exklusive). Das Ausführen der obigen Zelle wird also jedesmal die Anzahl der nötigen Iterationen verändern. Um diese Funktion nutzen zu können, muss sie zuerst **importiert** werden. Dies geschieht mit dem Aufruf auf der ersten Zeile `from random import randrange`, dabei bezeichnet `random` ein sogenanntes **Modul**. Dazu folgen in einer späteren Lektion noch Details."
   ]
  },
  {
   "cell_type": "markdown",
   "id": "2bbb563f",
   "metadata": {},
   "source": [
    "<div class=\"exercise\">\n",
    "\n",
    "<img src=\"../../assets/img/dumbbell.png\" class=\"exercise_image\">\n",
    "\n",
    "<span class=\"exercise_label\">Aufgabe</span>\n",
    "\n",
    "Erstelle mit Hilfe einer While Schleife ein Programm, welches zu einer Zahl 0 eine Zufallszahl zwischen 0 und 1 addiert und erst abbricht, wenn die Zahl entweder grösser als 10 oder die Schleife bereits 20 mal durchlaufen wurde. Gib jeweils pro Schlaufendurchlauf mit einem `print()` Befehl den aktuellen Stand der Zahl und die Anzahl Durchläufe aus. Orientiere dich dabei am Quelltext oben.\n",
    "\n",
    "<details>\n",
    "  <summary>Tipp</summary>\n",
    "  <p>Mehrere Bedingungen kannst du mit Hilfe des Schlüsselwortes <code>and</code> aneinanderhängen.</p>\n",
    "</details>\n",
    "    \n",
    "</div>"
   ]
  },
  {
   "cell_type": "code",
   "execution_count": null,
   "id": "e49a4a33",
   "metadata": {},
   "outputs": [],
   "source": [
    "# Beginn eigener Code\n",
    "\n",
    "\n",
    "\n",
    "# Ende eigener Code"
   ]
  },
  {
   "cell_type": "markdown",
   "id": "2aff7573",
   "metadata": {},
   "source": [
    "***"
   ]
  },
  {
   "cell_type": "markdown",
   "id": "d11529b2",
   "metadata": {},
   "source": [
    "Weitere Infos zur **While Schleife** sind bei <a href=\"https://www.w3schools.com/python/python_while_loops.asp\">W3Schools</a> zu finden."
   ]
  },
  {
   "cell_type": "markdown",
   "id": "187c6fe5",
   "metadata": {},
   "source": [
    "## For Schleife\n",
    "\n",
    "Die For Schleife dient primär dazu, über die einzelnen Elemente eines Objektes zu iterieren. Das Objekt muss eine sogenannte **Sequence** wie beispielsweise ein Objekt vom Typ String sein. Im Falle einer Iteration über einen String wird jeweils über die einzelnen Buchstaben iteriert. Die For Schleife braucht dabei zwei Angaben: Über welches Objekt wird iteriert und unter welcher Variable soll das jeweilige Element der Iteration innerhalb der For Schleife verfügbar sein. Der Syntax lautet: `for` Element `in` Objekt`:`. Bei jedem Durchlauf wird dann ein anderes Element aus dem Objekt unter der Variable des Elements verfügbar sein."
   ]
  },
  {
   "cell_type": "code",
   "execution_count": null,
   "id": "ad1653e7",
   "metadata": {},
   "outputs": [],
   "source": [
    "satz = \"yes Python can!\"\n",
    "for zeichen in satz:\n",
    "    print(zeichen)"
   ]
  },
  {
   "cell_type": "markdown",
   "id": "2d788d6f",
   "metadata": {},
   "source": [
    "Häufig soll innerhalb der Schleife auf den Index der jeweiligen Iteration zugegriffen werden können. Es soll also feststgestellt werden können, die wievielte Iteration im Moment gerade ausgeführt wird. Dies kann mit Hilfe der Funktion `enumerate()` erreicht werden. Mit Hilfe dieser Funktion kann eine `sequence` in ein `enumerate` Objekt verwandelt werden. Dabei erhält jedes Element aus dem Objekt ein Index als Schlüsselwert. Auf diesen Schlüsselwert kann in einer Schleife ebenfalls zugegriffen werden, dazu müssen der For Schleife allerdings neben dem Objekt zwei weitere Variablen übergeben werden: Der Index und das eigentliche Element (per Komma getrennt):"
   ]
  },
  {
   "cell_type": "code",
   "execution_count": null,
   "id": "aaa4f6e7",
   "metadata": {},
   "outputs": [],
   "source": [
    "for index, zeichen in enumerate(satz):\n",
    "    print(index, zeichen)"
   ]
  },
  {
   "cell_type": "markdown",
   "id": "e477925d",
   "metadata": {},
   "source": [
    "Der `print()` befehl ist dabei genügend mächtig, dass er den übergebenen Index, der eigentlich ein `int` ist, selbstständig in ein String umwandelt. Manchmal möchte man aber nicht direkt ein Objekt iterieren, sondern man weiss genau, dass man eine For Schleife eine bestimmte Anzahl mal durchlaufen möchte. Dafür gibt es die `range()` Funktion. Diese erzeugt eine `sequence` mit einer bestimmten Anzahl Zahlen:"
   ]
  },
  {
   "cell_type": "code",
   "execution_count": null,
   "id": "c0356db6",
   "metadata": {},
   "outputs": [],
   "source": [
    "r = range(6)\n",
    "for x in r:\n",
    "    print(x)"
   ]
  },
  {
   "cell_type": "markdown",
   "id": "228637dd",
   "metadata": {},
   "source": [
    "Dabei gilt es zu beachten, dass `range()` bei 0 startet und nicht bei 1 und der übergebene Endwert immer exklusiv ist, also nicht mehr in der `sequence` enthalten. Es können auch weitere Parameter übergeben und damit Start, Stop, und Inkrement bestimmt werden:"
   ]
  },
  {
   "cell_type": "code",
   "execution_count": null,
   "id": "71b15335",
   "metadata": {},
   "outputs": [],
   "source": [
    "for x in range(10, 55, 5):\n",
    "    print(x)"
   ]
  },
  {
   "cell_type": "markdown",
   "id": "06329c65",
   "metadata": {},
   "source": [
    "<div class=\"exercise\">\n",
    "\n",
    "<img src=\"../../assets/img/dumbbell.png\" class=\"exercise_image\">\n",
    "\n",
    "<span class=\"exercise_label\">Aufgabe</span>\n",
    "\n",
    "Es gibt die [Legende vom Reis auf dem Schachbrett](https://meinstein.ch/math/reis-auf-dem-schachbrett/). Die Idee ist, herauszufinden, wie viele Reiskörner man braucht, wenn man auf einem Schachbrett, welches 64 Felder besitzt, auf dem ersten Feld 1 Reiskorn hinlegt, auf dem zweiten 2, auf dem dritten 4, auf dem vierten 8 und diese Zahl jeweils verdoppelt für das nächste Feld.\n",
    "    \n",
    "Berechne diese Summe von Reiskörnern mit Hilfe einer For Schleife. Wie vielen grossen Schüttgutfrachtern mit einer Kapazität von 100'000 Tonnen Reis entspricht diese Summe, wenn 50'000 Reiskörner ungefähr 1kg wiegen?\n",
    "    \n",
    "<details>\n",
    "  <summary>Hinweis</summary>\n",
    "  <p>Natürlich könnte man diese Aufgabe auch bestens ohne For Schleife lösen, wenn man einfach 2 hoch 64 rechnet.</p>\n",
    "</details>\n",
    "\n",
    "</div>"
   ]
  },
  {
   "cell_type": "code",
   "execution_count": null,
   "id": "f02ae5e8",
   "metadata": {},
   "outputs": [],
   "source": [
    "# Beginn eigener Code\n",
    "\n",
    "\n",
    "\n",
    "# Ende eigener Code"
   ]
  },
  {
   "cell_type": "markdown",
   "id": "69fda80f",
   "metadata": {},
   "source": [
    "***"
   ]
  },
  {
   "cell_type": "markdown",
   "id": "f467447b",
   "metadata": {},
   "source": [
    "Weitere Infos zur **For Schleife** sind bei <a href=\"https://www.w3schools.com/python/python_for_loops.asp\">W3Schools</a> zu finden."
   ]
  },
  {
   "cell_type": "markdown",
   "id": "f2af26cd",
   "metadata": {},
   "source": [
    "# Funktionen\n",
    "\n",
    "Funktionen sind eine weitere Möglichkeit, den Programmablauf zu beinflussen. Funktionen werden unter anderem dazu benutzt, den Quellcode übersichtlicher zu gestalten und besser zu strukturieren. Ausserdem lassen sich mit Funktionen Wiederholungen im Quelltext verhindern (genau wie mit Schleifen).\n",
    "\n",
    "Funktionen können beliebig komplex sein, allerdings wird tendentiell eher versucht, Funktionen einfach und übersichtlich zu halten und pro Funktion nur eine ganz genau definierte, zusammenhängede Aufgabe auszuführen.\n",
    "\n",
    "## Selbst definierte Funktionen\n",
    "\n",
    "Funktionen müssen zuerst **definiert** werden, anschliessend können sie an beliebigen Orten innerhalb des Quellcodes **aufgerufen** werden."
   ]
  },
  {
   "cell_type": "code",
   "execution_count": null,
   "id": "5be39da4",
   "metadata": {},
   "outputs": [],
   "source": [
    "# Funktionsdefinition\n",
    "def bestimme_maximum():\n",
    "    a = 100\n",
    "    b = 50\n",
    "    if a > b:\n",
    "        print(\"die grössere Zahl ist a\")\n",
    "    if a < b:\n",
    "        print(\"die grössere Zahl ist b\")\n",
    "    if a == b:\n",
    "        print(\"beide Zahlen sind gleich gross\")"
   ]
  },
  {
   "cell_type": "markdown",
   "id": "df13e92b",
   "metadata": {},
   "source": [
    "Alleine mit der Funktionsdefinition passiert noch gar nichts, die Funktion muss zuerst aufgerufen werden mit Hilfe des Namens der Funktion:"
   ]
  },
  {
   "cell_type": "code",
   "execution_count": null,
   "id": "d48f9eae",
   "metadata": {},
   "outputs": [],
   "source": [
    "# Funktionsaufruf\n",
    "bestimme_maximum()"
   ]
  },
  {
   "cell_type": "markdown",
   "id": "763d3f29",
   "metadata": {},
   "source": [
    "Jetzt machen Funktionen, die man überhaupt nicht beeinflussen kann und die jedes mal das genau gleiche Ergebnis zurückgeben in der Realität meistens keinen Sinn. Die Funktion `bestimme_maximum()` wird jedes mal das gleiche Resultat ausgeben. Darum verwenden Funktionen typischerweise sogenannte **Parameter**. Man kann also der Funktion bei jedem Aufruf Zusatzinformationen weitergeben:"
   ]
  },
  {
   "cell_type": "code",
   "execution_count": null,
   "id": "6f10c939",
   "metadata": {},
   "outputs": [],
   "source": [
    "# Funktionsdefinition\n",
    "def bestimme_maximum(a, b):\n",
    "    if a > b:\n",
    "        print(\"die grössere Zahl ist die erste Zahl\")\n",
    "    if a < b:\n",
    "        print(\"die grössere Zahl ist die zweite Zahl\")\n",
    "    if a == b:\n",
    "        print(\"beide Zahlen sind gleich gross\")\n",
    "        \n",
    "# mehrfacher Funktionsaufruf mit unterschiedlichen Werten für die Parameter\n",
    "bestimme_maximum(10, 100)\n",
    "bestimme_maximum(100, 10)\n",
    "bestimme_maximum(-1, 0)"
   ]
  },
  {
   "cell_type": "markdown",
   "id": "20c744b2",
   "metadata": {},
   "source": [
    "Die Variablen `a` und `b` werden als Parameter der Funktion bezeichnet, im Falle des Aufrufes der Funktion mit `bestimme_maximum(10, 100)` sind 10 und 100 die Werte, welche für die Parameter gesetzt werden, überall wo in der Funktionsdefinition also `a` vorkommt, wird dann dafür 10 eingesetzt und für `b` entsprechend 100. Die Anzahl der übergebenen Parameter hängt von der Funktionsdefinition ab, diese kann eine beliebige Anzahl verwenden. Häufig wird statt eines Wertes für den Parameter auch eine Variable übergeben. Es wird dann der Wert der Variable als Wert für den Parameter verwendet:"
   ]
  },
  {
   "cell_type": "code",
   "execution_count": null,
   "id": "67d57e21",
   "metadata": {},
   "outputs": [],
   "source": [
    "zahl_1 = 100\n",
    "zahl_2 = 10\n",
    "\n",
    "# Funktionsaufruf\n",
    "bestimme_maximum(zahl_1, zahl_2)"
   ]
  },
  {
   "cell_type": "markdown",
   "id": "d151e84e",
   "metadata": {},
   "source": [
    "## Rückgabe von Werten durch Funktionen\n",
    "\n",
    "Funktionen können einen sogenannten Rückgabewert aufweisen, der anschliessend im Programm weiterverwendet werden kann. Meist soll die Funktion nämlich nicht per `print()` eine Ausgabe auf den Bildschirm machen, sondern man möchte einen Wert haben, mit dem man programmatisch weiterarbeiten kann. Ein solcher Rückgabewert wird mit dem Schlüsselwort `return` erstellt:"
   ]
  },
  {
   "cell_type": "code",
   "execution_count": null,
   "id": "13c911b0",
   "metadata": {},
   "outputs": [],
   "source": [
    "def bestimme_maximum(a, b):\n",
    "    if a > b:\n",
    "        return a\n",
    "    else:\n",
    "        return b\n",
    "\n",
    "maximum = bestimme_maximum(10, 100)\n",
    "print(maximum)"
   ]
  },
  {
   "cell_type": "markdown",
   "id": "623b2ebb",
   "metadata": {
    "tags": []
   },
   "source": [
    "<div class=\"exercise\">\n",
    "\n",
    "<img src=\"../../assets/img/dumbbell.png\" class=\"exercise_image\">\n",
    "\n",
    "<span class=\"exercise_label\">Aufgabe</span>\n",
    "\n",
    "Definiere eine Funktion `verdoppeln(x)`, welche einen Parameter `x` aufweist. Der Wert für `x` soll in der Funktion verdoppelt werden und das Resultat anschliessend zurückgegeben werden. Teste die Funktion mit `print(verdoppeln(2))`.\n",
    "    \n",
    "</div>"
   ]
  },
  {
   "cell_type": "code",
   "execution_count": null,
   "id": "27dfd471",
   "metadata": {
    "tags": []
   },
   "outputs": [],
   "source": [
    "# Beginn eigener Code\n",
    "\n",
    "\n",
    "\n",
    "# Ende eigener Code"
   ]
  },
  {
   "cell_type": "markdown",
   "id": "aaab78b1",
   "metadata": {},
   "source": [
    "***"
   ]
  },
  {
   "cell_type": "markdown",
   "id": "a82b2ffb",
   "metadata": {},
   "source": [
    "## Integrierte Funktionen\n",
    "\n",
    "Bis jetzt wurde in diesem Notebooks schon implizit mit Funktionen in Python gearbeitet, bspw. mit der Funktion `print()`, diese Funktion nimmt als Parameter eine Variable und gibt den Inhalt ebendieser auf dem Bildschirm aus. `print()` wurde aber nicht selber definiert, genau so wenig wie `type()`. Python kommt mit einer Fülle von bereits vordefinierten Funktionen, um das Leben als Programmiererin einfacher zu machen. Zu beachten: Integrierte Funktionen von Python werden im Quelltext <span style=\"color:green;font-family:monospace\">grün</span> dargestellt, selbst definierte <span style=\"color:blue;font-family:monospace\">blau</span>. Natürlich gibt es auch für das Finden des Maximums eine bereits integrierte Funktion:"
   ]
  },
  {
   "cell_type": "code",
   "execution_count": null,
   "id": "3a848c87",
   "metadata": {},
   "outputs": [],
   "source": [
    "max(42, 3.1415)"
   ]
  },
  {
   "cell_type": "markdown",
   "id": "88ced623",
   "metadata": {},
   "source": [
    "Weitere Infos zu Funktionen sind bei <a href=\"https://www.w3schools.com/python/python_functions.asp\">W3Schools</a> zu finden."
   ]
  },
  {
   "cell_type": "markdown",
   "id": "4ed892e7",
   "metadata": {},
   "source": [
    "# Scope\n",
    "\n",
    "Ein wichtiges Konzept beim Programmieren ist der sogenannte **Scope**. Gemeint ist damit der Bereich, in welchem eine bestimmte Variable definiert ist. Es wird grundsätzlich der **globale** und der **lokale** Scope unterschieden. Variablen, die nur in einem lokalen Scope definiert wurden, sind im globalen Scope nicht verfügbar (weder um einen Wert auszulesen, noch um einen zuzuweisen). Der Grund für die Existenz eines lokalen Scopes ist unter anderem die Tatsache, dass bei etwas komplexeren Programmen sofort unzählige Variablen existieren und damit das Risiko besteht, unerwünschte Rückwirkungen zwischen gleich benannten Variablen zu haben.\n",
    "\n",
    "Funktionen öffnen einen lokalen Scope und Variablen, die in einer Funktion definiert wurden, sind von ausserhalb der Funktion (aus dem globalen Scope) nicht verfügbar:"
   ]
  },
  {
   "cell_type": "code",
   "execution_count": null,
   "id": "58ab3d2a",
   "metadata": {
    "tags": [
     "raises-exception"
    ]
   },
   "outputs": [],
   "source": [
    "def meine_funktion():\n",
    "    lokale_variable = 1\n",
    "    print(lokale_variable)\n",
    "\n",
    "# gibt eine 1 aus, weil auf lokale_variable innerhalb der Funktion zugegriffen wird\n",
    "meine_funktion()    \n",
    "\n",
    "# ergibt einen Fehler, weil lokale_variable im globalen Scope (ausserhalb der Funktion) nicht verfügbar ist\n",
    "print(lokale_variable)"
   ]
  },
  {
   "cell_type": "markdown",
   "id": "f582ee1b",
   "metadata": {},
   "source": [
    "Innerhalb einer Funktion kann aber problemlos auf eine globale Variable zugegriffen werden:"
   ]
  },
  {
   "cell_type": "code",
   "execution_count": null,
   "id": "8f27c3e0",
   "metadata": {},
   "outputs": [],
   "source": [
    "globale_variable = 57\n",
    "\n",
    "def meine_funktion():\n",
    "    print(globale_variable)\n",
    "    \n",
    "meine_funktion()"
   ]
  },
  {
   "cell_type": "markdown",
   "id": "ce0564ae",
   "metadata": {},
   "source": [
    "Soll innerhalb einer Funktion eine globale Variable verändert (etwas das eigentlich vermieden werden sollte) oder eine globale Variable definiert werden, muss das Schlüsselwort `global` verwendet werden (ansonsten würde die Variable als neu zu definierende lokale Variable aufgefasst):"
   ]
  },
  {
   "cell_type": "code",
   "execution_count": null,
   "id": "81ef41fa",
   "metadata": {},
   "outputs": [],
   "source": [
    "globale_variable = 57\n",
    "\n",
    "def meine_funktion():\n",
    "    global globale_variable\n",
    "    globale_variable = 10000\n",
    "    \n",
    "meine_funktion()\n",
    "print(globale_variable)"
   ]
  },
  {
   "cell_type": "markdown",
   "id": "8f9d71ef",
   "metadata": {},
   "source": [
    "Eine mögliche Fehlerquelle ist, dass eine lokale und eine globale Variable mit gleichem Namen erstellt wird und dass dann per gleichem Namen auf unterschiedliche Werte zugegriffen wird:"
   ]
  },
  {
   "cell_type": "code",
   "execution_count": null,
   "id": "0871a8f0",
   "metadata": {},
   "outputs": [],
   "source": [
    "gefaehrliche_variable = 10\n",
    "\n",
    "def meine_funktion():\n",
    "    gefaehrliche_variable = 100\n",
    "    print(gefaehrliche_variable)\n",
    "\n",
    "meine_funktion()\n",
    "\n",
    "print(gefaehrliche_variable)"
   ]
  },
  {
   "cell_type": "markdown",
   "id": "f2cc65ca",
   "metadata": {},
   "source": [
    "Im obigen Beispiel wurde die Variable `gefaehrliche_variable` einmal im globalen Scope definiert und ihr den Wert 10 zugewiesen. Innerhalb der Funktion `meine_funktion()` wird im lokalen Scope (weil nicht das Schlüsselwort `global` verwendet wurde) nochmals eine Variable `gefaehrliche_variable` definiert und ihr den Wert 100 zugewiesen. Diese beiden Variabeln haben nichts miteinander zu tun. Das sieht man an den unterschiedlichen Ausgaben der beiden `print()` Befehlen."
   ]
  },
  {
   "cell_type": "markdown",
   "id": "3faacde9",
   "metadata": {},
   "source": [
    "Weitere Infos zum Scope sind bei <a href=\"https://www.w3schools.com/python/python_scope.asp\">W3Schools</a> zu finden."
   ]
  },
  {
   "cell_type": "markdown",
   "id": "c374efcc",
   "metadata": {},
   "source": [
    "# Abschlussaufgaben"
   ]
  },
  {
   "cell_type": "markdown",
   "id": "3afc6c64",
   "metadata": {
    "tags": []
   },
   "source": [
    "<div class=\"exercise\">\n",
    "\n",
    "<img src=\"../../assets/img/dumbbell.png\" class=\"exercise_image\">\n",
    "\n",
    "<span class=\"exercise_label\">Aufgabe</span>\n",
    "\n",
    "Schau dir die nachfolgende Funktion `mystery_function(text)` an und überlege dir, was sie bewirken wird. Überprüfe deine Vermutung anschliessend mit `print(mystery_function(\"Hallo Python, wir kennen uns!\"))`.\n",
    "\n",
    "<details>\n",
    "  <summary>Tipp</summary>\n",
    "  <p>Die Notation <code>x += 1</code> ist eine Kurzschreibweise für <code>x = x + 1</code></p>\n",
    "</details>\n",
    "    \n",
    "</div>"
   ]
  },
  {
   "cell_type": "code",
   "execution_count": null,
   "id": "e6244b81",
   "metadata": {
    "tags": []
   },
   "outputs": [],
   "source": [
    "def mystery_function(text):\n",
    "    result = \"\"\n",
    "    for char in text:\n",
    "        if char.isupper():\n",
    "            result += char.lower()\n",
    "        else:\n",
    "            result += char.upper()\n",
    "    return result\n",
    "\n",
    "# Beginn eigener Code\n",
    "\n",
    "\n",
    "\n",
    "# Ende eigener Code"
   ]
  },
  {
   "cell_type": "markdown",
   "id": "1dce77c5",
   "metadata": {
    "tags": []
   },
   "source": [
    "<div class=\"exercise\">\n",
    "\n",
    "<img src=\"../../assets/img/dumbbell.png\" class=\"exercise_image\">\n",
    "\n",
    "<span class=\"exercise_label\">Aufgabe</span>\n",
    "\n",
    "Definiere nun eine eigene Funktion `hacker_speak(text)`, welche einen übergebenen String verfremdet und zurückgibt:\n",
    "\n",
    "* `hacker_speak(\"programming is fun\")` wird zu \"pr0gr4mm1ng 15 fun\"\n",
    "* `hacker_speak(\"become a coder\")` wird zu \"b3c0m3 4 c0d3r\"\n",
    "\n",
    "Es sollen also im übergebenen String *text* alle \"a\" durch 4, \"e\" durch 3, \"i\" durch 1, \"o\" durch 0 und \"s\" durch 5 ersetzt werden.\n",
    "\n",
    "</div>"
   ]
  },
  {
   "cell_type": "code",
   "execution_count": null,
   "id": "a36ce7d2",
   "metadata": {
    "tags": []
   },
   "outputs": [],
   "source": [
    "# Beginn eigener Code\n",
    "\n",
    "\n",
    "\n",
    "# Ende eigener Code"
   ]
  },
  {
   "cell_type": "markdown",
   "id": "f9b775b0",
   "metadata": {},
   "source": [
    "***"
   ]
  }
 ],
 "metadata": {
  "interpreter": {
   "hash": "1f249ec925ce4e150f1f00585c0a724a833d5f2a7ba7da4c93b858ce16dfa983"
  },
  "kernelspec": {
   "display_name": "Python 3 (ipykernel)",
   "language": "python",
   "name": "python3"
  },
  "language_info": {
   "codemirror_mode": {
    "name": "ipython",
    "version": 3
   },
   "file_extension": ".py",
   "mimetype": "text/x-python",
   "name": "python",
   "nbconvert_exporter": "python",
   "pygments_lexer": "ipython3",
   "version": "3.9.6"
  },
  "toc-autonumbering": true,
  "toc-showcode": false,
  "toc-showmarkdowntxt": false,
  "toc-showtags": false
 },
 "nbformat": 4,
 "nbformat_minor": 5
}
