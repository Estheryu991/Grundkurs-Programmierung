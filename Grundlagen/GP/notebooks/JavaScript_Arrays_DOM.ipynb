{
 "cells": [
  {
   "cell_type": "code",
   "execution_count": null,
   "id": "10658e3b-bcee-499c-88e4-6b906593883f",
   "metadata": {},
   "outputs": [],
   "source": [
    "%%html\n",
    "\n",
    "<link rel=\"stylesheet\" href=\"../../assets/styles/style.css\">"
   ]
  },
  {
   "cell_type": "markdown",
   "id": "a45dd653-b85e-41a8-91a7-6d13f7a964c8",
   "metadata": {},
   "source": [
    "<img src=\"../../assets/img/DN.png\" style=\"float:right;width:150px\">\n",
    "\n",
    "JavaScript - Arrays und DOM Manipulation\n",
    "\n",
    "# JavaScript Arrays\n",
    "\n",
    "## Motivation für Arrays\n",
    "\n",
    "Nachfolgend ist ein Beispiel gegeben, wie der Durchschnittspreis für vier verschiedene Fantasieprodukte mit Hilfe von JavaScript berechnet werden könnte:"
   ]
  },
  {
   "cell_type": "code",
   "execution_count": null,
   "id": "d7b892d7-d9d1-4564-82d0-620ee72a5f4a",
   "metadata": {},
   "outputs": [],
   "source": [
    "%%html\n",
    "\n",
    "<div class=\"html-output\">\n",
    "\n",
    "<script>\n",
    "{\n",
    "    let product1Price = 23.90;\n",
    "    let product2Price = 123;\n",
    "    let product3Price = 98.90;\n",
    "    let product4Price = 12.50;\n",
    "    \n",
    "    let productMeanPrice = (product1Price + product2Price + product3Price + product4Price) / 4\n",
    "    \n",
    "    document.getElementById(\"meanPrice1\").innerHTML = productMeanPrice;\n",
    "}\n",
    "</script>\n",
    "\n",
    "<h1>Der mittlere Produktpreis beträgt: <span id=\"meanPrice1\"></span> CHF</h1>\n",
    "\n",
    "</div>"
   ]
  },
  {
   "cell_type": "markdown",
   "id": "ebe05107-bbfb-4b17-826a-f8c815804e18",
   "metadata": {},
   "source": [
    "Obiges Beispiel ist wenig elegant, insbesondere müssen beim Hinzufügen von Produkten diese an zwei Orten eingetragen werden und ausserdem muss der Divisor ebenfalls angepasst werden.\n",
    "\n",
    "## Arrays deklarieren und Werte zuweisen\n",
    "\n",
    "Um ein solches Programmierproblem eleganter zu lösen, existieren **Arrays**. Das sind Variablen, die nicht nur einen Wert speichern können, sondern ganz viele verschiedene gleichzeitig:"
   ]
  },
  {
   "cell_type": "code",
   "execution_count": null,
   "id": "30eb6aca-967a-4811-9c77-13bc8b91259b",
   "metadata": {},
   "outputs": [],
   "source": [
    "%%html\n",
    "\n",
    "<div class=\"html-output\">\n",
    "\n",
    "<script>\n",
    "{\n",
    "    const productPrices = [23.90, 123, 98.90, 12.50];\n",
    "    \n",
    "    let productMeanPrice = (productPrices[0] + productPrices[1] + productPrices[2] + productPrices[3]) / productPrices.length;\n",
    "    \n",
    "    document.getElementById(\"meanPrice2\").innerHTML = productMeanPrice;\n",
    "}\n",
    "</script>\n",
    "\n",
    "<h1>Der mittlere Produktpreis beträgt: <span id=\"meanPrice2\"></span> CHF</h1>\n",
    "\n",
    "</div>"
   ]
  },
  {
   "cell_type": "markdown",
   "id": "d33ea660-241e-432e-b0d1-e221569c5eb7",
   "metadata": {},
   "source": [
    "Im obigen Beispiel haben wir ein Array `productPrices` deklariert mit `const productPrices = []`. Es hat sich eingebürgert, JavaScript Arrrays als `const` zu deklarieren - was aber nicht heisst, dass der Inhalt konstant sein muss. Mit den eckigen Klammern `[]` wird JavaScript signalisiert, dass es sich hier nicht um eine einfache Variable mit genau einem Wert handelt, sondern eben um ein Array. Die einzelnen Werte im Array werden in den eckigen Klammern durch ein Komma `,` getrennt angegeben.\n",
    "\n",
    "Um auf einzelne Werte aus dem Array zuzugreifen, wird der Name des Arrays aufgerufen, gefolgt von eckigen Klammern `[]` und in den Klammern ein Index. Das erste Element im Array hat den Index `0`, mit `productPrices[0]` wird also der erste Wert aus dem Array `productPrices` angesprochen.\n",
    "\n",
    "Um den mittleren Preis zu berechnen, werden die einzelnen Array Elemente aufsummiert und dann durch die Anzahl Array Elemente geteilt. Offensichtlich ist die Eigenschaft `length` des Objektes `array` die Anzahl Elemente. Etwas unschön bleibt im obigen Beispiel die Tatsache, dass die einzelnen Produktpreise immer noch in der Summe einzeln aufgeführt werden müssen. Doch auch dafür gibt es eine Lösung:"
   ]
  },
  {
   "cell_type": "markdown",
   "id": "7d8d164b-e90b-4cc4-9578-7b0f3239ae35",
   "metadata": {},
   "source": [
    "## Arrays iterieren\n",
    "\n",
    "Alle Werte eines Arrays zu summieren ist eine häufige Aufgabe beim Programmieren und die Lösung dazu lautet, das Array mit Hilfe einer For Schleife zu iterieren resp. zu durchlaufen. Die For Schleife wurde in der letzten Lektion eingeführt. Um ein Array zu durchlaufen existiert eine speziell angepasste Version der For Schleife:"
   ]
  },
  {
   "cell_type": "code",
   "execution_count": null,
   "id": "8526d7ce-090f-4a8d-9915-4ce0b35ac323",
   "metadata": {},
   "outputs": [],
   "source": [
    "%%html\n",
    "\n",
    "<div class=\"html-output\">\n",
    "\n",
    "<script>\n",
    "{\n",
    "    const productPrices = [23.90, 123, 98.90, 12.50];\n",
    "    \n",
    "    let productPriceSum = 0;\n",
    "    \n",
    "    for (let price of productPrices) {\n",
    "        productPriceSum += price;\n",
    "    }\n",
    "    \n",
    "    let productMeanPrice = productPriceSum / productPrices.length;\n",
    "    \n",
    "    document.getElementById(\"meanPrice3\").innerHTML = productMeanPrice;\n",
    "}\n",
    "</script>\n",
    "\n",
    "<h1>Der mittlere Produktpreis beträgt: <span id=\"meanPrice3\"></span> CHF</h1>\n",
    "\n",
    "</div>"
   ]
  },
  {
   "cell_type": "markdown",
   "id": "08c2c224-1826-49dd-9b54-d987100a5b54",
   "metadata": {},
   "source": [
    "Mit Hilfe der For Schleife `for (let price of productPrices) {}` kann pro Durchlauf auf ein Element aus dem Array `productPrices` zugegriffen werden und zwar unter der Variable `price`, wie es in der Klammer der For Schleife deklariert wurde. Es gibt hier also keinen Index `i` oder Ähnliches, sondern die einzelnen Werte aus dem Array sind direkt verfügbar in der For Schleife. Innerhalb der Schleife wird nun die Variable `productPriceSum` Schritt für Schritt aufsummiert, wobei die Konstruktion `productSumPrice += price` eine Abkürzung für `productSumPrice = productSumPrice + price` darstellt."
   ]
  },
  {
   "cell_type": "markdown",
   "id": "aa353f5c-81f7-43c8-afe7-c88f5d68a2fb",
   "metadata": {},
   "source": [
    "<div class=\"exercise\">\n",
    "\n",
    "<img src=\"../../assets/img/dumbbell.png\" class=\"exercise_image\">\n",
    "\n",
    "<span class=\"exercise_label\">Aufgabe</span> \n",
    "\n",
    "Schreibe einen JavaScript Code, der ein Array `favouredNames` beinhaltet, in dem du deine Lieblingsnamen als einzelne Werte einprogrammierst. Aus diesem Array sol mit Hilfe einer For Schleife ein `string` erzeugt werden, der die Lieblingsnamen in der Form `Name1, Name2, Name3, Name4, ` zusammensetzt und im `<span>` ausgibt.\n",
    "    \n",
    "Hinweis: Um das letzte Komma und Leerzeichen im String wieder rauszulöschen (die es ja dort nicht braucht), kannst du die `string` Methode `slice()` mit den Parametern `slice(0, -2)` anwenden, welche einfach die letzten zwei Zeichen aus dem `string` löscht.\n",
    "\n",
    "</div>"
   ]
  },
  {
   "cell_type": "code",
   "execution_count": null,
   "id": "8063c4be-3457-4d87-976c-4e7dc6b5807d",
   "metadata": {},
   "outputs": [],
   "source": [
    "%%html\n",
    "\n",
    "<div class=\"html-output\">\n",
    "\n",
    "<!-- Beginn eigener Code -->\n",
    "\n",
    "\n",
    "\n",
    "<!-- Ende eigener Code -->\n",
    "\n",
    "<h1>Meine Lieblingsnamen sind: <span id=\"myNames1\"></span></h1>\n",
    "\n",
    "</div>"
   ]
  },
  {
   "cell_type": "markdown",
   "id": "5f6571a4-2457-4aaf-a83b-87a6bcc0826a",
   "metadata": {},
   "source": [
    "## Werte zu einem Array hinzufügen\n",
    "\n",
    "Nach Erstellung eines Arrays können diesem auch weitere Werte hinzugefügt werden. Dafür wird die `array` Methode `push()` benützt, die als Parameter den hinzuzufügenden Wert braucht:"
   ]
  },
  {
   "cell_type": "code",
   "execution_count": null,
   "id": "15155307-448d-4a22-a9e1-73827c21852c",
   "metadata": {},
   "outputs": [],
   "source": [
    "%%html\n",
    "\n",
    "<div class=\"html-output\">\n",
    "\n",
    "<script>\n",
    "{\n",
    "    const productPrices = [23.90, 123, 98.90, 12.50];\n",
    "    \n",
    "    productPrices.push(34.50);\n",
    "    \n",
    "    let productPriceSum = 0;\n",
    "    \n",
    "    for (let price of productPrices) {\n",
    "        productPriceSum += price;\n",
    "    }\n",
    "    \n",
    "    let productMeanPrice = productPriceSum / productPrices.length;\n",
    "    \n",
    "    document.getElementById(\"meanPrice4\").innerHTML = productMeanPrice;\n",
    "}\n",
    "</script>\n",
    "\n",
    "<h1>Der mittlere Produktpreis beträgt: <span id=\"meanPrice4\"></span> CHF</h1>\n",
    "\n",
    "</div>"
   ]
  },
  {
   "cell_type": "markdown",
   "id": "e3241ead-64ef-4ea0-8637-2c01d404ab25",
   "metadata": {},
   "source": [
    "Im obigen Beispiel wird nun klar, wieso die Arbeit mit Arrays effizient ist: Um ein weiteres Produkt in die Mittelwertberechnung einfliessen zu lassen, war es einzig nötig, dem Array den neuen Produktpreis hinzuzufügen. Die For Schleife muss nicht angepasst werden, weil diese ja die Anzahl Elemente im Array automatisch berücksichtigt und ebenfalls die Preisberechnung am Schluss nicht, weil dort auf die Länge des Arrays zugegriffen wird und der Divisor nicht etwa fix einprogrammiert ist."
   ]
  },
  {
   "cell_type": "markdown",
   "id": "f37a32ec-23b7-4702-9121-4a2d07b2a2cc",
   "metadata": {},
   "source": [
    "# DOM Manipulation\n",
    "\n",
    "Wie im Notebook über HTML gezeigt, besteht eine Website aus verschiedenen, teilweise ineinander verschachtelten, HTML Tags mit Inhalt. Die Gesamtheit dieser Tags und Inhalt wird vereinfacht als **Document Object Model** resp. **DOM** bezeichnet. Mit JavaScript kann das DOM verändert werden (wie ganz zu Beginn des JavaScript Teils schon gezeigt wurde). Dies soll nun systematisiert werden."
   ]
  },
  {
   "cell_type": "markdown",
   "id": "fc73dcbd-f6fa-4781-bb53-e5374bfb0dd3",
   "metadata": {},
   "source": [
    "## Ein HTML Element hinzufügen\n",
    "\n",
    "Wenn ein neues HTML Element dem DOM hinzugefügt werden soll, muss es zuerst erstellt werden und anschliessend seinem \"Eltern-Element\", also dem hierarchisch höheren HTML Element hinzugefügt werden. Dieses muss dafür typischerweise per ID angesprochen werden:"
   ]
  },
  {
   "cell_type": "code",
   "execution_count": null,
   "id": "8a6c49f2-6056-477b-b199-4ff36841a0c8",
   "metadata": {},
   "outputs": [],
   "source": [
    "%%html\n",
    "\n",
    "<div class=\"html-output\">\n",
    "\n",
    "<ul id=\"nobelWomen1\">\n",
    "    <li>Marie Curie</li>\n",
    "    <li>Berta von Suttner</li>\n",
    "    <li>Selma Lagerlöf</li>\n",
    "</ul>\n",
    "\n",
    "\n",
    "<script>\n",
    "{\n",
    "    let listNode = document.createElement(\"li\");\n",
    "    listNode.innerHTML = \"Grazia Deledda\";\n",
    "    document.getElementById(\"nobelWomen1\").appendChild(listNode);\n",
    "}\n",
    "</script>\n",
    "\n",
    "</div>"
   ]
  },
  {
   "cell_type": "markdown",
   "id": "2d96d81e-dd7e-4238-821b-a3ccc6081449",
   "metadata": {},
   "source": [
    "Im obigen Beispiel wird also zuerst durch `let listNode = document.createElement(\"li\")` mit Hilfe der Methode `createElement()` des Objekts `document` ein neues HTML `<li>` Element erstellt. Weil dieses im weiteren Verlauf des Codes gebraucht wird, wir es einer Variable zugewiesen. Variablen können also nicht nur Zahl- und Stringwerte beinhalten, sondern ebenso ganze Objekte. Danach wird wird die Eigenschaft `innerHTML` des `<li>` Elementes verändert und anschliessend das ganze Element dem übergeordneten `<ul>` Element angehängt. Das übergeordnete Element wird mit Hilfe der schon bekannten Methode `getElementById()` ausgewählt. Für die \"Anhängung\" des Elements wird die Methode `appendChild()` benutzt, die als Parameter das anzuhängende Element (hier der `listNode`) erhält."
   ]
  },
  {
   "cell_type": "markdown",
   "id": "3b5c4fbc-548b-49bd-8b45-0ff57ea53854",
   "metadata": {},
   "source": [
    "<div class=\"exercise\">\n",
    "\n",
    "<img src=\"../../assets/img/dumbbell.png\" class=\"exercise_image\">\n",
    "\n",
    "<span class=\"exercise_label\">Aufgabe</span> \n",
    "\n",
    "Erweitere das obige Beispiel um die Möglichkeit, dass der Liste nicht eine fest einprogrammierte Nobelpreisgewinnerin hinzugefügt wird, sondern dass der entsprechende Namen aus einem Formularfeld eingelesen werden soll. Dies soll mit Hilfe einer selbst definierten Funktion `addNobelWoman()` geschehen, die als Parameter der einzufügende Name enthält und ausgelöst wird, sobald ein Knopf gedrückt wird.\n",
    "    \n",
    "</div>"
   ]
  },
  {
   "cell_type": "code",
   "execution_count": null,
   "id": "70f2e48e-8edb-489c-a046-93c052c03504",
   "metadata": {},
   "outputs": [],
   "source": [
    "%%html\n",
    "\n",
    "<div class=\"html-output\">\n",
    "\n",
    "<ul id=\"nobelWomen2\">\n",
    "    <li>Marie Curie</li>\n",
    "    <li>Berta von Suttner</li>\n",
    "    <li>Selma Lagerlöf</li>\n",
    "</ul>\n",
    "\n",
    "<!-- Beginn eigener Code -->\n",
    "\n",
    "\n",
    "\n",
    "<!-- Ende eigener Code -->\n",
    "\n",
    "</div>"
   ]
  },
  {
   "cell_type": "markdown",
   "id": "06a5df31-c45f-4648-9b62-5cbded2835c6",
   "metadata": {},
   "source": [
    "## Mehrere Elemente gleichzeitig bearbeiten\n",
    "\n",
    "Mit Arrays und der For Schleife sind nun die Werkzeuge bekannt, um mehrere DOM Elemente gleichzeitig zu bearbeiten. Dies kann geschehen, in dem man nicht Elemente nach deren ID auswählt (IDs sind ja einzigartig und dementsprechend nur dafür geeignet, ein einzelnes Element anzusprechen), sondern mit Hilfe der Klasse. Die Idee der Klasse wurde im Notebook über CSS eingeführt. Entsprechend existiert eine Methode `getElementsByClassName()`. Da diese Methode alle Elemente (und meist sind dies mehrere) mit der als Parameter angegebenen Klasse zurückgibt, werden diese als Array zurückgegeben. Im nachfolgenden Beispiel ist ein kurzer Text über JavaScript Kontrollstrukturen angegeben, in dem verschiedene Worte eine Klasse `glossary1` zugewiesen haben. Die Idee ist nun, diese Worte mit Hilfe von JavaScript in ein Glossar in Form einer ungeordneten Liste `<ul>` einzufügen:"
   ]
  },
  {
   "cell_type": "code",
   "execution_count": null,
   "id": "1591fe48-49aa-4c47-a87a-902aa381cf4d",
   "metadata": {},
   "outputs": [],
   "source": [
    "%%html\n",
    "\n",
    "<div class=\"html-output\">\n",
    "\n",
    "<style>\n",
    ".glossary1 {\n",
    "    text-decoration: underline;\n",
    "    text-decoration-style: dotted;\n",
    "}\n",
    "</style>\n",
    "\n",
    "<p>JavaScript kennt die üblichen <span class=\"glossary1\">Kontrollstrukturen</span>. Sollen diese mehr als eine \n",
    "<span class=\"glossary1\">Anweisung</span> enthalten, so muss ein in <span class=\"glossary1\">Geschweifte Klammern</span> eingeschlossener \n",
    "<span class=\"glossary1\">Block</span> eingesetzt werden. \n",
    "Anweisungen werden mit einem <span class=\"glossary1\">Semikolon</span> abgeschlossen. Dies ist aber in den meisten Fällen optional; \n",
    "durch die automatic semicolon insertion wird es meist automatisch ergänzt.</p>\n",
    "\n",
    "\n",
    "<ul id=\"glossaryList1\">\n",
    "</ul>\n",
    "\n",
    "\n",
    "<script>\n",
    "{\n",
    "    function addGlossary1() {   \n",
    "        let glossaryAll = document.getElementsByClassName(\"glossary1\");\n",
    "        for (let glossaryItem of glossaryAll) {\n",
    "            let listNode = document.createElement(\"li\");\n",
    "            listNode.innerHTML = glossaryItem.innerHTML;\n",
    "            document.getElementById(\"glossaryList1\").appendChild(listNode);\n",
    "        }\n",
    "    }\n",
    "}\n",
    "</script>\n",
    "\n",
    "<button onclick=\"addGlossary1()\">Glossar hinzufügen</button>\n",
    "\n",
    "</div>"
   ]
  },
  {
   "cell_type": "markdown",
   "id": "4d7a04bf-cea1-45ca-8d2b-bed751a5653e",
   "metadata": {},
   "source": [
    "Im obigen Beispiel werden also im `array` `glossaryAll` die Elemente gespeichert, der die Klasse `glossary1` zugewiesen wurden. Dieses Array kann mit einer For Schleife durchlaufen werden und damit ist bei jedem Durchlauf der Schleife ein Element aus dem Array unter der Variable `glossaryItem` verfügbar. Diese Element haben die bekannte Eigenschaft `innerHTML`, die benötigt wird, um auf den Glossar Begriff zugreifen zu können."
   ]
  },
  {
   "cell_type": "markdown",
   "id": "c2a25e2c-a531-4353-954f-a9e16b22dc11",
   "metadata": {},
   "source": [
    "# Abschlussaufgabe"
   ]
  },
  {
   "cell_type": "markdown",
   "id": "a3dfae25-147f-4ef8-9eb4-cb5e07bd2495",
   "metadata": {},
   "source": [
    "<div class=\"exercise\">\n",
    "\n",
    "<img src=\"../../assets/img/dumbbell.png\" class=\"exercise_image\">\n",
    "\n",
    "<span class=\"exercise_label\">Aufgabe</span> \n",
    "\n",
    "Erweitere das obige Beispiel, damit das Glossar nach dem Alphabet geordnet in der Liste erscheint. Dazu muss zuerst ein Array mit allen Glossar Begriffen erstellt werden (erste For Schleife), anschliessend muss dieses Array sortiert werden mit Hilfe der Methode `sort()` des `array`. Anschliessend braucht es eine zweite For Schleife, die die nun sortierten Begriffe als HTML `<li>` Elemente der Liste anhängt. \n",
    "    \n",
    "</div>"
   ]
  },
  {
   "cell_type": "code",
   "execution_count": null,
   "id": "6e71abd1-cdef-4af3-8cf9-2a5869823d87",
   "metadata": {},
   "outputs": [],
   "source": [
    "%%html\n",
    "\n",
    "<div class=\"html-output\">\n",
    "\n",
    "<style>\n",
    ".glossary2 {\n",
    "    text-decoration: underline;\n",
    "    text-decoration-style: dotted;\n",
    "}\n",
    "</style>\n",
    "\n",
    "<p>JavaScript kennt die üblichen <span class=\"glossary2\">Kontrollstrukturen</span>. Sollen diese mehr als eine \n",
    "<span class=\"glossary2\">Anweisung</span> enthalten, so muss ein in <span class=\"glossary2\">Geschweifte Klammern</span> eingeschlossener \n",
    "<span class=\"glossary2\">Block</span> eingesetzt werden. \n",
    "Anweisungen werden mit einem <span class=\"glossary2\">Semikolon</span> abgeschlossen. Dies ist aber in den meisten Fällen optional; \n",
    "durch die automatic semicolon insertion wird es meist automatisch ergänzt.</p>\n",
    "\n",
    "\n",
    "\n",
    "<ul id=\"glossaryList2\">\n",
    "</ul>\n",
    "\n",
    "<!-- Beginn eigener Code -->\n",
    "\n",
    "\n",
    "\n",
    "<!-- Ende eigener Code -->\n",
    "\n",
    "<button onclick=\"addGlossary2()\">Glossar hinzufügen</button>\n",
    "\n",
    "</div>"
   ]
  }
 ],
 "metadata": {
  "kernelspec": {
   "display_name": "Python 3 (ipykernel)",
   "language": "python",
   "name": "python3"
  },
  "language_info": {
   "codemirror_mode": {
    "name": "ipython",
    "version": 3
   },
   "file_extension": ".py",
   "mimetype": "text/x-python",
   "name": "python",
   "nbconvert_exporter": "python",
   "pygments_lexer": "ipython3",
   "version": "3.9.6"
  },
  "toc-autonumbering": true
 },
 "nbformat": 4,
 "nbformat_minor": 5
}
