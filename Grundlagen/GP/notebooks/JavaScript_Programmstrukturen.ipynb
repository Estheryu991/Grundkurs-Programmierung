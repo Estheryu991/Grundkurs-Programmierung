{
 "cells": [
  {
   "cell_type": "code",
   "execution_count": null,
   "id": "aff358b0-9480-459d-b149-6d577a98c014",
   "metadata": {},
   "outputs": [],
   "source": [
    "%%html\n",
    "\n",
    "<link rel=\"stylesheet\" href=\"../../assets/styles/style.css\">"
   ]
  },
  {
   "cell_type": "markdown",
   "id": "989fd871-948d-4e30-8ebb-a9d967273ea7",
   "metadata": {},
   "source": [
    "<img src=\"../../assets/img/DN.png\" style=\"float:right;width:150px\">\n",
    "\n",
    "JavaScript - Programmstrukturen\n",
    "\n",
    "# JavaScript Programmstrukturen\n",
    "\n",
    "Um Quellcode mit komplexeren Möglichkeiten zu erzeugen, ist es notwendig, Möglichkeiten kennen zu lernen, die den \"linearen\" Fluss der Anweisungen verändern. Bisher wurden alle Anweisungen im JavaScript Quellcode mehr oder weniger \"von oben nach unten\" ausgeführt (Ausnahmen stellen die Funktionen dar, die den Fluss von oben nach unten ebenfalls durchbrechen können, weil die Funktionsdefinition an anderer Stelle als der Funktionsaufruf stehen kann).\n",
    "\n",
    "Die Realität ist aber nicht linear und genau so wenig sollte es der JavaScript Quellcode sein. Um dies zu erreichen, werden in dieser Lektion **Verzweigungen** und **Wiederholungen** eingeführt."
   ]
  },
  {
   "cell_type": "markdown",
   "id": "c476981a-59a0-4502-8e58-a608462e8808",
   "metadata": {},
   "source": [
    "# Verzweigungen\n",
    "\n",
    "Eine Verzweigung bedeutet, dass der Programmablauf basierend auf dem Eintreten einer gewissen Bedingung an einem bestimmten Punkt in eine andere Richtung abgelenkt wird. Eine solche Verzweigung existiert in zwei Grundvarianten, welche am einfachsten anhand eines Flussdiagrammes dargestellt werden können:"
   ]
  },
  {
   "cell_type": "markdown",
   "id": "7eb75047-84ab-40e8-84da-4b030960d6be",
   "metadata": {},
   "source": [
    "## If Verzweigung\n",
    "\n",
    "<img src=\"img/if_1.svg\" style=\"width:350px;float:right;margin:20px\"> Bei der If Verzweigung werden zuerst alle Anweisungen aus (A) ausgeführt. Dann wird geprüft, ob eine definierte Bedingung wahr ist. Ist dies der Fall, werden die Anweisungen aus (B) ausgeführt. Wenn die Bedingung falsch war oder die Anweisungen aus (B) ausgeführt wurden, werden die Anweisungen aus (C) durchgeführt."
   ]
  },
  {
   "cell_type": "markdown",
   "id": "e3822198-de50-4afd-83f5-731a2db15dc4",
   "metadata": {},
   "source": [
    "Nachfolgende Zelle zeigt eine If Verzweigung als JavaScript Code:"
   ]
  },
  {
   "cell_type": "code",
   "execution_count": null,
   "id": "d309a91a-f90d-4a4d-adda-4d12ef920100",
   "metadata": {},
   "outputs": [],
   "source": [
    "%%html\n",
    "\n",
    "<div class=\"html-output\">\n",
    "\n",
    "<script>\n",
    "{\n",
    "    let number = Math.random();\n",
    "    document.getElementById(\"randNumber1\").innerHTML = number;\n",
    "    if (number > 0.5) {\n",
    "           document.getElementById(\"randMessage1\").innerHTML = \"grosse\";\n",
    "    }\n",
    "    document.getElementById(\"randDouble1\").innerHTML = 2 * number;\n",
    "}\n",
    "</script>\n",
    "\n",
    "<h1><span id=\"randNumber1\"></span> ist eine <span id=\"randMessage1\"></span> Zahl</h1>\n",
    "<h1>Und wenn die Zahl verdoppelt wird, ist das Resultat: <span id=\"randDouble1\"></span></h1>\n",
    "\n",
    "</div>"
   ]
  },
  {
   "cell_type": "markdown",
   "id": "2e2035d3-a659-4b8e-b0a0-27b49c69048a",
   "metadata": {},
   "source": [
    "Die Anweisungen (A) beinhalten beim obigen Beispiel also die Deklaration einer Variable und die Zuweisung eines Zufallswertes. Anschliessend wird dieser Wert als Überschrift 1 ausgegeben. Dann folgt die Prüfung der Bedingung: `if (number > 0.5)`, wenn also die Zufallszahl grösser als 0.5 ist, wird die Anweisung (B) ausgeführt und ein 'grosse' eingefügt. Anschliessend wird unabhängig von der Prüfung die Anweisung (C) ausgeführt und die Zahl noch verdoppelt und ausgegeben. Zu den Anweisungen (B), die nur ausgeführt werden, wenn die Bedingung erfüllt ist, gehört alles, was sich nach dem `if ()` Teil in den geschweiften Klammern `{}` befindet."
   ]
  },
  {
   "cell_type": "markdown",
   "id": "21dbce98-8ef5-4cdf-9a16-615d0b3e58b8",
   "metadata": {},
   "source": [
    "## If Else Verzweigung\n",
    "\n",
    "<img src=\"img/if_2.svg\" style=\"width:550px;float:right;margin:20px\"> Bei der If Else Verzweigung werden zuerst alle Anweisungen aus (A) ausgeführt. Dann wird geprüft, ob eine definierte Bedingung wahr ist. Ist dies der Fall, werden die Anweisungen aus (B) ausgeführt. Wenn die Bedingung falsch war, werden die Anweisungen aus (C) ausgeführt. Anschliessend wird unabhängig vom Eintreten der Bedingung die Anweisungen aus (D) ausgeführt. Der Unterschied zur If Verzweigung ist also, dass die If Else Verzweigung auch Anweisungen enthält, die nur ausgeführt werden, wenn die Bedingung nicht erfüllt ist."
   ]
  },
  {
   "cell_type": "markdown",
   "id": "1b453c7f-ad21-42a1-923b-9cfdbac390c2",
   "metadata": {},
   "source": [
    "Nachfolgende Zelle zeigt eine If Else Verzweigung als JavaScript Code:"
   ]
  },
  {
   "cell_type": "code",
   "execution_count": null,
   "id": "50f30e0d-918f-46c3-bb6e-75a04bbbee5e",
   "metadata": {},
   "outputs": [],
   "source": [
    "%%html\n",
    "\n",
    "<div class=\"html-output\">\n",
    "\n",
    "<script>\n",
    "{\n",
    "    let number = Math.random();\n",
    "    document.getElementById(\"randNumber2\").innerHTML = number;\n",
    "    if (number > 0.5) {\n",
    "           document.getElementById(\"randMessage2\").innerHTML = \"grosse\";\n",
    "    } else {\n",
    "           document.getElementById(\"randMessage2\").innerHTML = \"kleine\";\n",
    "    }\n",
    "        document.getElementById(\"randDouble2\").innerHTML = 2 * number;\n",
    "}\n",
    "</script>\n",
    "\n",
    "<h1><span id=\"randNumber2\"></span> ist eine <span id=\"randMessage2\"></span> Zahl</h1>\n",
    "<h1>Und wenn die Zahl verdoppelt wird, ist das Resultat: <span id=\"randDouble2\"></span></h1>\n",
    "\n",
    "</div>"
   ]
  },
  {
   "cell_type": "markdown",
   "id": "7cf99717-68c3-4dba-acc7-ab3f7ddcea8d",
   "metadata": {},
   "source": [
    "Im Vergleich zur If Verzweigung ist also ein neuer Anweisungsblock dazugekommen, derjenige der nach `else` in geschweiften Klammern `{}` steht. Dieser wird nur ausgeführt, wenn die Bedingung nicht erfüllt ist. \n",
    "\n",
    "Weitere Infos zu Verzweigungen resp. Conditional Statements sind bei [W3Schools](https://www.w3schools.com/js/js_if_else.asp) zu finden."
   ]
  },
  {
   "cell_type": "markdown",
   "id": "7459e373-5d1c-4a2d-b6f8-4de0d5958ad4",
   "metadata": {},
   "source": [
    "# Operatoren\n",
    "\n",
    "In den obigen Beispielen wurde der 'grösser als' Operator benutzt, um die Bedingung in der 'if/else' Verzweigung zu testen: `if (number > 0.5)`. Es existieren noch weitere **Vergleichsoperatoren**, die häufig in Verzweigungen benutzt werden:\n",
    "\n",
    "## Vergleichsoperatoren\n",
    "\n",
    "* `>` grösser als\n",
    "* `<` kleiner als\n",
    "* `>=` grösser gleich\n",
    "* `<=` kleiner gleich\n",
    "* `==` gleich (nicht mit dem Zuweisungsoperator `=` zu verwechseln)\n",
    "* `!=` ungleich\n",
    "\n",
    "Das Resultat eines Vergleiches kann ausgegeben oder einer Variable zugewiesen werden:"
   ]
  },
  {
   "cell_type": "code",
   "execution_count": null,
   "id": "3a270298-3bc1-4d84-8e07-660927203e59",
   "metadata": {},
   "outputs": [],
   "source": [
    "%%html\n",
    "\n",
    "<div class=\"html-output\">\n",
    "\n",
    "<script>\n",
    "{\n",
    "    let result = 10 > 5;\n",
    "    alert(result);\n",
    "}\n",
    "</script>\n",
    "\n",
    "</div>"
   ]
  },
  {
   "cell_type": "markdown",
   "id": "fe6995cf-5dad-4dbf-ba35-9e20c1f98456",
   "metadata": {},
   "source": [
    "Vergleiche erzeugen als Wert also entweder `true` oder `false`. In diesem Fall wird von einer **booleschen Variable** gesprochen und damit ist gemeint, dass diese Variable nur zwei Werte annehmen kann, eben 'falsch' oder 'richtig'."
   ]
  },
  {
   "cell_type": "markdown",
   "id": "91e5463f-b03e-4765-be41-12af1655c56f",
   "metadata": {},
   "source": [
    "JavaScript kennt noch weitere Operatoren. Beispielsweise die **arithmetischen Operatoren**, mit denen ganz 'klassisch' gerechnet werden kann:\n",
    "\n",
    "## Arithmetische Operatoren\n",
    "\n",
    "* `+` Addition\n",
    "* `-` Subtraktion\n",
    "* `*` Multiplikation\n",
    "* `/` Division\n",
    "* `%` Modulo (Rest der Division, Bsp: 10 % 4 ergibt 2)\n",
    "* `**` Exponent (Bsp: 2 ** 10 ergibt 1024)\n",
    "* `++` Inkrementierung (`a++` ist das gleiche wie `a = a + 1`)\n",
    "* `--` Dekrementierung (`a--` ist das gleiche wie `a = a - 1`)"
   ]
  },
  {
   "cell_type": "markdown",
   "id": "07fd0b86-c0bd-4273-af86-aa43750f405e",
   "metadata": {},
   "source": [
    "<div class=\"exercise\">\n",
    "\n",
    "<img src=\"../../assets/img/dumbbell.png\" class=\"exercise_image\">\n",
    "\n",
    "<span class=\"exercise_label\">Aufgabe</span>\n",
    "    \n",
    "Programmiere eine If Else Verzweigung, die ausgibt, ob eine Zahl ohne Rest durch 3 teilbar ist:\n",
    "\n",
    "</div>"
   ]
  },
  {
   "cell_type": "code",
   "execution_count": null,
   "id": "1d48c884-2300-4429-96be-c424fc2ffaee",
   "metadata": {},
   "outputs": [],
   "source": [
    "%%html\n",
    "\n",
    "<div class=\"html-output\">\n",
    "\n",
    "<script>\n",
    "{\n",
    "    let number = 57;\n",
    "    document.getElementById(\"number1\").innerHTML = number;\n",
    "    \n",
    "    <!-- Beginn eigener Code -->\n",
    "    \n",
    "    \n",
    "    \n",
    "    <!-- Ende eigener Code -->\n",
    "\n",
    "}\n",
    "</script>\n",
    "\n",
    "<h1>Die Zahl <span id=\"number1\"></span> <span id=\"message1\"></span>!</h1>\n",
    "\n",
    "</div>"
   ]
  },
  {
   "cell_type": "markdown",
   "id": "4bae47f5-9ff7-4eba-b43f-ccdbf5345711",
   "metadata": {},
   "source": [
    "<div class=\"exercise\">\n",
    "\n",
    "<img src=\"../../assets/img/dumbbell.png\" class=\"exercise_image\">\n",
    "\n",
    "<span class=\"exercise_label\">Aufgabe</span>\n",
    "    \n",
    "Erweitere den Quellcode aus der obigen Aufgabe so, dass die Zahl und der Teiler nicht fix im Quellcode hinterlegt sind, sondern aus zwei Formularfeldern ausgelesen werden können. Die Prüfung soll mit Hilfe einer zu definierenden Funktion `checkDivision(number, divisor)` erfolgen.\n",
    "\n",
    "</div>"
   ]
  },
  {
   "cell_type": "code",
   "execution_count": null,
   "id": "268dd11e-a57c-4684-afda-efd889152fd9",
   "metadata": {},
   "outputs": [],
   "source": [
    "%%html\n",
    "\n",
    "<div class=\"html-output\">\n",
    "\n",
    "<!-- Beginn eigener Code -->\n",
    "\n",
    "\n",
    "\n",
    "<!-- Ende eigener Code -->\n",
    "\n",
    "<p>Zahl: <input type=\"text\" id=\"number2\"></p>\n",
    "<p>Divisor: <input type=\"text\" id=\"divisor2\"></p>\n",
    "<p><button onclick=\"checkDivision(document.getElementById('number2').value, document.getElementById('divisor2').value)\">Zahl prüfen!</button></p>\n",
    "<p id=\"resultParagraph1\"></p>\n",
    "\n",
    "</div>"
   ]
  },
  {
   "cell_type": "markdown",
   "id": "149004bc-d4fd-4aa0-a8d5-7d4c971f47d8",
   "metadata": {},
   "source": [
    "## Logische Operatoren\n",
    "\n",
    "Wenn Bedingungen geprüft werden sollen, kann es sein, dass verschiedene Bedingungen gleichzeitig oder einzelne davon eintreten sollen, damit die Prüfung erfolgreich ist. Dazu existieren die **logischen Operatoren**:\n",
    "\n",
    "* `&&` logisches 'und'\n",
    "* `||` logisches 'oder'"
   ]
  },
  {
   "cell_type": "code",
   "execution_count": null,
   "id": "83125d74-3ac1-4283-a192-de395fc93292",
   "metadata": {},
   "outputs": [],
   "source": [
    "%%html\n",
    "\n",
    "<div class=\"html-output\">\n",
    "\n",
    "<script>\n",
    "{\n",
    "    let result = 10 > 5 && 2 == 3;\n",
    "    alert(result);\n",
    "}\n",
    "</script>\n",
    "\n",
    "</div>"
   ]
  },
  {
   "cell_type": "markdown",
   "id": "db531851-aca3-4360-a80c-4bf50c4f70fa",
   "metadata": {},
   "source": [
    "Das obige Beispiel ergibt `false` weil von den beiden Bedingungen nur `10 > 5` `true` ergibt (2 ist nicht gleich 3). Um gesamthaft ein `true` zu ergeben, müssten aber beide Bedingungen wahr sein."
   ]
  },
  {
   "cell_type": "markdown",
   "id": "3c96ec4c-88e9-476f-9702-ca9df8eb7ea6",
   "metadata": {},
   "source": [
    "## \"Stringoperatoren\"\n",
    "\n",
    "Häufig sollen aber nicht einfach 'Zahlbedingungen' geprüft werden. Ein wichtiger Anwendungsfall ist, dass geprüft werden soll, ob ein **Teilstring** innerhalb eines anderen Strings vorhanden ist. Es soll also beispielhaft geprüft werden, ob `\"Bern\"` ein Teil von `\"Zürich ist die schönste Stadt in der Schweiz\"` ist:"
   ]
  },
  {
   "cell_type": "code",
   "execution_count": null,
   "id": "b64fb737-eaed-4c97-aa67-95751fed9078",
   "metadata": {},
   "outputs": [],
   "source": [
    "%%html\n",
    "\n",
    "<div class=\"html-output\">\n",
    "\n",
    "<script>\n",
    "{\n",
    "    let bern = \"Bern\";\n",
    "    let claim = \"Zürich ist die schönste Stadt der Schweiz\";\n",
    "    let match = claim.indexOf(bern);\n",
    "    if (match == -1) {\n",
    "        alert(\"'\" + bern + \"' ist nicht Teil von: '\" + claim + \"'\");\n",
    "    } else {\n",
    "        alert(\"'\" + bern + \"' kommt an Stelle: \" + match + \" in '\" + claim + \"' vor\");\n",
    "    }\n",
    "}\n",
    "</script>\n",
    "\n",
    "</div>"
   ]
  },
  {
   "cell_type": "markdown",
   "id": "da79fb12-450c-4f07-893f-280911769e39",
   "metadata": {},
   "source": [
    "Die Methode `indexOf()` des `string` Objektes erzeugt als Rückgabewert die Position, in der der gesuchte String gefunden wurde (also das wievielte Zeichen vom Start des `string`. Wird der String nicht gefunden, wird als Resultat `-1` zurückgegeben. \n",
    "\n",
    "Weitere Methoden zum Suchen von Strings in Strings sind bei [W3Schools](https://www.w3schools.com/js/js_string_search.asp) zu finden."
   ]
  },
  {
   "cell_type": "markdown",
   "id": "396f6aa1-7118-4fd3-b9ee-218985811d17",
   "metadata": {
    "tags": []
   },
   "source": [
    "# Schleifen\n",
    "\n",
    "Neben Verzweigungen sind **Schleifen** ein wichtiges Element im Programmieren. Schleifen dienen dazu, gewisse Anweisungen zu wiederholen. Eine solche Wiederholung kann beliebig oft geschehen.\n",
    "\n",
    "Ob die Anweisungen wiederholt werden, hängt ebenfalls von Bedingungen ab, die geprüft werden. Es wird unterschieden zwischen Wiederholungen, die:\n",
    "\n",
    "* vor der Ausführung der Anweisungen prüfen, ob die Bedingung erfüllt ist und dann die Anweisungen ausführen und danach wieder prüfen, ob die Bedingung immer noch erfüllt ist und falls ja, die Anweisungen ein weiteres mal ausführen und so weiter..., solche Wiederholungen werden als **While Schleifen** bezeichnet.\n",
    "* die Anweisungen mindestens einmal ausführen und danach prüfen, ob die Bedinungen immer noch erfüllt ist und wenn dies gegeben ist, eine weitere Wiederholung starten und so weiter..., solche Wiederholungen werden als **Do While Schleifen** bezeichnet."
   ]
  },
  {
   "cell_type": "markdown",
   "id": "85001077-43a0-4d2d-ab58-54fd3d725576",
   "metadata": {
    "tags": []
   },
   "source": [
    "## While Schleife\n",
    "\n",
    "<img src=\"img/while.svg\" style=\"width:350px;float:right;margin:20px\"> Bei der While Schleife werden zuerst die Anweisungen (A) ausgeführt. Anschliessend wird die Bedingung geprüft und falls diese erfüllt ist, werden die Anweisungen (B) ausgeführt und anschliessend die Bedingung wieder geprüft und so weiter..., sobald die Bedingung nicht mehr wahr ist, werden die Anweisungen (C) ausgeführt."
   ]
  },
  {
   "cell_type": "markdown",
   "id": "8fdba15e-70fd-4746-8f55-5984bc98991a",
   "metadata": {},
   "source": [
    "Nachfolgende Zelle zeigt eine While Schleife als JavaScript Code:"
   ]
  },
  {
   "cell_type": "code",
   "execution_count": null,
   "id": "76adf54e-43eb-470f-86db-66be51d9d40a",
   "metadata": {},
   "outputs": [],
   "source": [
    "%%html\n",
    "\n",
    "<div class=\"html-output\">\n",
    "\n",
    "<script>\n",
    "{\n",
    "    let randomNumber;\n",
    "    let randomSum = 0;\n",
    "    let randomString = \"\";\n",
    "    while (randomSum < 10) {\n",
    "        randomNumber = Math.random();\n",
    "        randomSum = randomSum + randomNumber;\n",
    "        randomString = randomString + \" + \" + randomNumber;\n",
    "    }\n",
    "    randomString = randomString + \" = \" + randomSum;\n",
    "    document.getElementById(\"randomResult\").innerHTML = randomString;\n",
    "}\n",
    "</script>\n",
    "\n",
    "<p id=\"randomResult\"></p>\n",
    "\n",
    "</div>"
   ]
  },
  {
   "cell_type": "markdown",
   "id": "0eb70f7e-24c3-49f2-b441-b6e607163681",
   "metadata": {},
   "source": [
    "## Do While Schleife\n",
    "\n",
    "<img src=\"img/do_while.svg\" style=\"width:200px;float:right;margin:20px\"> Bei der Do While Schleife werden zuerst die Anweisungen (A) ausgeführt. Anschliessend werden die Anweisungen (B) ein erstes mal ausgeführt. Danach wird die Bedingung geprüft und falls diese erfüllt ist, werden die Anweisungen (B) ein weiteres mal ausgeführt und anschliessend die Bedingung wieder geprüft und so weiter... sobald die Bedingung nicht mehr wahr ist, werden die Anweisungen (C) ausgeführt."
   ]
  },
  {
   "cell_type": "markdown",
   "id": "bebc35f8-620b-4552-a569-a1de2cc81ab4",
   "metadata": {},
   "source": [
    "## For Schleife\n",
    "\n",
    "Häufig möchte man für die Anweisungen, die wiederholt werden, wissen, welche Wiederholung im Moment gerade durchgeführt wird. Wenn beispielsweise ein `string` Zeichen für Zeichen untersucht werden soll, muss klar sein, an welchem Zeichen momentan \"gearbeitet\" wird. Dies kann mit Hilfe einer **For Schleife** geschehen. Die For Schleife stellt einen Zähler zur Verfügung, der für jeden Durchlauf hochgezählt wird.\n",
    "\n",
    "Nachfolgende Zelle zeigt eine For Schleife als JavaScript Code:"
   ]
  },
  {
   "cell_type": "code",
   "execution_count": null,
   "id": "f1e6146d-9179-453b-b49c-a801a9e560de",
   "metadata": {},
   "outputs": [],
   "source": [
    "%%html\n",
    "\n",
    "<div class=\"html-output\">\n",
    "\n",
    "<script>\n",
    "{\n",
    "    let myString = \"JavaScript\";\n",
    "    let resultString = \"\";\n",
    "    for (let i=0; i<myString.length; i++) {\n",
    "        resultString = resultString + myString.charAt(i) + \": \" + myString.charCodeAt(i) + \", \";\n",
    "    }\n",
    "    document.getElementById(\"utf16Codes\").innerHTML = resultString;\n",
    "}\n",
    "</script>\n",
    "\n",
    "<p id=\"utf16Codes\"></p>\n",
    "\n",
    "</div>"
   ]
  },
  {
   "cell_type": "markdown",
   "id": "6df1f885-4033-4b7e-a7f9-e8d9f13843aa",
   "metadata": {},
   "source": [
    "Die For Schleife braucht drei Terme in der Klammer `()`:\n",
    "\n",
    "* zuerst die Zählervariable, die direkt in der Klammer deklariert und zugewiesen wird, meist mit `let i = 0`, statt `i` kann aber eine beliebige Variable deklariert werden\n",
    "* die Bedingung, die für die Zählervariable geprüft werden soll - meist, dass sie kleiner als die Anzahl der gewünschten Wiederholungen sein soll\n",
    "* die Operation, die für jeden Durchgang mit der Zählervariable durchgeführt werden soll, meist eine Inkrementation um 1 mit `i++`\n",
    "\n",
    "Die drei Terme müssen durch Semikolons `;` abgetrennt werden.\n",
    "\n",
    "Im obigen Beispiel werden zwei `string` Methoden verwendet:\n",
    "\n",
    "* `charAt()`, die das Zeichen an der Position zurückgibt, die als Parameter übergeben wurde, also `string.charAt(1)` gibt das zweite Zeichen (das erste hat Position 0) zurück \n",
    "* `charCodeAt()`, die den UTF-16 Code des Zeichens an der Position, die als Parameter übergeben wurde, zurückgibt\n",
    "\n",
    "Mehr Infos für Interessierte zu Zeichenkodierungen bei [SELFHTML](https://wiki.selfhtml.org/wiki/Zeichencodierung)."
   ]
  },
  {
   "cell_type": "markdown",
   "id": "d81e4732-11fa-4111-be3f-2d61d6a9fed9",
   "metadata": {},
   "source": [
    "<div class=\"exercise\">\n",
    "\n",
    "<img src=\"../../assets/img/dumbbell.png\" class=\"exercise_image\">\n",
    "\n",
    "<span class=\"exercise_label\">Aufgabe</span>\n",
    "    \n",
    "Programmiere mit Hilfe einer For Schleife ein JavaScript Code, der die Zahlen von 1 bis 1000 zusammenzählt.\n",
    "    \n",
    "Frage für Leute mit mathematischem Interesse: Wie könnte man die Summe auch \"intelligenter\" berechnen und nicht nur durch die schiere Rechenkraft des Computers?\n",
    "\n",
    "</div>"
   ]
  },
  {
   "cell_type": "code",
   "execution_count": null,
   "id": "652b9ef2-e7af-461f-8b61-9e4926367f3e",
   "metadata": {},
   "outputs": [],
   "source": [
    "%%html\n",
    "\n",
    "<div class=\"html-output\">\n",
    "\n",
    "<!-- Beginn eigener Code -->\n",
    "\n",
    "\n",
    "\n",
    "<!-- Ende eigener Code -->\n",
    "\n",
    "<h1>Die Summe der Zahlen von 1 bis <span id=\"finalNumber\"></span> beträgt: <span id=\"sumOfNumbers\"></span></h1>\n",
    "\n",
    "</div>"
   ]
  },
  {
   "cell_type": "markdown",
   "id": "fc1ac44b-3776-4045-80b5-d47b316effcf",
   "metadata": {},
   "source": [
    "# Abschlussaufgabe"
   ]
  },
  {
   "cell_type": "markdown",
   "id": "0b056ba5-a822-42d2-95ac-c8bcb9ff1dea",
   "metadata": {},
   "source": [
    "<div class=\"exercise\">\n",
    "\n",
    "<img src=\"../../assets/img/dumbbell.png\" class=\"exercise_image\">\n",
    "\n",
    "<span class=\"exercise_label\">Aufgabe</span>\n",
    "    \n",
    "Schreibe einen JavaScript Code, der prüft, ob eine eigegebene Zahl eine Primzahl ist. Zur Erinnerung, Primzahlen können nur durch sich selbst ohne Rest geteilt werden. Die Strategie ist also: Beginnend mit der \"Testzahl\" 2, soll geprüft werden, ob die zu untersuchende Zahl ohne Rest durch diese Testzahl geteilt werden kann. Falls ja, hat man keine Primzahl (sie ist ja jetzt durch 2 teilbar), falls nein, muss die \"Testzahl\" um 1 inkrementiert werden und die Prüfung wieder durchgeführt werden usw. Falls eine \"Testzahl\" gefunden wird, soll eine boolesche Variable auf `true` gesetzt werden. Diese Variable braucht man in der Do While Schleife um zu prüfen, ob die Schleife erneut ausgeführt werden soll. \n",
    "    \n",
    "Die Do While Schleife läuft also, bis entweder eine \"Testzahl\" gefunden wurde, durch die die zu untersuchende Zahl ohne Rest teilbar ist oder wenn die \"Testzahl\" gleich gross wird wie die zu untersuchende Zahl, dann ist es nämlich eine Primzahl. Anschliessend muss mit einer If Else Verzweigung festgestellt werden, welcher Fall jetzt eingetreten ist (Teiler gefunden --> Keine Primzahl oder \"Testzahl\" gleich gross wie zu untersuchende Zahl --> Primzahl gefunden).\n",
    "    \n",
    "Hinweis: Dies ist eine anspruchsvolle Aufgabe, die ganz verschiedene Dinge verknüpft, die wir bisher gelernt haben. Nicht entmutigen lassen und die Aufgabe Schritt für Schritt anpacken.\n",
    "\n",
    "</div>"
   ]
  },
  {
   "cell_type": "code",
   "execution_count": null,
   "id": "e051adb9-a4b2-4e27-bbf6-880d79074843",
   "metadata": {},
   "outputs": [],
   "source": [
    "%%html\n",
    "\n",
    "<div class=\"html-output\">\n",
    "\n",
    "<!-- Beginn eigener Code -->\n",
    "\n",
    "\n",
    "\n",
    "<!-- Ende eigener Code -->\n",
    "\n",
    "<p>Zu untersuchende Zahl: <input type=\"text\" id=\"prime\"> <input type=\"button\" value=\"Primzahl?\" onclick=\"isPrime()\"></p>\n",
    "\n",
    "<h1 id=\"primeResult\"></h1>\n",
    "\n",
    "</div>"
   ]
  }
 ],
 "metadata": {
  "kernelspec": {
   "display_name": "Python 3 (ipykernel)",
   "language": "python",
   "name": "python3"
  },
  "language_info": {
   "codemirror_mode": {
    "name": "ipython",
    "version": 3
   },
   "file_extension": ".py",
   "mimetype": "text/x-python",
   "name": "python",
   "nbconvert_exporter": "python",
   "pygments_lexer": "ipython3",
   "version": "3.9.6"
  },
  "toc-autonumbering": true,
  "toc-showcode": false,
  "toc-showmarkdowntxt": false,
  "toc-showtags": false
 },
 "nbformat": 4,
 "nbformat_minor": 5
}
