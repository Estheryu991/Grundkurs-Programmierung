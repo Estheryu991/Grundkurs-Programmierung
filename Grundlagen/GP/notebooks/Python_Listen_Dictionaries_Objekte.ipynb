{
 "cells": [
  {
   "cell_type": "code",
   "execution_count": null,
   "id": "f9ca0aeb-08bf-493f-bd88-c229c9815692",
   "metadata": {},
   "outputs": [],
   "source": [
    "%%html\n",
    "\n",
    "<link rel=\"stylesheet\" href=\"../../assets/styles/style.css\">"
   ]
  },
  {
   "cell_type": "markdown",
   "id": "604aa9b5",
   "metadata": {},
   "source": [
    "<img src=\"../../assets/img/DN.png\" style=\"float:right;width:150px\">\n",
    "\n",
    "Python - Listen, Dictionaries und Objekte\n",
    "\n",
    "# Listen\n",
    "\n",
    "In Python sind **Listen** (Lists) ein eigener Datentyp. Sie werden verwendet, um verschiedene Elemente in einer einzelnen Variable zu speichern. Listen haben Ähnlichkeiten mit den **Arrays** aus JavaScript.\n",
    "\n",
    "## Wieso sind Listen nützlich?\n",
    "\n",
    "Folgendes Problem sei gegeben. Es soll die durchschnittliche Personengrösse einer Fussballerinnenfrauschaft ermittelt werden. Ein möglicher Ansatz wäre:\n"
   ]
  },
  {
   "cell_type": "code",
   "execution_count": null,
   "id": "94ad2a37",
   "metadata": {},
   "outputs": [],
   "source": [
    "spielerin1 = 1.65\n",
    "spielerin2 = 1.42\n",
    "spielerin3 = 1.71\n",
    "spielerin4 = 1.45\n",
    "spielerin5 = 1.67\n",
    "spielerin6 = 1.65\n",
    "spielerin7 = 1.81\n",
    "spielerin8 = 1.85\n",
    "spielerin9 = 1.51\n",
    "spielerin10 = 1.49\n",
    "spielerin11 = 1.69\n",
    "\n",
    "\n",
    "mittlere_groesse = (spielerin1 + \n",
    "                    spielerin2 + \n",
    "                    spielerin3 + \n",
    "                    spielerin4 + \n",
    "                    spielerin5 + \n",
    "                    spielerin6 + \n",
    "                    spielerin7 + \n",
    "                    spielerin8 + \n",
    "                    spielerin9 + \n",
    "                    spielerin10 + \n",
    "                    spielerin11) / 11\n",
    "\n",
    "print(mittlere_groesse)"
   ]
  },
  {
   "cell_type": "markdown",
   "id": "e73ac5ee-a086-4117-a561-c6f2c0dd6041",
   "metadata": {},
   "source": [
    "Dieses Vorgehen ist äusserst ineffizient und fehleranfällig. Viel einfacher geht es mit Listen:"
   ]
  },
  {
   "cell_type": "code",
   "execution_count": null,
   "id": "ee7c4a80-1828-49c4-b384-bfd902640860",
   "metadata": {},
   "outputs": [],
   "source": [
    "spielerinnen_groessen = [1.65, 1.42, 1.71, 1.45, 1.67, 1.65, 1.81, 1.85, 1.51, 1.49, 1.69]\n",
    "\n",
    "mittlere_groesse = sum(spielerinnen_groessen) / len(spielerinnen_groessen)\n",
    "\n",
    "print(mittlere_groesse)"
   ]
  },
  {
   "cell_type": "markdown",
   "id": "bca802dc-8ca5-4cd2-bcf1-8cb7f3094509",
   "metadata": {},
   "source": [
    "Es gibt eine Vielzahl von integrierten Funktionen, die auf Listen angewendet werden können, wie bspw. `sum()` berechnet die Summe aller Elemente in der Liste und `len()` ergibt die Anzahl von Elemente in einer Liste."
   ]
  },
  {
   "cell_type": "markdown",
   "id": "c3ea81a8-35a1-4cbb-b892-216f953d48e7",
   "metadata": {},
   "source": [
    "## Eigenschaften von Listen\n",
    "\n",
    "Listen werden mit Hilfe von eckigen Klammern `[]` erstellt, die einzelnen Elemente der Liste werden durch Kommas `,` getrennt. Listen gehören zu den sogenannten Python **Data Collections**. \n",
    "\n",
    "Listen sind **sortiert** (die Reihenfolge der Elemente spielt also eine Rolle) und erlauben auch **duplizierte Werte** (im Beispiel oben können also mehrere Spielerinnen die gleiche Grösse aufweisen).\n",
    "\n",
    "## Auf Listenelemente zugreifen\n",
    "\n",
    "Auf die einzelnen Elemente einer Liste kann mit Hilfe eines Indexes zugegriffen werden. Der Index beginnt in Python bei `[0]`. Man kann auch negative Indizes verwenden, dann wird vom Ende her gezählt (wobei es mathematisch korrekt kein `-0` gibt, sondern das letzte Element die `-1` ist.)"
   ]
  },
  {
   "cell_type": "code",
   "execution_count": null,
   "id": "8a178d25-51d6-4cdd-9ef4-6f9dcfea0a38",
   "metadata": {},
   "outputs": [],
   "source": [
    "print(spielerinnen_groessen[0])\n",
    "print(spielerinnen_groessen[1])\n",
    "print(spielerinnen_groessen[-2])\n"
   ]
  },
  {
   "cell_type": "markdown",
   "id": "f9daca19-1852-49e7-bb74-2335a6124deb",
   "metadata": {},
   "source": [
    "Wenn auf einen nicht existierenden Index einer Liste zugegriffen wird (dieser Fehler passiert einem erstaunlich häufig), wird eine Fehlermeldung (\"list index out of range\") erzeugt:"
   ]
  },
  {
   "cell_type": "code",
   "execution_count": null,
   "id": "5c6c0e48-ee9a-4158-a4b0-335a9908f447",
   "metadata": {
    "tags": [
     "raises-exception"
    ]
   },
   "outputs": [],
   "source": [
    "print(spielerinnen_groessen[15])"
   ]
  },
  {
   "cell_type": "markdown",
   "id": "ea861a5c-4e30-4110-81d1-244e1d0d18ef",
   "metadata": {},
   "source": [
    "Man kann auch einen Range von Indizes angeben beim Zugriff auf Listen, also gleichzeitig auf mehr als ein Element zugreifen. Das ist insbesondere nützlich, wenn man neue Listen aus einem Teilbereich bestehender Listen bilden möchte. Diesen Range bildet man in eckigen Klammern mit einem Startwert, der mit `:` von einem Schlusswert abgetrennt wird, wobei der Startwert inklusive ist, der Schlusswert aber exklusive:"
   ]
  },
  {
   "cell_type": "code",
   "execution_count": null,
   "id": "8e9173eb-31e8-4754-ba61-230cacc742ef",
   "metadata": {},
   "outputs": [],
   "source": [
    "laender = [\"Deutschland\", \"Portugal\", \"Russland\", \"Thailand\", \"Brasilien\", \"Moldawien\"]\n",
    "\n",
    "laender_auswahl = laender[1:3]\n",
    "\n",
    "print(laender_auswahl)"
   ]
  },
  {
   "cell_type": "markdown",
   "id": "81fba685-ce8f-436e-a917-b97a99d231d6",
   "metadata": {},
   "source": [
    "Wenn man vor oder nach dem `:` keinen Wert angibt, heisst das einfach, von Beginn oder bis zum Ende:"
   ]
  },
  {
   "cell_type": "code",
   "execution_count": null,
   "id": "8963966e-bf78-40aa-b553-252dbbca415b",
   "metadata": {},
   "outputs": [],
   "source": [
    "laender_auswahl = laender[3:]\n",
    "\n",
    "print(laender_auswahl)"
   ]
  },
  {
   "cell_type": "markdown",
   "id": "67e44566-ded2-441c-92f0-c2d4bf04ff2a",
   "metadata": {},
   "source": [
    "Um die Anzahl Elemente einer Liste zu bestimmen, kann man wie oben erwähnt die Funktion `len()` verwenden:"
   ]
  },
  {
   "cell_type": "code",
   "execution_count": null,
   "id": "55ef6877-9986-476d-bdd6-f892b51f3eb0",
   "metadata": {},
   "outputs": [],
   "source": [
    "print(len(spielerinnen_groessen))"
   ]
  },
  {
   "cell_type": "markdown",
   "id": "716a622d-a78b-4e73-8952-8f2f4cbb2064",
   "metadata": {},
   "source": [
    "## Verschachtelte Listen\n",
    "\n",
    "Listen können alle verschiedenen Datentypen speichern, auch verschiedene Typen innerhalb der gleichen Liste sind möglich und man kann innerhalb einer Liste auch weitere Listen speichern (**verschachtelte Listen**):"
   ]
  },
  {
   "cell_type": "code",
   "execution_count": null,
   "id": "b75b7acc-c26f-4ee3-896e-c78d45e9569c",
   "metadata": {},
   "outputs": [],
   "source": [
    "gemischte_liste = [\"Hallo\", 42, True, [1, [\"Hi\", False, 3.1415], \"Ciao\"]]"
   ]
  },
  {
   "cell_type": "markdown",
   "id": "8e9829d8",
   "metadata": {
    "tags": []
   },
   "source": [
    "<div class=\"exercise\">\n",
    "\n",
    "<img src=\"../../assets/img/dumbbell.png\" class=\"exercise_image\">\n",
    "\n",
    "<span class=\"exercise_label\">Aufgabe</span> \n",
    "\n",
    "Wie kann man wohl per Index im obigen Beispiel der verschachtelten Liste auf den String `\"Hi\"` zugreifen? Erstelle dazu ein `print()` Befehl mit `gemischte_liste`. \n",
    "\n",
    "<details>\n",
    "<summary>Tipp</summary>\n",
    "    <p>Suche im Internet unter den Stichworten <i>python nested lists</i>.</p>\n",
    "</details>\n",
    "</div>"
   ]
  },
  {
   "cell_type": "code",
   "execution_count": null,
   "id": "8fc99c5c-966d-4cfd-a9bb-e90d195b92d4",
   "metadata": {
    "tags": []
   },
   "outputs": [],
   "source": [
    "# Beginn eigener Code\n",
    "\n",
    "\n",
    "\n",
    "# Ende eigener Code"
   ]
  },
  {
   "cell_type": "markdown",
   "id": "875bcbd2",
   "metadata": {},
   "source": [
    "***"
   ]
  },
  {
   "cell_type": "markdown",
   "id": "f789b73d-27e5-47e0-99eb-c403a8dac455",
   "metadata": {},
   "source": [
    "Wenn man prüfen möchte, ob ein Element in einer Liste vorkommt, kann man das Schlüsselwort `in` verwenden:"
   ]
  },
  {
   "cell_type": "code",
   "execution_count": null,
   "id": "91db0767-8235-473b-833c-26f28723505c",
   "metadata": {},
   "outputs": [],
   "source": [
    "meine_liste = [\"SBB\", \"BLS\", \"RBS\", \"SOB\", \"RhB\"]\n",
    "\n",
    "if \"RBS\" in meine_liste:\n",
    "    print(\"Diese Liste beinhaltet den Regionalverkehr Bern-Solothurn\")"
   ]
  },
  {
   "cell_type": "markdown",
   "id": "65a260f7-9a30-4b9f-a7bd-feda1fc520e0",
   "metadata": {},
   "source": [
    "## Listen sortieren\n",
    "\n",
    "Es gibt zwei verschiedene wichtige Funktionen für das Sortieren von Listen: Einerseits `sort()`, welche eine Methode der Klasse Liste ist und eine bestehende Liste sortiert (man spricht auch von einer \"in place modification\") und andererseits die Funktion `sorted()`, welche als Argument eine Liste benötigt und eine sortierte Liste zurückgibt, die dann bspw. in einer neuen Liste gespeichert werden kann. Beide Funktionen kennen auch die Möglichkeit, umgekehrt zu sortieren."
   ]
  },
  {
   "cell_type": "code",
   "execution_count": null,
   "id": "388ab8f8-8710-49a5-9255-5cfdc52f42e9",
   "metadata": {},
   "outputs": [],
   "source": [
    "numbers = [8, 2, 9, 12, 1, -2, 0, 123, 211]\n",
    "numbers.sort() # in place modification\n",
    "print(numbers)\n",
    "\n",
    "unordered_names = [\"Oliver\", \"Xandia\", \"Aishwarya\", \"Kishor\", \"Juan\", \"Adelheid\"]\n",
    "ordered_names = sorted(unordered_names, reverse = True)\n",
    "print(ordered_names)"
   ]
  },
  {
   "cell_type": "markdown",
   "id": "7f2c1e38-6bcb-40e1-af8b-d993f1210b7d",
   "metadata": {},
   "source": [
    "## Listen erweitern\n",
    "\n",
    "Die Erweiterung von Listen mit neuen Elementen kann mit `append()` und `insert()` geschehen. Die erstere Funktion fügt das Element am Schluss der Liste ein und die letztere erlaubt es, einen Index (Achtung: Index startet bei 0) anzugeben, wo das Element eingefügt werden soll:"
   ]
  },
  {
   "cell_type": "code",
   "execution_count": null,
   "id": "ab304214-b748-4a01-98d5-ddffadecf0cb",
   "metadata": {},
   "outputs": [],
   "source": [
    "fruechte = [\"Apfel\", \"Traube\", \"Kiwi\"]\n",
    "\n",
    "fruechte.append(\"Banane\")\n",
    "\n",
    "print(fruechte)"
   ]
  },
  {
   "cell_type": "code",
   "execution_count": null,
   "id": "cf661ff1-6f95-4462-87b2-a39721027d4b",
   "metadata": {},
   "outputs": [],
   "source": [
    "fruechte.insert(1, \"Papaya\")\n",
    "\n",
    "print(fruechte)"
   ]
  },
  {
   "cell_type": "markdown",
   "id": "561ed328-9475-4d05-8eb5-48dc227b5b27",
   "metadata": {},
   "source": [
    "Hier wird ein wichtiges Konzept der Objektorientierung von Python sichtbar: Die beiden **Methoden** `append()` und `insert()` werden direkt auf das Listenobjekt angewandt, deshalb werden sie mit dem Syntax `listenname.methode()` aufgerufen. Damit ist auch sofort klar, auf welche Liste sie angewandt werden sollen. Als Methoden werden übrigens Funktionen bezeichnet, die zu einem bestimmten Objekt(typ) gehören. Mehr zum Thema **Objekte** weiter unten in dieser Lektion."
   ]
  },
  {
   "cell_type": "markdown",
   "id": "7a65084a-bff2-4c4c-96ec-14b214351639",
   "metadata": {},
   "source": [
    "Weitere **Methoden des Listen Objekts** sind bei <a href=\"https://www.w3schools.com/python/python_lists_methods.asp\">W3Schools</a> zu finden."
   ]
  },
  {
   "cell_type": "markdown",
   "id": "0c80a6c7-a5d3-4dba-a343-7337d720e633",
   "metadata": {},
   "source": [
    "## Listen iterieren\n",
    "\n",
    "Eine häufige Aufgabe beim Programmieren ist, dass eine bestimmte Operation auf alle Elemente einer Liste durchgeführt werden soll. Die Liste muss dazu **iteriert** werden. Dazu ist mit der For Schleife bereits das nötige Hilfsmittel bekannt:"
   ]
  },
  {
   "cell_type": "code",
   "execution_count": null,
   "id": "0460de49-3f67-42c8-a2ab-cec63d82d813",
   "metadata": {},
   "outputs": [],
   "source": [
    "namen = [\"Shankar\", \"Simon\", \"Greta\", \"Ibrahim\", \"Aleyna\", \"Kunigunde\"]\n",
    "\n",
    "for person in namen:\n",
    "    print(\"Hallo \" + person + \", willkommen im Grundkurs Programmieren!\")"
   ]
  },
  {
   "cell_type": "markdown",
   "id": "fe9162cf-2592-4bdf-ad13-03e960868d7f",
   "metadata": {},
   "source": [
    "<div class=\"exercise\">\n",
    "\n",
    "<img src=\"../../assets/img/dumbbell.png\" class=\"exercise_image\">\n",
    "\n",
    "<span class=\"exercise_label\">Aufgabe</span> \n",
    "\n",
    "Gib per `print()` Befehl und mit Hilfe einer For Schleife für alle Elemente der nachfolgenden Liste jeweils die Differenz zur Zahl 100 an.\n",
    "</div>"
   ]
  },
  {
   "cell_type": "code",
   "execution_count": null,
   "id": "49f26fa9-101b-4754-9b81-5cd8d3e6f408",
   "metadata": {},
   "outputs": [],
   "source": [
    "zahlen = [42, 3.1415, 45, 100, -12, 88, 99.9999]\n",
    "\n",
    "# Beginn eigener Code\n",
    "\n",
    "\n",
    "    \n",
    "# Ende eigener Code"
   ]
  },
  {
   "cell_type": "markdown",
   "id": "7de473e9-ca5c-4c72-83e7-ad0de7912064",
   "metadata": {},
   "source": [
    "Bemerkung: Bei der Differenz zu 99.9999 ist gut ersichtlich, dass der Computer Mühe haben kann mit der Berechnung von nicht-Integer Zahlen. Das Resultat müsste ja eigentlich exakt 0.0001 sein, ist es in vielen Fällen aber aufgrund der Arbeitsweise von Computern nicht. Dies kann zu Problemen führen (insbesondere beim wissenschaftlichen Arbeiten mit Zahlen)."
   ]
  },
  {
   "cell_type": "markdown",
   "id": "4cc23b87-783b-4007-b8ad-8f8010b09458",
   "metadata": {},
   "source": [
    "***"
   ]
  },
  {
   "cell_type": "markdown",
   "id": "6b1d7ccc-da19-4df4-84bc-d05d5f84d7a5",
   "metadata": {},
   "source": [
    "## List Comprehensions\n",
    "\n",
    "Sogenannte **List Comprehensions** sind nützlich, wenn neue Listen basierend auf bestehenden Listen erzeugt werden sollen, dabei aber nur bestimmte Einträge der bestehenden Liste übernommen werden sollen. Sie stellen einen kompakteren Syntax zur Verfügung, um häufige Probleme zu lösen. Nachfolgend das gleiche Problem einmal mit und einmal ohne List Comprehension gelöst. \n",
    "\n",
    "Aus einer Liste mit Politikerinnen sollen nur Ständerätinnen in einer neuen Liste gespeichert werden (diese haben den Präfix \"SR_\"):"
   ]
  },
  {
   "cell_type": "code",
   "execution_count": null,
   "id": "a12f5e15-74b1-4b41-a6db-805867885940",
   "metadata": {},
   "outputs": [],
   "source": [
    "politikerinnen = [\"BR_Amherd\", \"BR_Sommaruga\", \"BR_Keller-Sutter\", \"SR_Baume-Schneider\", \n",
    "                  \"SR_Carobbio_Guscetti\", \"SR_Gapany\", \"NR_Amaudruz\", \"NR_Arslan\", \"NR_Badertscher\"]\n",
    "\n",
    "# ohne List Comprehension\n",
    "staenderaetinnen = []\n",
    "\n",
    "for frau in politikerinnen:\n",
    "    if \"SR\" in frau:\n",
    "        staenderaetinnen.append(frau)\n",
    "        \n",
    "print(staenderaetinnen)"
   ]
  },
  {
   "cell_type": "code",
   "execution_count": null,
   "id": "db58d00b-e869-4480-b427-a7458316af17",
   "metadata": {},
   "outputs": [],
   "source": [
    "# mit List Comprehension\n",
    "staenderaetinnen = [frau for frau in politikerinnen if \"SR\" in frau]\n",
    "\n",
    "print(staenderaetinnen)"
   ]
  },
  {
   "cell_type": "markdown",
   "id": "d8bc6ce2-f886-4dc4-a941-01e3fb3af896",
   "metadata": {},
   "source": [
    "Hier sehen wir ein etwas anderes Beispiel des `in` Schlüsselwortes. Man kann mit `in` nicht nur überprüfen, ob ein bestimmtes Element in einer Liste vorkommt, sondern auch ob ein sogenannter **Substring** innerhalb eines Strings vorkommt."
   ]
  },
  {
   "cell_type": "markdown",
   "id": "2c7bef52-65a6-4394-bdb6-4c31e3fefff7",
   "metadata": {},
   "source": [
    "Die allgemeine Form der List Comprehension lautet: `neue_liste = [expression for item in iterable if condition == True]`. Der mittlere Teil `for item in iterable` ist dabei bereits aus der For Schleife bekannt, es wird also jeweils ein Element unter der Variable `item` aus `iterable` verfügbar gemacht. Der Teil mit der Bedingung `if condition == True` ist analog einer If Verzweigung. Es werden also nur diejenigen Elemente in die neue Liste übernommen, die die Bedingung erfüllen. Der erste Teil mit `expression` erlaubt es, weitere Manipulationen an denjenigen Elementen durchzuführen, die in die neue Liste übernommen wurden. Wenn keine weitere Manipulation nötig ist (wie im Beispiel oben), dann wird einfach nochmals `item` eingefügt."
   ]
  },
  {
   "cell_type": "markdown",
   "id": "7189060b-d6c9-4df4-8441-6baee69c47d5",
   "metadata": {},
   "source": [
    "<div class=\"exercise\">\n",
    "\n",
    "<img src=\"../../assets/img/dumbbell.png\" class=\"exercise_image\">\n",
    "\n",
    "<span class=\"exercise_label\">Aufgabe</span> \n",
    "\n",
    "Schau dir die nachfolgende Funktionen `get_divisibles(numbers, factor)` an und überlege dir, was sie bewirken wird. Überprüfe deine Vermutung anschliessend mit der Ausführung der Zelle. \n",
    "\n",
    "<details>\n",
    "<summary>Tipp</summary>\n",
    "    <p>Der <code>%</code> Operator ist der sogenannte Modulo Operator und er gibt den Restwert zurück, der bei einer Division entsteht. Beispiel: <code>10 % 3</code> ergibt 1. Also 10 geteilt durch 3 ergibt den Rest 1.</p>\n",
    "</details>\n",
    "</div>"
   ]
  },
  {
   "cell_type": "code",
   "execution_count": null,
   "id": "358c03b8-328c-444c-8ee1-f8f38788830b",
   "metadata": {},
   "outputs": [],
   "source": [
    "def get_divisibles(numbers, factor):\n",
    "    return [x for x in numbers if x % factor == 0]\n",
    "\n",
    "print(get_divisibles([1, 3, 6, 8, 11, 14, 18, 21, 321, 342], 2))\n",
    "print(get_divisibles([4, 5, 8, 19, 20, 23, 25, 30, 31, 39, 40], 5))"
   ]
  },
  {
   "cell_type": "markdown",
   "id": "5acd4237-30ea-4513-af35-6456d56d28d0",
   "metadata": {},
   "source": [
    "***"
   ]
  },
  {
   "cell_type": "markdown",
   "id": "ebe16d36-9bee-4885-affd-9aadd1051c55",
   "metadata": {},
   "source": [
    "<div class=\"exercise\">\n",
    "\n",
    "<img src=\"../../assets/img/dumbbell.png\" class=\"exercise_image\">\n",
    "\n",
    "<span class=\"exercise_label\">Aufgabe</span> \n",
    "\n",
    "Erstelle eine Liste mit Bundesrätinnen per List Comprehension aus der Liste der `politikerinnen`. Konstruiere die List Comprehension so, dass gleichzeitig der Präfix \"BR_\" vom Namen entfernt wird.\n",
    "\n",
    "Die entstehende Liste soll also so aussehen: `bundesraetinnen = [\"Amherd\", \"Sommaruga\", \"Keller-Sutter\"]`.\n",
    "\n",
    "<details>\n",
    "<summary>Tipp</summary>\n",
    "    <p>Nutze dazu dein Wissen über Mehrfachauswahl mit dem Konstrukt <code>[:]</code>, welches auch bei einem String funktioniert, um nur Teile eines Strings auszuwählen. Dieses Konstrukt kann innerhalb der Expression angewandt werden.</p>\n",
    "</details>\n",
    "</div>"
   ]
  },
  {
   "cell_type": "code",
   "execution_count": null,
   "id": "712a7d29-2a87-4647-ab3a-c47fccba437e",
   "metadata": {
    "tags": []
   },
   "outputs": [],
   "source": [
    "politikerinnen = [\"BR_Amherd\", \"BR_Sommaruga\", \"BR_Keller-Sutter\", \"SR_Baume-Schneider\", \n",
    "                  \"SR_Carobbio_Guscetti\", \"SR_Gapany\", \"NR_Amaudruz\", \"NR_Arslan\", \"NR_Badertscher\"]\n",
    "\n",
    "# Beginn eigener Code\n",
    "\n",
    "\n",
    "\n",
    "# Ende eigener Code\n",
    "\n",
    "print(bundesraetinnen)"
   ]
  },
  {
   "cell_type": "markdown",
   "id": "3dd4edb2-19e6-44d3-8342-8a00c416784e",
   "metadata": {
    "tags": []
   },
   "source": [
    "***"
   ]
  },
  {
   "cell_type": "markdown",
   "id": "4b6be506-18fc-4824-b101-f834857f4f1b",
   "metadata": {},
   "source": [
    "Weitere Infos zu Listen, wie bspw. sortieren von Listen, kopieren von Listen, löschen von Listenelementen sind bei <a href=\"https://www.w3schools.com/python/python_lists.asp\">W3Schools</a> zu finden."
   ]
  },
  {
   "cell_type": "markdown",
   "id": "8f181af3-621e-47d4-9c17-0656d9e86326",
   "metadata": {},
   "source": [
    "# Dictionaries\n",
    "\n",
    "**Dictionaries** (selten Wörterbücher oder auch *assoziative Liste*) gehören ebenfalls zu den Python **Data Collections**. Der Unterschied zu der Liste ist, dass die Werte nicht indexbasiert gespeichert werden, sondern in sogenannten \"Schlüssel-Wert\" (key:value) Paaren. Dictionaries werden mit geschweiften Klammern ```{}``` definiert. Zuerst wird der Schlüssel angegeben, danach der Wert getrennt durch einen Doppelpunkt ```:```."
   ]
  },
  {
   "cell_type": "code",
   "execution_count": null,
   "id": "a2265143-e231-4851-8caf-01e7e4d8e2ee",
   "metadata": {},
   "outputs": [],
   "source": [
    "my_apple = {\n",
    "    \"color\": \"red\",\n",
    "    \"type\": \"braeburn\",\n",
    "    \"weight\": 100\n",
    "}"
   ]
  },
  {
   "cell_type": "markdown",
   "id": "1efefce8-8e10-4fae-a865-555a03e2b99f",
   "metadata": {},
   "source": [
    "Als Werte können alle Python Datentypen verwendet werden, man kann also zu einem Schlüssel durchaus auch eine Liste oder wieder ein Dictionary als Wert definieren: "
   ]
  },
  {
   "cell_type": "code",
   "execution_count": null,
   "id": "9cec1409-9770-47d5-89cc-fdeb6a5e1e48",
   "metadata": {},
   "outputs": [],
   "source": [
    "my_apples = {\n",
    "    \"color\": \"red\",\n",
    "    \"type\": \"braeburn\",\n",
    "    \"weight\": [100, 125, 80, 120]\n",
    "}"
   ]
  },
  {
   "cell_type": "markdown",
   "id": "b0cd206b-fa26-4bce-b07c-bb3cfef365dc",
   "metadata": {},
   "source": [
    "## Auf Dictionary Elemente zugreifen\n",
    "\n",
    "Auf Elemente eines Dictionary kann mit Hilfe des Schlüssels in eckigen Klammern ```[]``` zugegriffen werden:"
   ]
  },
  {
   "cell_type": "code",
   "execution_count": null,
   "id": "5149331d-d3f3-46cb-b8ae-a85bd8b31a22",
   "metadata": {},
   "outputs": [],
   "source": [
    "apple_color = my_apple[\"color\"]\n",
    "print(apple_color)"
   ]
  },
  {
   "cell_type": "markdown",
   "id": "206b09aa-c8e9-4437-a0f8-c52bb1fe6297",
   "metadata": {},
   "source": [
    "Ein Zugriff auf einen nicht existierenden Schlüssel erzeugt eine Fehlermeldung mit `KeyError`"
   ]
  },
  {
   "cell_type": "code",
   "execution_count": null,
   "id": "d0c70219-0847-4269-9530-467f29d2f139",
   "metadata": {
    "tags": [
     "raises-exception"
    ]
   },
   "outputs": [],
   "source": [
    "my_apple[\"price\"]"
   ]
  },
  {
   "cell_type": "markdown",
   "id": "262b6f09-565b-4bc6-8b78-5a024950abef",
   "metadata": {},
   "source": [
    "## Elemente im Dictionary ändern und hinzufügen\n",
    "\n",
    "Werte in einem Dictionary können verändert werden:"
   ]
  },
  {
   "cell_type": "code",
   "execution_count": null,
   "id": "28258b2c-cc3e-45cc-b57e-8d62abf21a9c",
   "metadata": {},
   "outputs": [],
   "source": [
    "print(my_apple[\"color\"])\n",
    "my_apple[\"color\"] = \"orange\"\n",
    "print(my_apple[\"color\"])"
   ]
  },
  {
   "cell_type": "markdown",
   "id": "eeb7c7ca-8ad1-4582-9336-c1e64f2d4fa7",
   "metadata": {},
   "source": [
    "Neue Schlüssel Wert Paare können hinzugefügt werden (in diesem Fall gibt es keinen \"KeyError\", weil dem neuen Key gleich noch einen Wert zugefügt wird):"
   ]
  },
  {
   "cell_type": "code",
   "execution_count": null,
   "id": "6ab7d948-35cf-411e-a37c-43c1e60b4757",
   "metadata": {},
   "outputs": [],
   "source": [
    "my_apple[\"origin\"] = \"Switzerland\"\n",
    "print(my_apple)"
   ]
  },
  {
   "cell_type": "markdown",
   "id": "2f5f04ca-2263-420e-92b1-c4c88ec1b683",
   "metadata": {},
   "source": [
    "## Dictionaries iterieren\n",
    "\n",
    "Mit Hilfe einer For Schleife kann durch ein Dictionary iteriert werden:"
   ]
  },
  {
   "cell_type": "code",
   "execution_count": null,
   "id": "d9f70a64-b381-46ae-af48-d3765cc35436",
   "metadata": {},
   "outputs": [],
   "source": [
    "for x in my_apple:\n",
    "    print(x)"
   ]
  },
  {
   "cell_type": "markdown",
   "id": "5512229e-a9a9-4312-90ba-9a6cf75c4b9f",
   "metadata": {},
   "source": [
    "Im obigen Falle werden also für ```x``` die Schlüssel eingesetzt (und nicht etwa die Werte, wie auf den ersten Blick vermutet werden könnte)."
   ]
  },
  {
   "cell_type": "markdown",
   "id": "bfb7ba68-077e-4eec-ac11-a872a78e185a",
   "metadata": {},
   "source": [
    "<div class=\"exercise\">\n",
    "\n",
    "<img src=\"../../assets/img/dumbbell.png\" class=\"exercise_image\">\n",
    "\n",
    "<span class=\"exercise_label\">Aufgabe</span> \n",
    "\n",
    "Erstelle eine For Schleife, die die Werte zu den einzelnen Schlüssel des Dictionary ```my_apple``` ausgibt.\n",
    "    \n",
    "</div>"
   ]
  },
  {
   "cell_type": "code",
   "execution_count": null,
   "id": "dc3fc28c-28ab-4762-b4ba-15e145a6ea95",
   "metadata": {},
   "outputs": [],
   "source": [
    "# Beginn eigener Code\n",
    "\n",
    "\n",
    "\n",
    "# Ende eigener Code"
   ]
  },
  {
   "cell_type": "markdown",
   "id": "095df57a-3926-4c8b-83fb-c2d6ce6dc7ef",
   "metadata": {},
   "source": [
    "***"
   ]
  },
  {
   "cell_type": "markdown",
   "id": "98f76afa-6893-494c-9fa0-e986b4240a0f",
   "metadata": {},
   "source": [
    "Wenn man gleichzeitig Zugriff auf Schlüssel und Wert haben möchte, kann man dafür die Methode `items()` verwenden:"
   ]
  },
  {
   "cell_type": "code",
   "execution_count": null,
   "id": "5a264b98-1029-41c5-a91f-1419bbd1cd1c",
   "metadata": {},
   "outputs": [],
   "source": [
    "for key, value in my_apple.items():\n",
    "    print(\"The\", key, \"is:\", value)"
   ]
  },
  {
   "cell_type": "markdown",
   "id": "dfd671e7-dd98-4695-ba42-d3047e8c92f8",
   "metadata": {},
   "source": [
    "<div class=\"exercise\">\n",
    "\n",
    "<img src=\"../../assets/img/dumbbell.png\" class=\"exercise_image\">\n",
    "\n",
    "<span class=\"exercise_label\">Aufgabe</span> \n",
    "\n",
    "Schau dir die nachfolgende Funktionen `say_hello(hello_dict)` an und überlege dir, was sie bewirken wird. Überprüfe deine Vermutung anschliessend mit der Ausführung der Zelle.\n",
    "\n",
    "</div>"
   ]
  },
  {
   "cell_type": "code",
   "execution_count": null,
   "id": "20e12c08-3a1d-450f-b8de-fef8badc8614",
   "metadata": {},
   "outputs": [],
   "source": [
    "my_dict = {\n",
    "    \"Deutsch\": \"Guten Tag\",\n",
    "    \"Englisch\": \"Hello\",\n",
    "    \"Französisch\": \"Bonjour\",\n",
    "    \"Italienisch\": \"Buongiorno\",\n",
    "    \"Rätoromanisch\": \"Allegra\"\n",
    "}\n",
    "\n",
    "def say_hello(hello_dict):\n",
    "    result = \"\"\n",
    "    for lang, hello in hello_dict.items():\n",
    "        result += \"auf \" + lang + \" sagen wir \" + hello + \", \"\n",
    "    return result\n",
    "\n",
    "print(say_hello(my_dict))"
   ]
  },
  {
   "cell_type": "markdown",
   "id": "26b21fd6-7b16-4e0f-a5bd-ac6ef589fe20",
   "metadata": {},
   "source": [
    "***"
   ]
  },
  {
   "cell_type": "markdown",
   "id": "99ca7400-033e-4083-8ae6-a08c26ec22df",
   "metadata": {},
   "source": [
    "## Dictionaries kopieren\n",
    "\n",
    "Dictionaries können nicht einfach so kopiert werden mit ```dict_2 = dict_1``` weil in diesem Fall nur eine Referenz erzeug wird und nicht ein eigentliches zweites Dictionary, wenn also etwas an ```dict_1``` geändert wird, ist diese Änderung auch bei ```dict_2``` sichtbar, weil dieses ja nur auf das ```dict_1``` \"zeigt\":"
   ]
  },
  {
   "cell_type": "code",
   "execution_count": null,
   "id": "742ce6fc-1ec7-4c2b-8010-776b8d840639",
   "metadata": {},
   "outputs": [],
   "source": [
    "my_other_apple = my_apple\n",
    "\n",
    "my_apple[\"origin\"] = \"New Zealand\"\n",
    "\n",
    "print(my_other_apple[\"origin\"])"
   ]
  },
  {
   "cell_type": "markdown",
   "id": "5e0c3987-948e-4087-b2ca-510bb66dd216",
   "metadata": {},
   "source": [
    "Dies ist ein extrem wichtiges Konzept beim Programmieren. Es sollte jederzeit klar sein, ob ein Objekt tatsächlich kopiert wurde und damit \"eigentständig\" wird oder ob es nur eine Referenz resp. \"Zeiger\" auf ein anderes Objekt ist und damit nicht eigentständig existiert. Wenn ein Dictionary tatsächlich kopiert werden sollte, kann die ```copy()``` Methode des Dictionary benutzt werden:"
   ]
  },
  {
   "cell_type": "code",
   "execution_count": null,
   "id": "5381d130-9dc6-4e4c-bed1-2bb4c4f4b6da",
   "metadata": {},
   "outputs": [],
   "source": [
    "my_other_apple = my_apple.copy()\n",
    "\n",
    "my_apple[\"origin\"] = \"Südtirol\"\n",
    "\n",
    "print(my_other_apple[\"origin\"])\n",
    "print(my_apple[\"origin\"])"
   ]
  },
  {
   "cell_type": "markdown",
   "id": "953a8460-c28c-4bab-bcba-17e9f2f909cc",
   "metadata": {},
   "source": [
    "Wenn ein Dictionary aus zwei separaten Listen (eine für die Schlüssel, die andere für die Werte) erstellt werden sollte, ist die ```zip()``` Funktion hilfreich, welche iterierbare Objekte (wie bspw. Listen) zu einem zip Objekt verbindet. Dieses zip Objekt kann dann mit Hilfe der Funktion ```dict()``` in ein Dictionary umgewandelt werden:"
   ]
  },
  {
   "cell_type": "code",
   "execution_count": null,
   "id": "31b3aee4-4eda-4787-9bc9-8b639bd211ff",
   "metadata": {},
   "outputs": [],
   "source": [
    "my_keys = [\"Name\", \"Vorname\", \"Adresse\", \"PLZ\", \"Ort\"]\n",
    "my_values = [\"Rupert\", \"Sabrina\", \"Wägli 12\", \"9873\", \"Obergoldiwilbächligen\"]\n",
    "\n",
    "my_dictionary = dict(zip(my_keys, my_values))\n",
    "print(my_dictionary)"
   ]
  },
  {
   "cell_type": "markdown",
   "id": "f9a05992-9680-4592-a56d-5ef5da074422",
   "metadata": {},
   "source": [
    "## Dictionary Comprehensions\n",
    "\n",
    "Ähnlich der List Comprehensions existieren Dictionary Comprehensions, um aus bestehenden Dictionaries neue zu erzeugen, dabei aber nur bestimmte Schlüssel Wert Paare zu übernehmen (solche, die eine Bedingung erfüllen) und allenfalls diese Schlüssel Wert Paare auch noch zu verändern. Die allgemeine Form der Dictionary Comprehension lautet: `new_dictionary = {expression(k):expression(v) for (k, v) in dictionary if condition == True}`. Das wirkt auf den ersten Blick verwirrend, wird aber beim praktischen Einsatz etwas klarer:"
   ]
  },
  {
   "cell_type": "code",
   "execution_count": null,
   "id": "86090deb-fe88-4d10-b270-5da0475b5190",
   "metadata": {},
   "outputs": [],
   "source": [
    "my_apple_new = {k:v.upper() for (k, v) in my_apple.items() if type(v) == str}\n",
    "print(my_apple_new)"
   ]
  },
  {
   "cell_type": "markdown",
   "id": "9c336a7d-bcfd-42a9-8954-5f62ee06052e",
   "metadata": {},
   "source": [
    "Die Erklärung zu obiger Dictionary Comprehension: Die Schlüssel-Wert Paare stammen aus dem Dictionary `my_apple`, welches in weiter oben stehenden Zellen definiert wurde. Dieses wird ähnlich einer For Schleife iteriert und dabei soll ein Zugriff auf Schlüssel und Werte bestehen, weshalb die `items()` Methode auf das Dictionary `my_apple` angewandt wird. \n",
    "\n",
    "Während der Iteration sollen Schlüssel und Wert unter der Variable `k` und `v` verfügbar sein, was durch die Notation `(k, v)` festegelegt wird. Jetzt sollen aber nur diejenigen Werte im neuen Dictionary vorhanden sein, welche vom Typ `str`, also ein Wort (und keine Zahl) sind. Dies wird durch die If Bedingung ganz am Schluss festgelegt. \n",
    "\n",
    "Als letztes sollen jetzt aber die Werte in Grossbuchstaben im neuen Dictionary drin sein, das wird durch `v.upper()` erreicht."
   ]
  },
  {
   "cell_type": "markdown",
   "id": "b39bbff4-78e2-462b-b9b9-69d816cb4f96",
   "metadata": {
    "tags": []
   },
   "source": [
    "# Objekte\n",
    "\n",
    "Objekte und damit verbunden das **Objektorientierte Programmieren** (*Object Oriented Programming*) sind ein wichtiges und vielschichtes Konzept beim Programmieren.\n",
    "\n",
    "Fast alles in Python ist ein Objekt. Zu einem Objekt gehören **Eigenschaften** (*Properties*) und **Methoden** (*Methods*). Eigenschaften sind Variablen, die an ein bestimmtes Objekt gebunden sind und Methoden sind Funktionen, die auf ein Objekt angewandt werden können."
   ]
  },
  {
   "cell_type": "markdown",
   "id": "953e89ca-1396-41d1-9c79-0347d1257ef2",
   "metadata": {},
   "source": [
    "## Klassen und Instanzen\n",
    "\n",
    "Objekte sind nicht beliebig, sie sind sogenannte **Instanzen** einer bestimmten **Klasse**. Die Klassendefinition legt fest, über welche Eigenschaften die daraus instanziierten Objekte verfügen sollen (die Werte für die Eigenschaften sind dann typischerweise individuell pro Instanz) und über welche Methoden sie verfügen. \n",
    "\n",
    "Im übertragenen Sinne könnte beispielsweise eine Klasse \"Frucht\" existieren. Eine Instanz dieser Klasse wäre beispielsweise eine ganz bestimmte Banane. Diese Banane hat gewisse Eigenschaften wie Gewicht: 200g, Farbe: \"Gelb ohne braune Punkte\" und sie verfügt über bestimmte Methoden wie bswp: \"reifen\" oder \"gegessen-werden\"."
   ]
  },
  {
   "cell_type": "markdown",
   "id": "534ceeb7-6185-489a-bc79-28c35c0403f6",
   "metadata": {},
   "source": [
    "## Punkt-Notation\n",
    "\n",
    "Auf Eigenschaften und Methoden eines Objekts kann mit Hilfe der **Punkt-Notation** (dot notation) zugegriffen werden. Die Eigenschaft oder Methode wird mit einem Punkt `.` vom Namen der Instanz getrennt, aufgerufen. Wann immer diese Punkt-Notation auftaucht, geht es also um Objekte resp. um Instanzen einer Klasse. Diese Notation wurde im Verlauf des Grundkurses schon einige male benutzt und ist auch bei JavaScript gebräuchlich.\n",
    "\n",
    "Nachfolgend ein weiteres Beispiel für eine Punkt-Notation:"
   ]
  },
  {
   "cell_type": "code",
   "execution_count": null,
   "id": "0070e542-170c-41fa-bb1c-f13710ed6d4d",
   "metadata": {},
   "outputs": [],
   "source": [
    "my_list = [\"Bernd\", \"Solaminia\", \"Hunwiu\"]\n",
    "\n",
    "my_list.append(\"Fruzsina\")\n",
    "\n",
    "print(my_list)"
   ]
  },
  {
   "cell_type": "markdown",
   "id": "afb138f6-8604-451e-a921-87d6bdacff6d",
   "metadata": {},
   "source": [
    "`my_list` ist eine Instanz der Klasse Liste, welche die Methode `append()` kennt, um ein Element der Liste hinzuzufügen."
   ]
  },
  {
   "cell_type": "markdown",
   "id": "cfffad6b-bdcf-4ecf-90c2-dd5fc959dd46",
   "metadata": {},
   "source": [
    "Um alle Methoden einer Klasse aufzulisten, kann die Funktion `dir()` verwendet werden:"
   ]
  },
  {
   "cell_type": "code",
   "execution_count": null,
   "id": "adf79105-e935-4304-93a5-664cb3c7b2c2",
   "metadata": {},
   "outputs": [],
   "source": [
    "dir(my_list)"
   ]
  },
  {
   "cell_type": "markdown",
   "id": "b7c5467c-0727-454b-8868-8098318c7ebc",
   "metadata": {},
   "source": [
    "Eine alternative Möglichkeit besteht darin, in der offiziellen Python Dokumentation nachzuschauen, über welche Eigenschaften und Methoden eine Klasse verfügt. Hier als Beispiel die Klasse [Liste](https://docs.python.org/3/library/stdtypes.html#list). Diese offizielle Dokumentation ist etwas umständlich, das hat vor allem damit zu tun, dass diese sehr kompakt verfasst ist. Es ist also nicht auf den ersten Blick ersichtlich, dass Objekte der Klasse Liste eine Funktion `append()` beinhalten. Das ist ersichtlich aus dem Satz: \"Lists implement all of the common and mutable sequence operations.\" Ein Blick auf diese [Mutable Sequence Types](https://docs.python.org/3/library/stdtypes.html#mutable-sequence-types) zeigt tatsächlich, dass eine Funktion `s.append(x)` implementiert ist.\n",
    "\n",
    "Etwas einfacher ist es mit einem Blick auf W3Schools, wo wie bereits erwähnt, eine [Übersicht](https://www.w3schools.com/python/python_lists_methods.asp) über alle Methoden des Objekts List verfügbar ist."
   ]
  },
  {
   "cell_type": "markdown",
   "id": "bf0564ba-75fd-4124-bb16-c8eeed2c6e1e",
   "metadata": {},
   "source": [
    "## Eigene Klassen definieren\n",
    "\n",
    "Bisher wurde nur mit Instanzen von bereits definierten Klassen gearbeitet (bspw. wurde eine Instanz der Klasse List erzeugt. Klassen können aber auch selbst definiert werden. Diese dienen als \"Vorlagen\" für **Instanzen** dieser bestimmten Klasse:"
   ]
  },
  {
   "cell_type": "code",
   "execution_count": null,
   "id": "b62a1d18-d2db-4f94-ba50-13eb3adc3e77",
   "metadata": {},
   "outputs": [],
   "source": [
    "# Definition einer Klasse\n",
    "class Person:\n",
    "    name = \"Casandra\"\n",
    "\n",
    "# Erzeugen einer Instanz der Klasse Person mit Hilfe des Konstruktors   \n",
    "frau = Person()\n",
    "\n",
    "# Ausgabe einer Eigenschaft der Instanz mit Punkt-Notation\n",
    "print(frau.name)"
   ]
  },
  {
   "cell_type": "markdown",
   "id": "c3e0ea80-82b9-41e7-aaaa-f8c5de64a3e4",
   "metadata": {},
   "source": [
    "Die Definition einer Klasse wird mit dem Schlüsselwort `class` eingeleitet. Die Konvention ist, dass Klassen mit einem Grossbuchstaben beginnen. Innerhalb der Klasse können Eigenschaften und Methoden definiert werden. In diesem Beispiel wird also eine Eigenschaft `name = \"Casandra\"` festgelegt.\n",
    "\n",
    "Um eine Instanz einer Klasse, also ein Objekt zu erzeugen, wird der **Konstruktor** (*Constructor*) einer Klasse aufgerufen. Dies geschieht durch Nutzung des Klassennamens mit Klammern `()`."
   ]
  },
  {
   "cell_type": "markdown",
   "id": "3e67b10f-9ded-4110-baa1-00ded0bd77e1",
   "metadata": {},
   "source": [
    "## Eigenschaften nach Erzeugung verändern\n",
    "\n",
    "Eigenschaften von Objekten können auch nach der Erzeugung der Objekte noch geändert werden:"
   ]
  },
  {
   "cell_type": "code",
   "execution_count": null,
   "id": "cbf44e65-43bc-4524-80e6-fc85e1288d35",
   "metadata": {},
   "outputs": [],
   "source": [
    "frau_2 = Person()\n",
    "\n",
    "print(frau_2.name)\n",
    "\n",
    "frau_2.name = \"Sabine\"\n",
    "\n",
    "print(frau_2.name)"
   ]
  },
  {
   "cell_type": "markdown",
   "id": "e163da26-5a2f-4fc4-b3ce-bbee2e0b9152",
   "metadata": {},
   "source": [
    "Meist ist es nicht sinnvoll, wenn die Eigenschaften \"fest\" in die Klasse hineingeschrieben werden. Schliesslich soll in diesem Beispiel jeder Person einen individuellen Namen gegeben werden. Dies wird dadurch erreicht, dass der Konstruktor einer Klasse explizit definiert wird. Der Konstruktor ist eine spezielle Methode jeder Klasse, die den Namen `__init__` trägt (die beiden Linien vor und nach `init` sind je zwei aneinandergeghängte Unterstriche):"
   ]
  },
  {
   "cell_type": "code",
   "execution_count": null,
   "id": "bd5c4c94-0602-41cb-bee9-887fda70a255",
   "metadata": {},
   "outputs": [],
   "source": [
    "class Person:\n",
    "    def __init__(self, name):\n",
    "        self.name = name\n",
    "        \n",
    "frau = Person(\"Rubinia\")\n",
    "\n",
    "print(frau.name)"
   ]
  },
  {
   "cell_type": "markdown",
   "id": "d7ce7edd-099d-4b43-8d09-7a188d7eb125",
   "metadata": {},
   "source": [
    "## Schlüsselwort `self`\n",
    "\n",
    "Im obigen Beispiel wird das Schlüsselwort `self` zum ersten Mal verwendet.\n",
    "\n",
    "Weil ja im Konstruktor Zugriff auf das in Erstellung befindliche Objekt benötigt wird (bspw. um die Eigenschaften des Objektes festzulegen), muss das Objekt an den Konstruktor übergeben werden. Dies geschieht mit dem Parameter `self`. Somit kann dann innerhalb des Konstruktors das zu erstellende Objekt beliebig manipuliert werden. Unter anderem können Eigenschaften festgelegt werden. Dazu kommt die Punkt-Notation zum Einsatz mit `self.eigenschaft`.\n",
    "\n",
    "Im Beispiel oben ist zusätzlich verwirrlich, dass `name` zweimal vorkommt und dass die beiden Vorkommnisse prinzipiell nichts miteinander zu tun haben: `self.name` ist die Eigenschaft `name` des zu erstellenden Objekts. `name` ist der zweite Parameter, der dem Konstruktor übergeben wird.\n",
    "\n",
    "Bei der Erstellung des Objekts werden die Parameter ab der zweiten Stelle dem Konstruktor übergeben (der erste Parameter des Konstruktors ist ja `self`). Die neue Person kann also in obigem Beispiel mit `Person(\"Rubinia\")` erstellt werden und `\"Rubinia\"` wird dem zweiten Parameter des Kontruktors, also `name` übergeben, es muss nicht etwa `Person(self, \"Rubinia\")` oder ähnlich aufgerufen werden."
   ]
  },
  {
   "cell_type": "markdown",
   "id": "989a902d-5743-4d3a-8cf1-972e528f56aa",
   "metadata": {
    "tags": []
   },
   "source": [
    "<div class=\"exercise\">\n",
    "\n",
    "<img src=\"../../assets/img/dumbbell.png\" class=\"exercise_image\">\n",
    "\n",
    "<span class=\"exercise_label\">Aufgabe</span> \n",
    "\n",
    "Erstelle eine Klasse `Auto`, defniere einen Konstruktor, der die Eigenschaften `marke`, `modell` und `farbe` des Objektes festlegt. Erstelle anschliessend zwei verschiedene Objekte der Klasse `Auto` mit unterschiedlichen Eigenschaften und gib diese Eigenschaften per `print()` Befehl aus.\n",
    "</div>"
   ]
  },
  {
   "cell_type": "code",
   "execution_count": null,
   "id": "f0e631c7-7fd9-4e5c-a9c0-84148a2d5002",
   "metadata": {
    "tags": []
   },
   "outputs": [],
   "source": [
    "# Beginn eigener Code\n",
    "\n",
    "\n",
    "\n",
    "# Ende eigener Code"
   ]
  },
  {
   "cell_type": "markdown",
   "id": "32c5b08c-54e7-4499-8285-6fa23c08162b",
   "metadata": {},
   "source": [
    "***"
   ]
  },
  {
   "cell_type": "markdown",
   "id": "a878243f-2634-4fac-8c60-091d7877c4ec",
   "metadata": {},
   "source": [
    "## Methoden definieren\n",
    "\n",
    "Objekte haben nicht nur Eigenschaften, sondern auch Methoden. Diese können ebenfalls in der Klassendefinition festgelegt werden und anschliessend für die einzelne Instanz der Klasse aufgerufen werden:"
   ]
  },
  {
   "cell_type": "code",
   "execution_count": null,
   "id": "fd65edfe-6dfb-440f-bc29-a0658b11fc49",
   "metadata": {},
   "outputs": [],
   "source": [
    "class Person:\n",
    "    def __init__(self, name, geschlecht):\n",
    "        self.name = name\n",
    "        self.geschlecht = geschlecht\n",
    "        \n",
    "    def guten_tag(self):\n",
    "        if self.geschlecht == \"F\":\n",
    "            print(\"Hallo liebe\", self.name)\n",
    "        elif self.geschlecht == \"M\":\n",
    "            print(\"Hallo lieber\", self.name)\n",
    "        else:\n",
    "            print(\"Hallo liebe*r\", self.name)\n",
    "            \n",
    "frau = Person(\"Casandra\", \"F\")\n",
    "non_binaer = Person(\"Andrea\", \"nicht binär\")\n",
    "\n",
    "frau.guten_tag()\n",
    "non_binaer.guten_tag()"
   ]
  },
  {
   "cell_type": "markdown",
   "id": "ae72a53b-d8e8-4d59-a3e5-288e2fec50c4",
   "metadata": {},
   "source": [
    "Auch bei Methoden ist der jeweils erste Parameter das Objekt selber mit dem Namen `self`."
   ]
  },
  {
   "cell_type": "markdown",
   "id": "2900aaeb-c02d-4d5d-bd86-b30d1e253014",
   "metadata": {
    "tags": []
   },
   "source": [
    "# Abschlussaufgaben"
   ]
  },
  {
   "cell_type": "markdown",
   "id": "990f4f5e-3a0d-48ab-98a5-f787a1981429",
   "metadata": {},
   "source": [
    "<div class=\"exercise\">\n",
    "\n",
    "<img src=\"../../assets/img/dumbbell.png\" class=\"exercise_image\">\n",
    "\n",
    "<span class=\"exercise_label\">Aufgabe</span> \n",
    "\n",
    "Definiere eine eigene Funktion `nth_smallest(numbers, nth)` so, dass sie Folgendes bewirkt:\n",
    "* sie soll die nth-kleinste Nummer aus der Liste `numbers` zurückgeben\n",
    "* beachte, dass die Zahlen in `numbers` mehrfach vorkommen können\n",
    "* sollte keine Lösung existieren (bspw. 8-kleinste Nummer aus 5 Zahlen), soll `None` zurückgegeben werden\n",
    "\n",
    "Beispiel: \n",
    "* `print(nth_smallest([4, 5, 7, 3, 1, 1], 1))` soll eine 1 ausgeben \n",
    "* `print(nth_smallest([4, 5, 7, 3, 1, 1, 3], 2))` soll eine 3 ausgeben\n",
    "* `print(nth_smallest([4, 4, 4, 4, 5], 3))` soll None ausgeben.\n",
    "\n",
    "</div>"
   ]
  },
  {
   "cell_type": "code",
   "execution_count": null,
   "id": "6cafeee7-cda7-4efd-a46e-dffa9579ee36",
   "metadata": {},
   "outputs": [],
   "source": [
    "def nth_smallest(numbers, nth):\n",
    "\n",
    "# Beginn eigener Code\n",
    "\n",
    "\n",
    "\n",
    "# Ende eigener Code\n",
    "\n",
    "print(nth_smallest([4, 5, 7, 3, 1, 1], 1))\n",
    "print(nth_smallest([4, 5, 7, 3, 1, 1, 3], 2))\n",
    "print(nth_smallest([4, 4, 4, 4, 5], 3))"
   ]
  },
  {
   "cell_type": "markdown",
   "id": "a70efc60-1d07-494b-bb7f-3ac79ea66e80",
   "metadata": {},
   "source": [
    "***"
   ]
  },
  {
   "cell_type": "markdown",
   "id": "6f28ee9a-5ad9-4abe-961d-215ebbe58be7",
   "metadata": {},
   "source": [
    "<div class=\"exercise\">\n",
    "\n",
    "<img src=\"../../assets/img/dumbbell.png\" class=\"exercise_image\">\n",
    "\n",
    "<span class=\"exercise_label\">Aufgabe</span> \n",
    "\n",
    "Definiere die Funktion `isbn_dict(keys, values)` so dass aus den zwei vorgegebenen Listen `keys` und `values` mit Hilfe der `zip()` Funktion und einer Dictionary Comprehension ein Dictionary erzeugt wird, das alle keys und values beinhaltet, für die im entsprechenden key der String \"ISBN\" vorkommt. Dieses Dictionary soll dann zurückgegeben werden. Das erwartete Resultat von `print(isbn_dict(keys, values))` ist also: `{'ISBN-10': '3-83627-926-6', 'ISBN-13': '978-3-83627-926-0'}`.\n",
    "\n",
    "</div>"
   ]
  },
  {
   "cell_type": "code",
   "execution_count": null,
   "id": "fc645a12-102c-468c-8cca-175d98ad6f41",
   "metadata": {},
   "outputs": [],
   "source": [
    "keys = [\"ISBN-10\", \"ISBN-13\", \"Auflage\", \"Herausgeber\", \"Erscheinungsjahr\", \"Sprache\", \"Seitenzahl\"]\n",
    "values = [\"3-83627-926-6\", \"978-3-83627-926-0\", \"6.\", \"Rheinwerk Computing\", \"2020\", \"Deutsch\", \"1079\"]\n",
    "\n",
    "def isbn_dict(keys, values):\n",
    "\n",
    "# Beginn eigener Code\n",
    "    \n",
    "\n",
    "\n",
    "# Ende eigener Code\n",
    "\n",
    "print(isbn_dict(keys, values))"
   ]
  },
  {
   "cell_type": "markdown",
   "id": "30861c51-7049-47cc-a902-6e8b6f35f127",
   "metadata": {},
   "source": [
    "***"
   ]
  }
 ],
 "metadata": {
  "interpreter": {
   "hash": "1f249ec925ce4e150f1f00585c0a724a833d5f2a7ba7da4c93b858ce16dfa983"
  },
  "kernelspec": {
   "display_name": "Python 3 (ipykernel)",
   "language": "python",
   "name": "python3"
  },
  "language_info": {
   "codemirror_mode": {
    "name": "ipython",
    "version": 3
   },
   "file_extension": ".py",
   "mimetype": "text/x-python",
   "name": "python",
   "nbconvert_exporter": "python",
   "pygments_lexer": "ipython3",
   "version": "3.9.6"
  },
  "toc-autonumbering": true,
  "toc-showcode": false,
  "toc-showmarkdowntxt": false,
  "toc-showtags": false
 },
 "nbformat": 4,
 "nbformat_minor": 5
}
