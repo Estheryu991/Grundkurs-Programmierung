{
 "cells": [
  {
   "cell_type": "code",
   "execution_count": null,
   "id": "aff358b0-9480-459d-b149-6d577a98c014",
   "metadata": {},
   "outputs": [],
   "source": [
    "%%html\n",
    "\n",
    "<link rel=\"stylesheet\" href=\"../../assets/styles/style.css\">"
   ]
  },
  {
   "cell_type": "markdown",
   "id": "88cf8c45-723a-40b5-ad61-56c1efbc3801",
   "metadata": {},
   "source": [
    "<img src=\"../../assets/img/DN.png\" style=\"float:right;width:150px\">\n",
    "\n",
    "CSS\n",
    "\n",
    "# CSS\n",
    "\n",
    "**CSS** (Cascading Style Sheet) erfüllt die Aufgabe, das Aussehen von Elementen mit bestimmten Funktionen festzulegen. Mit Hilfe von CSS wird also festgelegt, wie beispielsweise schlussendlich eine Überschrift erster Ordnung auszusehen hat. Dies wird als CSS Style bezeichnet."
   ]
  },
  {
   "cell_type": "markdown",
   "id": "88dfe3c8-c919-4ed5-9a84-7630741f9be5",
   "metadata": {},
   "source": [
    "## Trennung von Funktion und Aussehen\n",
    "\n",
    "Die Idee von HTML ist die strikte **Trennung von Funktion und Aussehen**. HTML legt fest, was die Funktion eines Elements ist (bspw. Überschrift oder Paragraph). In HTML selbst wird aber nicht festgelegt, wie diese Elemente grafisch dargestellt werden. Beim `<h1>` Tag ist also grundsätzlich nicht festgelegt, wie eine solche Überschrift erster Stufe auszusehen hat.\n",
    "\n",
    "Dass ein Browser bspw. verschiedene Ordnungen von Überschriften unterschiedlich anzeigt, auch wenn per HTML nur die Funktion, nämlich 'Überschrift', festgelegt wurde und zum Aussehen noch nichts näher spezifiziert wurde, ist der Tatsache geschuldet, dass jeder Browser bestimmte Standardwerte zum Aussehen der verschiedenen HTML Elemente hinterlegt hat. Diese Standardwerte kann man anschauen untersuchen: [Chrome](https://chromium.googlesource.com/chromium/blink/+/master/Source/core/css/html.css), [Firefox](https://wiki.selfhtml.org/wiki/Default-Stylesheet/Firefox).\n",
    "\n",
    "## Besonderheiten von CSS in Jupyter Notebooks\n",
    "\n",
    "Da Jupyter Notebooks selbst im Browser ausgeführt werden und damit im Kern aus HTML und CSS bestehen, kann das Festlegen von CSS Styles unerwartete (und unerwünschte) Nebenwirkungen haben. Wird also beispielsweise der Style für eine Überschrift erster Ordnung (neu) festgelegt, werden alle Überschriften erster Ordnung im gesamten Dokument entsprechend geändert.\n",
    "\n",
    "Falls man solche selbst definierten Styles aus dem Jupyter Interface wieder entfernen möchte, kann man das mit Hilfe des Befehls 'Restart Kernel and Clear All Outputs...' aus dem Menu 'Kernel' erreichen.\n",
    "\n",
    "## CSS Styles festlegen\n",
    "\n",
    "CSS Styles werden innherhalb eines `<style>` Tags festgelegt. Dazu muss zuerst mit einem **CSS Selector** festgelegt werden, auf welche Elemente sich die nachfolgend definierten Styles beziehen sollen. Anschliessend können innerhalb von geschweiften Klammern `{}` verschiedene **Eigenschaften** und ihre **Werte** festgelegt werden, die das Aussehen der entsprechenden Elemente bestimmen:"
   ]
  },
  {
   "cell_type": "code",
   "execution_count": null,
   "id": "f90a232a-9327-45e0-98ea-53ca569ab141",
   "metadata": {},
   "outputs": [],
   "source": [
    "%%HTML\n",
    "\n",
    "<div class=\"html-output\">\n",
    "\n",
    "<style>\n",
    "    h1 {\n",
    "        background-color:darkorange;\n",
    "        border-width: 10px;\n",
    "        border-style: solid;\n",
    "        border-color: green;\n",
    "        padding: 10px;\n",
    "    }\n",
    "</style>\n",
    "<h1>Meine spannende Überschrift</h1>\n",
    "\n",
    "</div>"
   ]
  },
  {
   "cell_type": "markdown",
   "id": "56641663-1245-4b7b-885c-cc6bfba61b73",
   "metadata": {},
   "source": [
    "Der Selektor im obigen Beispiel ist `h1` und betrifft damit alle Überschriften erster Ordnung. Als Eigenschaft ist zum Beispiel die Hintergrundfarbe (`background-color`) mit dem Wert `darkorange` versehen. Wie unschwer erkannt werden kann, sind nach Ausführung der obigen Zelle alle Überschriften erster Ordnung im ganzen Notebook entsprechend verändert. Dies kann wie erwähnt mit einem Kernel Neustart rückgängig gemacht werden.\n",
    "\n",
    "Einen guten Überblick über die Begrifflichkeiten innerhalb von CSS Styles Anweisungen zeigt folgende Grafik von [SELFHTML](https://wiki.selfhtml.org/wiki/CSS/Tutorials/Einstieg/Syntax): <img src=\"https://wiki.selfhtml.org/images/b/b5/CSS-Regelsatz.svg\">"
   ]
  },
  {
   "cell_type": "markdown",
   "id": "8b56c21e-9065-4208-b9ac-3139fa8a4e47",
   "metadata": {},
   "source": [
    "Es gibt eine grosse Anzahl von möglichen CSS Eigenschaften. Um einen Überblick zu gewinnen, sind die entsprechenden Tutorials und Referenzen hilfreich:\n",
    "\n",
    "* W3Schools: [CSS Tutorial](https://www.w3schools.com/css/default.asp), [CSS Referenz](https://www.w3schools.com/cssref/default.asp)\n",
    "* SELFHTML: [CSS Tutorial](https://wiki.selfhtml.org/wiki/CSS), [CSS Referenz](https://wiki.selfhtml.org/wiki/CSS/Eigenschaften)\n",
    "* Mozilla Development Network: [CSS Tutorial](https://developer.mozilla.org/de/docs/Web/CSS), [CSS Referenz](https://developer.mozilla.org/de/docs/Web/CSS/Reference)"
   ]
  },
  {
   "cell_type": "markdown",
   "id": "07fd0b86-c0bd-4273-af86-aa43750f405e",
   "metadata": {},
   "source": [
    "<div class=\"exercise\">\n",
    "\n",
    "<img src=\"../../assets/img/dumbbell.png\" class=\"exercise_image\">\n",
    "\n",
    "<span class=\"exercise_label\">Aufgabe</span>\n",
    "    \n",
    "Erstelle mit Hilfe der oben angegebenen CSS Tutorials oder einer Google Suche einen Anweisungsblock für einen `<h5>` Tag so, dass jede Überschrift erster Ordnung mit einer roten Wellenlinie unterstrichen wird.\n",
    "    \n",
    "Hinweis: In der Suche oder in den Referenzen ist ein wichtiges Stichwort: 'text-decoration'\n",
    "</div>"
   ]
  },
  {
   "cell_type": "code",
   "execution_count": null,
   "id": "1d48c884-2300-4429-96be-c424fc2ffaee",
   "metadata": {},
   "outputs": [],
   "source": [
    "%%html\n",
    "\n",
    "<div class=\"html-output\">\n",
    "\n",
    "<!-- Beginn eigener Code -->\n",
    "\n",
    "\n",
    "\n",
    "<!-- Ende eigener Code -->\n",
    "\n",
    "<h5>Meine rot unterwellte Überschrift</h5>\n",
    "\n",
    "</div>"
   ]
  },
  {
   "cell_type": "markdown",
   "id": "81701b85-1a0e-4b01-ac3c-f8e1833b0eeb",
   "metadata": {},
   "source": [
    "## Klassen und IDs\n",
    "\n",
    "Damit die CSS Styles (und auch JavaScript, siehe später) gezielter auf bestimmte HTML Elemente wirken können, können HTML Tags mit Hilfe von Attributen **Klassen** und **IDs** zugewiesen werden. Klassen und IDs unterscheiden sich dadurch, dass Klassen mehrfach zugewiesen werden können und IDs nur einmal (wie es die Namen entsprechend implizieren)."
   ]
  },
  {
   "cell_type": "markdown",
   "id": "2cfab00f-943e-4b71-a973-a4127c9ccae4",
   "metadata": {},
   "source": [
    "Solange für eine bestimmte Klasse kein spezifisches Styling festgelegt wurde, bewirkt das Zuweisen einer Klasse zu einem HTML Element keine sichtbare Veränderung:"
   ]
  },
  {
   "cell_type": "code",
   "execution_count": null,
   "id": "93f5096c-1236-4558-8f20-77b4d915c229",
   "metadata": {},
   "outputs": [],
   "source": [
    "%%html\n",
    "\n",
    "<div class=\"html-output\">\n",
    "\n",
    "<h1 class=\"myclass\">Meine Überschrift mit Klasse 'myclass'</h1>\n",
    "\n",
    "<p id=\"myid\">Ein Abschnitt mit einer ID 'myid'<p>\n",
    "\n",
    "</div>"
   ]
  },
  {
   "cell_type": "markdown",
   "id": "3324d6a4-6dbb-4ff1-8674-24849ddf3caa",
   "metadata": {},
   "source": [
    "Sobald nun aber zu einer zugewiesenen Klasse auch ein CSS Styling existiert, werden die Änderungen am Aussehen sichtbar. Im nachfolgenden Beispiel ist es aber so, dass die Überschrift `<h1>` ohne zugewiesene Klasse durch das CSS Styling nicht verändert wird, weil dieses durch den Selektor `.fancy` nur auf die Klasse 'fancy' wirkt:"
   ]
  },
  {
   "cell_type": "code",
   "execution_count": null,
   "id": "a401fc5a-5c80-4734-98fd-ca9d8ba0ca9d",
   "metadata": {},
   "outputs": [],
   "source": [
    "%%html\n",
    "\n",
    "<div class=\"html-output\">\n",
    "\n",
    "<style>\n",
    "    .fancy {\n",
    "        background-color:darkorange;\n",
    "        border-width: 10px;\n",
    "        border-style: solid;\n",
    "        border-color: green;\n",
    "        padding: 10px;\n",
    "    }\n",
    "</style>\n",
    "\n",
    "<h1 class=\"fancy\">Meine total abgefahrene Überschrift</h1>\n",
    "<h1>Etwas langweiligere Überschrift</h1>\n",
    "\n",
    "</div>"
   ]
  },
  {
   "cell_type": "markdown",
   "id": "68103157-2d89-4e32-8fd0-2bba4bcf85ca",
   "metadata": {
    "tags": []
   },
   "source": [
    "## Selektoren\n",
    "\n",
    "Es existieren verschiedene Selektoren, um CSS Styles festzulegen:\n",
    "\n",
    "* der Universalselektor `*` wählt alle Elemente aus\n",
    "* der Typselektor `tag` wählt das HTML Element mit dem Namen 'tag' aus\n",
    "* der Klassenselektor `.class` wählt alle Elemente mit der Klasse 'class' aus\n",
    "* der ID-Selektor `#id` wählt das Element mit der ID 'id' aus\n",
    "\n",
    "Es existieren noch diverse weitere Selektoren, auf die wir hier aber nicht weiter eingehen. Mehr Infos dazu bspw. bei [selfhtml](https://wiki.selfhtml.org/wiki/CSS/Selektoren) oder [w3schools](https://www.w3schools.com/cssref/css_selectors.asp)."
   ]
  },
  {
   "cell_type": "markdown",
   "id": "979cacb2-5091-46e2-8714-e0a1ffb7cdc8",
   "metadata": {},
   "source": [
    "## Die CSS Kaskade\n",
    "\n",
    "CSS Styles können an verschiedenen Orten festgelegt werden:\n",
    "* als Standard im Browser hinterlegt\n",
    "* durch die Browser Benutzerin angepasst\n",
    "* durch die Autorin des HTML Quelltextes\n",
    "\n",
    "Ebenso können an einem bestimmten Ort CSS Styles für gewisse Elemente doppelt festgelegt werden. Die Frage ist dann, welcher CSS Style Priorität hat? In diesem Zusammenhang spricht man von der **Kaskade** (das 'C' in CSS steht ja für 'Cascading'):"
   ]
  },
  {
   "cell_type": "code",
   "execution_count": null,
   "id": "f24ea97f-7c5f-4941-9bf2-ad5ed0c02c1b",
   "metadata": {},
   "outputs": [],
   "source": [
    "%%html\n",
    "\n",
    "<div class=\"html-output\">\n",
    "\n",
    "<style>\n",
    "    h5 {\n",
    "        background-color:darkorange;\n",
    "    }\n",
    "    \n",
    "    #my_h5 {\n",
    "        background-color:red;\n",
    "    }\n",
    "</style>\n",
    "\n",
    "<h5 id=\"my_h5\">Ist der Hintergrund nun 'darkorange' oder 'red'?</h1>\n",
    "\n",
    "</div>\n"
   ]
  },
  {
   "cell_type": "markdown",
   "id": "8abff073-70c4-459c-be2b-94801b12f48d",
   "metadata": {},
   "source": [
    "In diesem Fall hat also der CSS Style für die ID `my_h5` die höhere Priorität als der allgemeine Style für die Überschrift 5. Wahrscheinlich wird die Überschrift auch noch rot unterwellt sein, weil dies in einer Zelle weiter oben so festgelegt wurde. Diese gegebene Priorität kann man durch Anwendung des Schlüsselworts `!important` nach der Deklaration verändern:"
   ]
  },
  {
   "cell_type": "code",
   "execution_count": null,
   "id": "c543dafd-e133-4b2d-9474-8653567fece1",
   "metadata": {},
   "outputs": [],
   "source": [
    "%%html\n",
    "\n",
    "<div class=\"html-output\">\n",
    "\n",
    "<style>\n",
    "    h5 {\n",
    "        background-color:darkorange !important;\n",
    "    }\n",
    "    \n",
    "    #my_h5 {\n",
    "        background-color:red;\n",
    "    }\n",
    "</style>\n",
    "\n",
    "<h5 id=\"my_h5\">Ist der Hintergrund nun 'darkorange' oder 'red'?</h1>\n",
    "\n",
    "</div>"
   ]
  },
  {
   "cell_type": "markdown",
   "id": "1fc1ce86-3384-4982-bba1-aa8be3865ebb",
   "metadata": {},
   "source": [
    "Mehr zum Thema CSS Kaskade bei [SELFHTML](https://wiki.selfhtml.org/wiki/CSS/Tutorials/Einstieg/Kaskade) resp. [W3Schools](https://www.w3schools.com/css/css_specificity.asp)."
   ]
  },
  {
   "cell_type": "markdown",
   "id": "06eed3af-fd0e-40a3-b338-2da4c4df2ff7",
   "metadata": {},
   "source": [
    "<div class=\"exercise\">\n",
    "\n",
    "<img src=\"../../assets/img/dumbbell.png\" class=\"exercise_image\">\n",
    "\n",
    "<span class=\"exercise_label\">Aufgabe</span>\n",
    "    \n",
    "Definiere im nachfolgenden HTML Quellcode widersprechende CSS Styles für `<h6>`, für eine Klasse `h6_class` und eine ID `my_h6`. Erstelle nun vier Überschriften mit Ordnung 6, einmal ohne Klasse und ID, einmal nur mit ID, einmal nur mit Klasse und einmal mit Klasse und ID und schaue, welche CSS Styles sich durchsetzen.\n",
    "    \n",
    "</div>"
   ]
  },
  {
   "cell_type": "code",
   "execution_count": null,
   "id": "78ef61a6-65e1-4e6c-b6a9-a03c0e767ec8",
   "metadata": {},
   "outputs": [],
   "source": [
    "%%html\n",
    "\n",
    "<div class=\"html-output\">\n",
    "\n",
    "<!-- Beginn eigener Code -->\n",
    "\n",
    "\n",
    "\n",
    "<!-- Ende eigener Code -->\n",
    "\n",
    "</div>"
   ]
  },
  {
   "cell_type": "markdown",
   "id": "b1c2bd96-1e16-487f-b193-c5430f2f964f",
   "metadata": {},
   "source": [
    "## Die HTML Tags `<div>` und `<span>`\n",
    "\n",
    "Manchmal besteht der Bedarf, ein CSS-Style anzuwenden, der aber nicht auf ein HTML Element mit einer bestimmten Funktion wirken soll, sondern nur eine Layout-Funktion übernehmen soll. Beispielsweise möchte man ein Wort in einem Absatz farblich markieren oder einen ganzen Bereich einer Website mit einem Hintergrund versehen.\n",
    "\n",
    "Dafür existieren in HTML die Tags `<div>` und `<span>`. Den `<div>` Tag beispielsweise wird hier im Jupyter Notebook für alle HTML Zellen verwendet, um diese optisch vom Inhalt abzugrenzen. Der Tag hat dabei rein eine Layout Funktion ohne dem Inhalt eine bestimmte Bedeutung zuzuweisen:"
   ]
  },
  {
   "cell_type": "code",
   "execution_count": null,
   "id": "e3fb3709-1cce-46ad-aced-80383ebd3df4",
   "metadata": {},
   "outputs": [],
   "source": [
    "%%html\n",
    "\n",
    "<div class=\"html-output\">\n",
    "\n",
    "<p>Der Nutzen des obigen 'div' Tags besteht einzig darin, dass mit Hilfe des CSS-Stylings \n",
    "der Klasse 'html-output', der gerenderte Inhalt dieser HTML Zelle eingerückt und umrahmt dargestellt wird.</p>\n",
    "\n",
    "</div>"
   ]
  },
  {
   "cell_type": "markdown",
   "id": "802a661c-dcec-4d1d-b31d-2744ba2cbc32",
   "metadata": {},
   "source": [
    "Wer sich dafür interessiert, wie genau das CSS-Styling der Klasse `html-output` definiert ist, kann das [hier](../../assets/styles/style.css) nachschauen."
   ]
  },
  {
   "cell_type": "markdown",
   "id": "4ab8abdc-b984-4f9f-a106-9f36b5632cbf",
   "metadata": {
    "tags": []
   },
   "source": [
    "## Block-Level und Inline Elemente\n",
    "\n",
    "Grob gesehen gibt es in HTML zwei Arten von Tags. Die **Block-Level** und die **Inline** Tags. Block-Level Elemente werden dabei durch den Browser typischerweize durch einen Zeilenumbruch vom vorhergehenden Element abgetrennt und das nachfolgende Element ebenso. Anders sieht es bei den Inline Elementen aus, die, wie der Name es schon sagt, gut auch innerhalb eines Elements vorkommen können, ohne dieses durch Zeilenumbrüche zu verändern. Ein Beispiel für ein Block Element ist der Paragraph `<p>`. \n",
    "\n",
    "Wenn es nur darum geht, HTML Elemente für die Anwendung von CSS zu erzeugen ohne dass diese eine grundsätzliche semantische Bedeutung haben, dann nutzen wir wie oben erwähnt als Block-Level Element das `<div>` Tag und für Inline Elemente das `<span>` Tag. Nachfolgend ein Ausschnitt aus der Bundesverfassung, in dem das Wort 'Qualitätssicherung' mit Hilfe von CSS optisch hervorgehoben werden soll. Einmal mit einem `<div>` Tag und einmal mit einem `<span>` Tag:"
   ]
  },
  {
   "cell_type": "code",
   "execution_count": null,
   "id": "cc90e35d-d183-4c29-b892-07cef462ea89",
   "metadata": {},
   "outputs": [],
   "source": [
    "%%html\n",
    "\n",
    "<div class=\"html-output\">\n",
    "\n",
    "<style>\n",
    "\n",
    "     #qs_div {\n",
    "        background-color: red;\n",
    "    }\n",
    "\n",
    "</style>\n",
    "\n",
    "<a href=\"https://www.fedlex.admin.ch/eli/cc/1999/404/de#art_63_a\">Artikel 63a, Ziffer 3 aus der Bundesverfassung</a>\n",
    "\n",
    "<p>Bund und Kantone sorgen gemeinsam für die Koordination und für die Gewährleistung der <div id=\"qs_div\">Qualitätssicherung</div> im \n",
    "schweizerischen Hochschulwesen. Sie nehmen dabei Rücksicht auf die Autonomie der Hochschulen und ihre unterschiedlichen \n",
    "Trägerschaften und achten auf die Gleichbehandlung von Institutionen mit gleichen Aufgaben.</p>\n",
    "\n",
    "</div>"
   ]
  },
  {
   "cell_type": "code",
   "execution_count": null,
   "id": "3b0b58de-716c-4860-8ba0-e6a1322e1e7d",
   "metadata": {},
   "outputs": [],
   "source": [
    "%%html\n",
    "\n",
    "<div class=\"html-output\">\n",
    "\n",
    "<style>\n",
    "\n",
    "     #qs_span {\n",
    "        background-color: red;\n",
    "    }\n",
    "\n",
    "</style>\n",
    "\n",
    "<a href=\"https://www.fedlex.admin.ch/eli/cc/1999/404/de#art_63_a\">Artikel 63a, Ziffer 3 aus der Bundesverfassung</a>\n",
    "\n",
    "<p>Bund und Kantone sorgen gemeinsam für die Koordination und für die Gewährleistung der <span id=\"qs_span\">Qualitätssicherung</span> im \n",
    "schweizerischen Hochschulwesen. Sie nehmen dabei Rücksicht auf die Autonomie der Hochschulen und ihre unterschiedlichen \n",
    "Trägerschaften und achten auf die Gleichbehandlung von Institutionen mit gleichen Aufgaben.</p>\n",
    "\n",
    "</div>"
   ]
  },
  {
   "cell_type": "markdown",
   "id": "1e5d2cce-440b-4b2a-9df0-bcb6997908b0",
   "metadata": {},
   "source": [
    "Bei den beiden obigen Beispielen wird klar, was der Unterschied zwischen einem Block-Level und einem Inline Element ist. Im Falle des Block-Level Elements `<div>` werden vom Browser automatisch zwei Zeilenumbrüche eingefügt und die Breite des Elements streckt sich über die gesamte verfügbare Breite, während beim Inline Element `<span>` nur gerade der Hintergrund hinter dem Wort 'Qualitätssicherung' verändert wird. "
   ]
  },
  {
   "cell_type": "markdown",
   "id": "4fedc34a-3723-4e63-b89b-41702b5064ea",
   "metadata": {},
   "source": [
    "## Das CSS Boxmodell\n",
    "\n",
    "Unter dem **CSS Boxmodell** (CSS box model) wird die Idee verstanden, dass viele HTML Elemente in einer sogenannten Box dargestellt werden. Das Aussehen dieser Box und insbesondere die verschiedenen Abständen zwischen Inhalt, Box und weiteren Boxen kann mit CSS auf verschiedenste Weise beeinflusst werden. Eine gute Abbildung des CSS Box Modells liefert Wikipedia:\n",
    "\n",
    "<a href=\"https://en.wikipedia.org/wiki/CSS_box_model\"><img src=\"https://upload.wikimedia.org/wikipedia/commons/3/36/Boxmodell-detail.svg\"></a>.\n",
    "\n"
   ]
  },
  {
   "cell_type": "markdown",
   "id": "5a103106-48ae-4e71-bf2e-94cf28315339",
   "metadata": {},
   "source": [
    "Das eigentliche HTML Element würde in der Mitte im Dunkelroten Bereich zu liegen kommen (bspw. ein Textabschnitt oder ein Bild). Dieses Element kann von einem Rahmen (border) umgeben sein, welcher eine gewisse Breite aufweisen kann. Es kann festgelegt werden, wie viel Abstand das HTML Element vom Rahmen hat (padding). Gleichzeitig kann auch festgelegt werden, wie weit der Rahmen vom umgebenden Element entfernt sein soll (margin). Margin, border und padding können jeweils unabhängig für die vier Seiten der Box festgelegt werden (top, right, bottom, left)."
   ]
  },
  {
   "cell_type": "markdown",
   "id": "4db5541d-a368-4955-9e72-c03219defb0c",
   "metadata": {
    "tags": []
   },
   "source": [
    "Folgendes Youtube Video erklärt den Sachverhalt sehr anschaulich:"
   ]
  },
  {
   "cell_type": "code",
   "execution_count": null,
   "id": "b2f007b9-4161-41cf-b644-6ab464709c99",
   "metadata": {},
   "outputs": [],
   "source": [
    "from IPython.display import YouTubeVideo\n",
    "\n",
    "YouTubeVideo('rIO5326FgPE')"
   ]
  },
  {
   "cell_type": "markdown",
   "id": "bd31d3d4-c9fd-4eac-8c53-5cf4ec0cf5f8",
   "metadata": {},
   "source": [
    "Nachfolgend ein Beispiel mit einem Paragraphen `<p>` als eigentlichem HTML Element, wenn alle Abstände auf null gesetzt sind:"
   ]
  },
  {
   "cell_type": "code",
   "execution_count": null,
   "id": "f4070a14-8ba2-4e3e-b18b-824340371e48",
   "metadata": {},
   "outputs": [],
   "source": [
    "%%html\n",
    "\n",
    "<div class=\"html-output\">\n",
    "\n",
    "<style>\n",
    "    \n",
    "    .box {\n",
    "        margin: 0px !important;\n",
    "        border-width: 0px;\n",
    "        padding: 0px;\n",
    "        width: 300px;\n",
    "        background-color:#fff7bc;\n",
    "    }\n",
    "</style>\n",
    "\n",
    "<p class=\"box\">Die Bären (Ursidae) sind eine Säugetierfamilie aus der Ordnung der Raubtiere (Carnivora). \n",
    "In Abgrenzung zu den Kleinbären (Procyonidae) werden sie auch als Großbären oder Echte Bären \n",
    "bezeichnet. Die Familie umfasst acht Arten und zählt zur Überfamilie der Hundeartigen.</p>\n",
    "\n",
    "</div>"
   ]
  },
  {
   "cell_type": "markdown",
   "id": "fcf22a27-55c1-474b-8807-0493826f7b02",
   "metadata": {},
   "source": [
    "Der kleine Abstand zwischen HTML Element und dem schwarzen Rahmen rührt daher, dass der schwarze Rahmen eine eigene CSS Box bildet (die Definition für die Styles der Klasse 'html-output' sind [hier](../../assets/styles/style.css) zu finden), die über ein padding > 0 verfügt. Wenn dieser Abstand auch verschwinden soll, muss dieses padding ebenfalls auf 0 gesetzt werden:"
   ]
  },
  {
   "cell_type": "code",
   "execution_count": null,
   "id": "c8525040-6941-4550-8e47-c4d0ff12f59b",
   "metadata": {},
   "outputs": [],
   "source": [
    "%%html\n",
    "\n",
    "<div class=\"html-output-2\">\n",
    "\n",
    "<style>\n",
    "    \n",
    "    .html-output-2 {\n",
    "        margin-left:20px;\n",
    "        padding:0px;\n",
    "        border-style:solid;\n",
    "        border-width:1px;\n",
    "        border-color:black;\n",
    "    }\n",
    "    \n",
    "    .box {\n",
    "        margin: 0px !important;\n",
    "        border-width: 0px;\n",
    "        border-style:solid;\n",
    "        border-color:#fec44f;\n",
    "        padding: 0px;\n",
    "        width: 300px;\n",
    "        background-color:#fff7bc;\n",
    "    }\n",
    "</style>\n",
    "\n",
    "<p class=\"box\">Die Bären (Ursidae) sind eine Säugetierfamilie aus der Ordnung der Raubtiere (Carnivora). \n",
    "In Abgrenzung zu den Kleinbären (Procyonidae) werden sie auch als Großbären oder Echte Bären \n",
    "bezeichnet. Die Familie umfasst acht Arten und zählt zur Überfamilie der Hundeartigen.</p>\n",
    "\n",
    "</div>"
   ]
  },
  {
   "cell_type": "markdown",
   "id": "3c0e7b17-d4ed-4685-a84e-44f11a619cc2",
   "metadata": {},
   "source": [
    "Jetzt folgt eine CSS Box mit verschiedenen Werten für margin, border, padding:"
   ]
  },
  {
   "cell_type": "code",
   "execution_count": null,
   "id": "798c82b1-9b54-4dd9-af70-e43850b7555b",
   "metadata": {},
   "outputs": [],
   "source": [
    "%%html\n",
    "\n",
    "<div class=\"html-output\">\n",
    "\n",
    "<style>\n",
    "    \n",
    "    .box {\n",
    "        margin: 20px !important;\n",
    "        border-width: 10px;\n",
    "        border-style:solid;\n",
    "        border-color:#fec44f;\n",
    "        padding: 50px;\n",
    "        width: 300px;\n",
    "        background-color:#fff7bc;\n",
    "    }\n",
    "</style>\n",
    "\n",
    "<p class=\"box\">Die Bären (Ursidae) sind eine Säugetierfamilie aus der Ordnung der Raubtiere (Carnivora). \n",
    "In Abgrenzung zu den Kleinbären (Procyonidae) werden sie auch als Großbären oder Echte Bären \n",
    "bezeichnet. Die Familie umfasst acht Arten und zählt zur Überfamilie der Hundeartigen.</p>\n",
    "\n",
    "</div>"
   ]
  },
  {
   "cell_type": "markdown",
   "id": "3b5ccf3d-4bcc-4d48-830b-4ceeef4e582f",
   "metadata": {},
   "source": [
    "<div class=\"exercise\">\n",
    "\n",
    "<img src=\"../../assets/img/dumbbell.png\" class=\"exercise_image\">\n",
    "\n",
    "<span class=\"exercise_label\">Aufgabe</span>\n",
    "    \n",
    "Passe den nachfolgenden HTML Quellcode so an, dass das gerenderte Resultat dem im Bild gezeigten entspricht.\n",
    "    \n",
    "<img src=\"img/exbox.png\" width=\"800px\">\n",
    "</div>"
   ]
  },
  {
   "cell_type": "code",
   "execution_count": null,
   "id": "d871cd59-f31e-4d8b-9b91-f365375edc31",
   "metadata": {},
   "outputs": [],
   "source": [
    "%%html\n",
    "\n",
    "<div class=\"html-output\">\n",
    "\n",
    "<!-- Beginn eigener Code -->\n",
    "\n",
    "\n",
    "\n",
    "<!-- Ende eigener Code -->\n",
    "\n",
    "<p id=\"exbox\">Die Bären (Ursidae) sind eine Säugetierfamilie aus der Ordnung der Raubtiere (Carnivora). \n",
    "In Abgrenzung zu den Kleinbären (Procyonidae) werden sie auch als Großbären oder Echte Bären \n",
    "bezeichnet. Die Familie umfasst acht Arten und zählt zur Überfamilie der Hundeartigen.</p>\n",
    "\n",
    "</div>"
   ]
  },
  {
   "cell_type": "markdown",
   "id": "d7c117c7-63b9-4265-ab1e-8a6ed38463c1",
   "metadata": {},
   "source": [
    "# Abschlussaufgabe\n",
    "\n",
    "<div class=\"exercise\">\n",
    "\n",
    "<img src=\"../../assets/img/dumbbell.png\" class=\"exercise_image\">\n",
    "\n",
    "<span class=\"exercise_label\">Aufgabe</span>\n",
    "\n",
    "Schau dir nachfolgendes Bild an und versuche die CSS Styles so zu setzen, dass der gegebene HTML Quelltext nach der Renderung möglichst so aussieht, wie das Bild. Die verwendete Schriftart für die Überschriften ist 'Arial', für die lateinischen Begriffe 'Monospace' und für die Paragraphen 'Georgia'. Die verwendeten Farben sind 'salmon' und 'beige'. Frage: Wieso wird für die lateinischen Begriffe der HTML Tag `<span>` und nicht `<div>` verwendet?\n",
    "    \n",
    "Hinweis: Schreibe die CSS Styles für die angegebenen Klassen, nicht direkt für die HTML Tags (sonst wird das Layout von Jupyter Lab komplett geändert).\n",
    "    \n",
    "<img src=\"img/schlussaufgabe.jpg\">\n",
    "    \n",
    "</div>"
   ]
  },
  {
   "cell_type": "code",
   "execution_count": null,
   "id": "7382e2c5-9f1e-4ac1-9c2f-457281a33bf4",
   "metadata": {},
   "outputs": [],
   "source": [
    "%%html\n",
    "\n",
    "<div class=\"html-output\">\n",
    "\n",
    "<!-- Beginn eigener Code -->\n",
    "\n",
    "\n",
    "\n",
    "</style>\n",
    "\n",
    "<!-- Ende eigener Code -->\n",
    "\n",
    "<h1 class=\"h1_class\">Hermelin</h1>\n",
    "        \n",
    "<p class=\"p_class\">Das Hermelin <span class=\"latin\">(Mustela erminea)</span>, auch Großes Wiesel oder Kurzschwanzwiesel genannt, \n",
    "ist eine Raubtierart aus der Familie der Marder <span class=\"latin\">(Mustelidae)</span>. \n",
    "Es ist vor allem wegen seines im Winter weißen Fells bekannt und spielte zeitweilig in der Pelzindustrie eine \n",
    "bedeutende Rolle. Das Hermelin wird innerhalb der Gattung Mustela in die Untergattung Mustela eingeordnet und ist damit \n",
    "unter anderem mit dem Maus- und dem Langschwanzwiesel eng verwandt.</p>\n",
    "        \n",
    "<h2 class=\"h2_class\">Merkmale</h2>\n",
    "        \n",
    "<p class=\"p_class\">Hermeline haben den für viele Marder typischen langgestreckten, schlanken Körper mit eher kurzen Beinen und \n",
    "kurzem Schwanz. Im Sommerfell zeigen sie die für viele Wiesel typische Färbung mit brauner Oberseite und weißer Unterseite. \n",
    "Im Winterfell ist es gänzlich weiß, mit Ausnahme einer schwarzen Schwanzspitze, die es eindeutig vom Mauswiesel \n",
    "unterscheidbar macht. Dieser Fellwechsel findet allerdings nicht in allen Teilen des Verbreitungsgebiets statt. \n",
    "In den wärmeren Bereichen sind Hermeline ganzjährig braun-weiß, im hohen Norden verlieren sie dagegen nie das weiße Winterfell. \n",
    "Die Tiere erreichen eine Kopf-Rumpf-Länge von 17 bis 33 Zentimetern, der Schwanz wird vier bis zwölf Zentimeter lang \n",
    "und ihr Gewicht beträgt 40 bis 360 Gramm. Männchen sind etwas größer und schwerer als Weibchen. Nach dem Mauswiesel ist \n",
    "das Hermelin das zweitkleinste heimische Raubtier.</p>\n",
    "        \n",
    "<h2 class=\"h2_class\">Verbreitungsgebiet und Lebensraum</h2>\n",
    "        \n",
    "<p class=\"p_class\">Das Hermelin ist in den gemäßigten und subarktischen Zonen der Nordhalbkugel verbreitet. Es bewohnt Europa von den \n",
    "Pyrenäen, Alpen und Karpaten nordwärts, Nord- und Zentralasien (einschließlich Japan), Teile Grönlands, Kanada und den \n",
    "Nordrand der Vereinigten Staaten. Eingeschleppt wurde das Hermelin in Neuseeland. In Australien wird vor dem Risiko einer\n",
    "Einschleppung und Etablierung, die jedoch bisher noch nicht erfolgt ist, gewarnt.</p>\n",
    "\n",
    "</div>"
   ]
  }
 ],
 "metadata": {
  "kernelspec": {
   "display_name": "Python 3 (ipykernel)",
   "language": "python",
   "name": "python3"
  },
  "language_info": {
   "codemirror_mode": {
    "name": "ipython",
    "version": 3
   },
   "file_extension": ".py",
   "mimetype": "text/x-python",
   "name": "python",
   "nbconvert_exporter": "python",
   "pygments_lexer": "ipython3",
   "version": "3.9.6"
  },
  "toc-autonumbering": true,
  "toc-showcode": false,
  "toc-showmarkdowntxt": false,
  "toc-showtags": false
 },
 "nbformat": 4,
 "nbformat_minor": 5
}
