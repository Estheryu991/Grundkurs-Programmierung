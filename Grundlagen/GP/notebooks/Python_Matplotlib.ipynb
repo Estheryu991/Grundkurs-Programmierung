{
 "cells": [
  {
   "cell_type": "code",
   "execution_count": null,
   "id": "e6114dbc-a27d-41bc-8019-6b7bae5442e6",
   "metadata": {},
   "outputs": [],
   "source": [
    "%%html\n",
    "\n",
    "<link rel=\"stylesheet\" href=\"../../assets/styles/style.css\">"
   ]
  },
  {
   "cell_type": "markdown",
   "id": "13a32cb4-e76c-4118-a60d-5f72bdb978ec",
   "metadata": {},
   "source": [
    "<img src=\"../../assets/img/DN.png\" style=\"float:right;width:150px\">\n",
    "\n",
    "Python - Matplotlib\n",
    "\n",
    "# Matplotlib\n",
    "\n",
    "[Matplotlib](https://matplotlib.org/) ist ein Modul, welches zur Visualisierung von Daten dient. Matplotlib harmoniert insbesondere mit den Modulen NumPy und Pandas aus der letzten Lektion sehr gut. Matplotlib kann sowohl NumPy Arrays als auch Pandas DataFrames visualisieren.\n",
    "\n",
    "## Grundlegender Aufbau\n",
    "\n",
    "Matplotlib kann man auf sehr unterschiedliche Arten und Weisen benutzen, das macht das Nachvollziehen von Beispielen aus dem Internet zuweilen etwas mühsam. Die einfachste Art und Weise funktioniert folgendermassen:"
   ]
  },
  {
   "cell_type": "code",
   "execution_count": null,
   "id": "5549ef1d-f533-44b5-b4ce-cce2f1e35074",
   "metadata": {},
   "outputs": [],
   "source": [
    "%matplotlib inline\n",
    "\n",
    "import matplotlib.pyplot as plt\n",
    "\n",
    "plt.plot([64, 32, 16, 8, 4, 2, 1])\n",
    "\n",
    "plt.show()"
   ]
  },
  {
   "cell_type": "markdown",
   "id": "c15c21b1-cb94-4296-b561-2e1f5a78a65c",
   "metadata": {},
   "source": [
    "Zuerst muss das Magic Command `%matplotlib inline` ausgeführt werden, damit die Visualisierungen innerhalb der Zelle wiedergegeben werden. Danach wird das Modul `matplotlib.pyplot` unter dem Namen `plt` importiert. Dies ist eine weitverbreitete Konvention. Die Angabe, was denn überhaupt geplottet werden soll wird mit dem Befehl `plt.plot()` gemacht. Dieser Funktion kann eine Liste mit Zahlen übergeben werden. Falls nur eine Liste übergeben wird, interpretiert Matplotlib die Zahlen so, dass sie als y-Werte entlang der x-Achse beginnend mit x = 0 gezeichnet werden. Mit `plt.show()` kann dann schlussendlich der Plot auch angezeigt werden.\n",
    "\n",
    "Werden zwei Listen der Funktion `plt.plot()` übergeben, interpretiert Matplotlib diese als x- und y-Werte:"
   ]
  },
  {
   "cell_type": "code",
   "execution_count": null,
   "id": "e0f67db9-25cb-4ad0-98fc-2db9d3e1f78c",
   "metadata": {},
   "outputs": [],
   "source": [
    "plt.plot([10, 20, 30, 40, 50, 60, 70], [64, 32, 16, 8, 4, 2, 1])\n",
    "plt.show()"
   ]
  },
  {
   "cell_type": "markdown",
   "id": "82e58ce6-ac6c-4c8e-8bd1-ded28dd8bd05",
   "metadata": {},
   "source": [
    "<div class=\"exercise\">\n",
    "\n",
    "<img src=\"../../assets/img/dumbbell.png\" class=\"exercise_image\">\n",
    "\n",
    "<span class=\"exercise_label\">Aufgabe</span> \n",
    "\n",
    "Erstelle einen Plot, der als y-Werte 100 Zufallszahlen zwischen 0 und 100 darstellt. Führe den Quellcode mehrere male aus, um zu prüfen, ob sich die Zufallszahlen und der Plot dementsprechend tatsächlich ändern.\n",
    "\n",
    "<details>\n",
    "<summary>Tipp</summary>\n",
    "    <p>Hinweis: Es gibt verschiedene Möglichkeiten, eine Liste von Zufallszahlen zu erstellen. Nimm am besten die Funktion <code>random.randint()</code> aus dem Modul Numpy, welches es ermöglicht, nicht nur einzelne Zufallszahlen, sondern ganze Listen davon zu erstellen. Eine Beschreibung zu <code>random.randint()</code> findest du <a href=\"https://numpy.org/doc/stable/reference/random/generated/numpy.random.randint.html\">hier</a>.</p>\n",
    "</details>\n",
    "</div>"
   ]
  },
  {
   "cell_type": "code",
   "execution_count": null,
   "id": "43ce8b63-aa7d-4efa-963e-4f261f29a82a",
   "metadata": {},
   "outputs": [],
   "source": [
    "# Beginn eigener Code\n",
    "\n",
    "\n",
    "\n",
    "# Ende eigener Code"
   ]
  },
  {
   "cell_type": "markdown",
   "id": "62c25146-0e04-4409-ad42-f39582685f26",
   "metadata": {},
   "source": [
    "***"
   ]
  },
  {
   "cell_type": "markdown",
   "id": "c62e4664-82ea-4787-98d8-74f049a77399",
   "metadata": {},
   "source": [
    "## Import von interessanteren Daten\n",
    "\n",
    "Um möglichst schnell interessantere Daten zu visualisieren, werden nachfolgend Daten zum Verlauf der Covid19 Pandemie von offizieller Seite aufbereitet. Dafür werden CSV Daten aus dem offiziellen Portal des Bundesamts für Gesundheit geladen und in einem Pandas DataFrame gespeichert. Diese Daten resp. die dazugehörigen Metadaten sind übrigens auch im [Open Data Portal der Schweiz](https://opendata.swiss/de/dataset/covid-19-schweiz) zu finden."
   ]
  },
  {
   "cell_type": "code",
   "execution_count": null,
   "id": "f397844a-d7a9-4997-8f84-54ac7ac4ed03",
   "metadata": {},
   "outputs": [],
   "source": [
    "import numpy as np\n",
    "import pandas as pd\n",
    "import matplotlib.pyplot as plt\n",
    "\n",
    "raw_data = pd.read_csv('https://www.covid19.admin.ch/api/data/20220510-t0vqb3nn/sources/COVID19Cases_geoRegion.csv', sep = ',')\n",
    "\n",
    "# falls Abruf wegen SSL Fehler nicht klappt, Daten einfach lokal nutzen:\n",
    "# raw_data = pd.read_csv('data/covid.csv', sep = ',')"
   ]
  },
  {
   "cell_type": "markdown",
   "id": "cf5b3cd2-ad2a-44f6-93ec-ed147ae1e27f",
   "metadata": {},
   "source": [
    "Um einen Überblick über die Daten zu gewinnen, soll eine Übersicht über die ersten Zeilen und Spalten angezeigt werden."
   ]
  },
  {
   "cell_type": "code",
   "execution_count": null,
   "id": "8d5414a7-86a7-4b9a-8fd1-c6a07227cba4",
   "metadata": {},
   "outputs": [],
   "source": [
    "display(raw_data.head(5))"
   ]
  },
  {
   "cell_type": "markdown",
   "id": "0eb8b991-bbd9-4866-8bf0-cef8d4408e5e",
   "metadata": {},
   "source": [
    "Die interessanten Daten sind in den ersten Spalten zu finden: 'geoRegion' bezeichnet den Kanton resp. die ganze Schweiz, 'datum' bezeichnet den einzelnen Tag und 'entries' ist die gemeldete Anzahl von Covid Infektionen. Um mit diesen Daten besser zu arbeiten, sollen zwei DataFrames erstellt werden, eines mit Angaben zum Kanton Bern, das andere zum Kanton Zürich. Es sollen nur die Spalten 'datum' und 'entries' weiterverwendet werden:"
   ]
  },
  {
   "cell_type": "code",
   "execution_count": null,
   "id": "f89f0c55-e776-4900-8817-72632027d068",
   "metadata": {},
   "outputs": [],
   "source": [
    "# Filtern\n",
    "zh_data = raw_data[raw_data.geoRegion == \"ZH\"]\n",
    "\n",
    "# nur bestimmte Spalten übernehmen \n",
    "zh_data = zh_data[[\"datum\", \"entries\"]]\n",
    "\n",
    "be_data = raw_data[raw_data.geoRegion == \"BE\"]\n",
    "be_data = be_data[[\"datum\", \"entries\"]]\n",
    "\n",
    "display(zh_data.head(5))\n",
    "display(be_data.head(5))"
   ]
  },
  {
   "cell_type": "markdown",
   "id": "7b271fa9-7f71-4832-93e5-7e0b40bd682a",
   "metadata": {},
   "source": [
    "## Line Chart\n",
    "\n",
    "Die wohl fundamentalste Visualisierung ist das Liniendiagramm (Line Chart). Ein Liniendiagramm macht dann Sinn, wenn bestimmte Beobachtungen sich entlang einer kontinuierlichen Grösse verändern. Ein ganz typisches Beispiel ist die Zeitreihenanalyse (Time Series), bei der eine bestimmte Grösse entlang einer Zeitachse betrachtet wird.\n",
    "\n",
    "Eine solche Zeitreihenalayse soll nun mit den Corona Daten durchgeführt werden:"
   ]
  },
  {
   "cell_type": "code",
   "execution_count": null,
   "id": "57aab747-b36b-4240-8cbf-66ee22a5fd11",
   "metadata": {},
   "outputs": [],
   "source": [
    "plt.plot(zh_data[\"entries\"])\n",
    "plt.show()"
   ]
  },
  {
   "cell_type": "markdown",
   "id": "8710afe2-f92a-4974-91be-a152ec1af7b3",
   "metadata": {},
   "source": [
    "'zh_data[\"entries\"]' gibt die Spalte für die Ansteckungen aus dem DataFrame. \n",
    "\n",
    "Dies ist zwar keine Liste, wie folgender Code zeigt:"
   ]
  },
  {
   "cell_type": "code",
   "execution_count": null,
   "id": "61e9e599-cefa-435e-b091-392e35094fb6",
   "metadata": {
    "tags": []
   },
   "outputs": [],
   "source": [
    "type(zh_data[\"entries\"])"
   ]
  },
  {
   "cell_type": "markdown",
   "id": "d44277a9-88e0-4489-b843-b26ff179bba7",
   "metadata": {},
   "source": [
    "Aber wie schon erwähnt, Matplotlib arbeitet gut mit Objekten aus NumPy und Pandas zusammen, deshalb kann hier der Datentyp der `Series` sofort geplottet werden.\n",
    "\n",
    "Wenig hilfreich ist noch die Angabe auf der x-Achse, welches die Zeilenzahl des ursprünglichen DataFrames darstellt. Aber hier soll natürlich das Datum angezeigt werden:"
   ]
  },
  {
   "cell_type": "code",
   "execution_count": null,
   "id": "b52ec632-cec9-4aaa-b7ff-2dc802fcb376",
   "metadata": {},
   "outputs": [],
   "source": [
    "plt.plot(zh_data[\"datum\"], zh_data[\"entries\"])\n",
    "plt.show()"
   ]
  },
  {
   "cell_type": "markdown",
   "id": "e9526070-9e7b-4ecf-8030-e01eeb48469e",
   "metadata": {},
   "source": [
    "Das dauert ziemlich lange und schlussendlich ist die Ausgabe nicht besonders hilfreich. Der Grund dafür ist, dass die Werte von 'Datum' für Menschen natürlich sofort als Datum erkennbar sind, der Computer weiss zuerst aber mal nicht, dass er dies als Datumswerte interpretieren soll. Das muss dem Computer zuerst mitgeteilt werden:"
   ]
  },
  {
   "cell_type": "code",
   "execution_count": null,
   "id": "4835bb15-88bc-42e2-adeb-1e7591299c3c",
   "metadata": {},
   "outputs": [],
   "source": [
    "zh_data[\"datum\"] = pd.to_datetime(zh_data[\"datum\"])\n",
    "zh_data.info()\n",
    "zh_data.head(5)"
   ]
  },
  {
   "cell_type": "markdown",
   "id": "41c65fcc-c3fd-4008-b834-047d4dcabce1",
   "metadata": {},
   "source": [
    "Mit der Funktion `to_datetime()` können die bisherigen Strings in \"echte\" Zeitdaten verwandelt werden. Die Funktion `info()` liefert die Datentypen für jede Spalte eines DataFrames, wo jetzt erkennbar ist, dass die Spalte 'datum' nun ein `datetime64` Objekt ist. Bei der Darstellung über `head()` ist der Unterschied allerdings nicht sichtbar. Wenn jetzt nochmals der Plot gezeichnet wird, passt die Beschriftung der x-Achse:"
   ]
  },
  {
   "cell_type": "code",
   "execution_count": null,
   "id": "5b5e56a6-1fca-48b9-9920-f73886aab827",
   "metadata": {},
   "outputs": [],
   "source": [
    "plt.plot(zh_data[\"datum\"], zh_data[\"entries\"])\n",
    "plt.show()"
   ]
  },
  {
   "cell_type": "markdown",
   "id": "82e27fed-d99e-4769-899f-258b6f62cd5f",
   "metadata": {},
   "source": [
    "Jetzt sollt ein Plot erstellt werden, bei dem gleichzeitig die Zahlen aus Zürich und Bern sichtbar sind:"
   ]
  },
  {
   "cell_type": "code",
   "execution_count": null,
   "id": "70ed6a55-825f-43ba-b07e-704da874407a",
   "metadata": {},
   "outputs": [],
   "source": [
    "be_data[\"datum\"] = pd.to_datetime(be_data[\"datum\"])\n",
    "plt.plot(zh_data[\"datum\"], zh_data[\"entries\"], be_data[\"datum\"], be_data[\"entries\"])\n",
    "plt.show()"
   ]
  },
  {
   "cell_type": "markdown",
   "id": "7347b22c-76d1-4865-a7bf-d712320ce78f",
   "metadata": {},
   "source": [
    "Es ist also möglich, bei der Funktion `plot()` einfach weitere x/y Datenpaare anzugeben, die dann übereinandergelegt gezeichnet werden.\n",
    "\n",
    "Jetzt soll der Plot mit weiteren Zusatzangaben verfeinert werden:"
   ]
  },
  {
   "cell_type": "code",
   "execution_count": null,
   "id": "68a2fb93-2f0d-476e-8cf6-5f62163d507a",
   "metadata": {},
   "outputs": [],
   "source": [
    "plt.plot(zh_data[\"datum\"], zh_data[\"entries\"], be_data[\"datum\"], be_data[\"entries\"])\n",
    "plt.suptitle(\"Covid Infektionen in den Kantonen ZH und BE\")\n",
    "plt.xlabel(\"Datum\")\n",
    "plt.ylabel(\"Anzahl Infektionen\")\n",
    "plt.legend([\"ZH\", \"BE\"])\n",
    "plt.grid(color = \"grey\", linestyle = \"--\", linewidth=1)\n",
    "plt.show()"
   ]
  },
  {
   "cell_type": "markdown",
   "id": "991dda13-640e-4ec6-a64a-634137ac0e03",
   "metadata": {},
   "source": [
    "Die Grösse der ausgegebenen Grafik lässt sich über `plt.rcParams['figure.figsize'] = [x, y]` anpassen:"
   ]
  },
  {
   "cell_type": "code",
   "execution_count": null,
   "id": "ad6fba56-8731-41af-a58f-a3ea7e953d00",
   "metadata": {},
   "outputs": [],
   "source": [
    "plt.rcParams['figure.figsize'] = [12, 8]\n",
    "plt.plot(zh_data[\"datum\"], zh_data[\"entries\"], be_data[\"datum\"], be_data[\"entries\"])\n",
    "plt.suptitle(\"Covid Infektionen in den Kantonen ZH und BE\")\n",
    "plt.xlabel(\"Datum\")\n",
    "plt.ylabel(\"Anzahl Infektionen\")\n",
    "plt.legend([\"ZH\", \"BE\"])\n",
    "plt.grid(color = \"grey\", linestyle = \"--\", linewidth=1)\n",
    "plt.show()"
   ]
  },
  {
   "cell_type": "markdown",
   "id": "672717d3-ac58-4e46-a197-58c894876e0e",
   "metadata": {},
   "source": [
    "Die Grafiken können einfach auf dem Computer gespeichert werden, indem mit 'Shift + Rechtsklick' auf die Grafik geklickt und dann 'Grafik speichern unter...' gewählt wird."
   ]
  },
  {
   "cell_type": "markdown",
   "id": "ec84378d-a68e-4903-b4df-66e25cbdabff",
   "metadata": {},
   "source": [
    "<div class=\"exercise\">\n",
    "\n",
    "<img src=\"../../assets/img/dumbbell.png\" class=\"exercise_image\">\n",
    "\n",
    "<span class=\"exercise_label\">Aufgabe</span> \n",
    "\n",
    "Schau dir die Daten unter [data/linedata.csv](data/linedata.csv) an. Versuche Regelmässigkeiten in den Daten zu erkennen. Zeichne die Daten dann als schön gestaltetes Liniendigramm mit den 'Monat' Werten als x-Achse und den 'Anzahl' Werten als y-Achse. Hast du eine Idee, was die Zahlen abbilden könnten? Schau dir dazu insbesondere die Werte nach September 2001 und die Werte im Frühjahr 2020 an.\n",
    "\n",
    "<details>\n",
    "<summary>Tipp</summary>\n",
    "    <p>Denke daran, die Spalte 'Monat' in echte Datumswerte zu verwandeln.</p>\n",
    "</details>\n",
    "</div>"
   ]
  },
  {
   "cell_type": "code",
   "execution_count": null,
   "id": "878d725f-2fdd-4c32-a628-cfbf1b8c5d16",
   "metadata": {},
   "outputs": [],
   "source": [
    "# Beginn eigener Code\n",
    "\n",
    "\n",
    "\n",
    "# Ende eigener Code"
   ]
  },
  {
   "cell_type": "markdown",
   "id": "35b4e70f-25a8-4f09-9da1-ea2c8e0f552c",
   "metadata": {},
   "source": [
    "Die Zahlen stellen die Anzahl Flugbewegungen (Starts und Landungen) ab den Flughäfen Zürich/Genf/Basel (Summe) dar. Mehr Infos zu diesen Zahlen gibt es [hier](https://www.pxweb.bfs.admin.ch/pxweb/de/px-x-1107020000_101/-/px-x-1107020000_101.px/)."
   ]
  },
  {
   "cell_type": "markdown",
   "id": "a726cb9b-8b9e-4685-8d15-b9ee4d0cb8a8",
   "metadata": {},
   "source": [
    "***"
   ]
  },
  {
   "cell_type": "markdown",
   "id": "34cba77f-9cb2-4888-b66c-72e1e05fb506",
   "metadata": {},
   "source": [
    "## Scatterplot\n",
    "\n",
    "Das **Streudiagramm** ist ein weiterer wichtiger Visualisierungstyp. Es kommt dann zum Einsatz, wenn ein allfälliger Zusammenhang (Korrelation) zwischen zwei Variablen einer Beobachtung untersucht werden soll. Beim Streudiagramm werden Wertepaare in einem x-y Koordinatensystem abgebildet. Die Werte der Variablen stehen dabei nicht in einem kontinuerlichen Zusammenhang (im Gegensatz bspw. zu einer Zeitreihe, wo die verschiedenen x-Werte (Zeiten) in einer Abfolge stehen und es deshalb Sinn macht, eine verbindende Linie zu zeichnen).\n",
    "\n",
    "Nachfolgend sollen Daten zum Geysir \"[Old Faithful](https://de.wikipedia.org/wiki/Old_Faithful)\" im Yellowstone National Park untersucht werden. Eine CSV Datei ist unter [data/old_faithful.csv](data/old_faithful.csv) verfügbar. Diese beinhaltet zwei Spalten. In der einen Spalte ('duration') wird die Dauer eines Ausbruchs in Minuten angegeben, in der zweiten Spalte ('waiting') die anschliessend erfolgte Wartezeit in Minuten bis zum nächsten Ausbruch.\n",
    "\n",
    "Die Frage ist nun, ob diese zwei Grössen in irgendeinem Zusammenhang stehen. Dies kann versucht werden, indem die zwei Spalten angezeigt werden:"
   ]
  },
  {
   "cell_type": "code",
   "execution_count": null,
   "id": "2e6af96b-f165-42c6-9e3d-e3cab4b9cd14",
   "metadata": {},
   "outputs": [],
   "source": [
    "import numpy as np\n",
    "import pandas as pd\n",
    "import matplotlib.pyplot as plt\n",
    "\n",
    "old_faithful = pd.read_csv(\"data/old_faithful.csv\", sep = \";\")\n",
    "\n",
    "display(old_faithful.head(50))"
   ]
  },
  {
   "cell_type": "markdown",
   "id": "63944ac3-7061-41f2-9cc5-3fb0dd30d905",
   "metadata": {},
   "source": [
    "Es ist ziemlich schwierig, eine so grosse Anzahl Zahlen auf einen Blick zu erfassen und Muster zu erkennen. Viel einfacher geht es mit einer Visualisierung:"
   ]
  },
  {
   "cell_type": "code",
   "execution_count": null,
   "id": "d7fb4c9b-565c-416a-a75c-80fe3da00da8",
   "metadata": {},
   "outputs": [],
   "source": [
    "plt.scatter(old_faithful[\"duration\"], old_faithful[\"waiting\"])\n",
    "plt.show()"
   ]
  },
  {
   "cell_type": "markdown",
   "id": "f1d6beb0-e573-460d-8980-acf4f4af3a77",
   "metadata": {},
   "source": [
    "Mit diesem Streuplot wird sofort klar, dass es zwei \"Cluster\" gibt, die sich dadurch auszeichnen, dass bei einem kurzen Ausbruch tendentiell eine kurze Wartezeit folgt, während nach einem langen Ausbruch auch eine lange Wartezeit folgt."
   ]
  },
  {
   "cell_type": "markdown",
   "id": "4245937f-da33-4154-a897-980dc7b7a078",
   "metadata": {},
   "source": [
    "Sollen bei einem Streudiagramm mehrere Datensätze gleichzeitig in einem Diagramm abgebildet werden, kann die `plt.scatter()` Funktion einfach mehrmals mit unterschiedlichen Daten aufgerufen werden. Innerhalb der gleichen Zelle werden dann alle Daten in einem Diagramm dargestellt."
   ]
  },
  {
   "cell_type": "markdown",
   "id": "0437e85f-add4-496c-a055-591dd8003677",
   "metadata": {},
   "source": [
    "# Schlussaufgabe\n",
    "\n",
    "<div class=\"exercise\">\n",
    "\n",
    "<img src=\"../../assets/img/dumbbell.png\" class=\"exercise_image\">\n",
    "\n",
    "<span class=\"exercise_label\">Aufgabe</span> \n",
    "\n",
    "Erstelle ein verfeinertes Streudiagramm basierend auf den [Old Faithful Daten](data/old_faithful.csv). Und zwar sollen die beiden Cluster farblich unterschieden werden. Nimm eine sinnvolle Ausbruchszeit, um die Daten in kurze resp. lange Ausbrüche zu gliedern. Beschrifte ausserdem dein Diagramm und zeichne ein Gitter hinter die Daten.\n",
    "</div>"
   ]
  },
  {
   "cell_type": "code",
   "execution_count": null,
   "id": "f7d6ce4b-e4c5-48b0-831c-b9329b8d06a5",
   "metadata": {},
   "outputs": [],
   "source": [
    "# Beginn eigener Code\n",
    "\n",
    "\n",
    "\n",
    "# Ende eigener Code"
   ]
  },
  {
   "cell_type": "markdown",
   "id": "e78c4464-5996-40b0-859c-f5cb96d6e80e",
   "metadata": {},
   "source": [
    "***"
   ]
  },
  {
   "cell_type": "markdown",
   "id": "c51ec808",
   "metadata": {},
   "source": [
    "# Credits\n",
    "\n",
    "* [Daten zu Flugbewegungen](https://www.pxweb.bfs.admin.ch/pxweb/de/px-x-1107020000_101/-/px-x-1107020000_101.px/)\n",
    "* [Old Faithful Daten](https://www.stat.cmu.edu/~larry/all-of-statistics/=data/faithful.dat)\n"
   ]
  }
 ],
 "metadata": {
  "interpreter": {
   "hash": "1f249ec925ce4e150f1f00585c0a724a833d5f2a7ba7da4c93b858ce16dfa983"
  },
  "kernelspec": {
   "display_name": "Python 3 (ipykernel)",
   "language": "python",
   "name": "python3"
  },
  "language_info": {
   "codemirror_mode": {
    "name": "ipython",
    "version": 3
   },
   "file_extension": ".py",
   "mimetype": "text/x-python",
   "name": "python",
   "nbconvert_exporter": "python",
   "pygments_lexer": "ipython3",
   "version": "3.9.6"
  },
  "toc-autonumbering": true,
  "toc-showcode": false,
  "toc-showmarkdowntxt": false,
  "toc-showtags": false
 },
 "nbformat": 4,
 "nbformat_minor": 5
}
